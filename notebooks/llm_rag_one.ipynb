{
 "cells": [
  {
   "cell_type": "code",
   "execution_count": 5,
   "metadata": {},
   "outputs": [
    {
     "data": {
      "text/plain": [
       "True"
      ]
     },
     "execution_count": 5,
     "metadata": {},
     "output_type": "execute_result"
    }
   ],
   "source": [
    "from dotenv import load_dotenv\n",
    "load_dotenv()"
   ]
  },
  {
   "cell_type": "code",
   "execution_count": 6,
   "metadata": {},
   "outputs": [],
   "source": [
    "from langchain_community.document_loaders import PyPDFLoader\n",
    "\n",
    "def load_pdf_data(pdf_path):\n",
    "    \"\"\"\n",
    "    this function loads text data from pdf file\n",
    "    \"\"\"\n",
    "    loader = PyPDFLoader(file_path=pdf_path)\n",
    "    documents = loader.load()\n",
    "    return documents"
   ]
  },
  {
   "cell_type": "code",
   "execution_count": 7,
   "metadata": {},
   "outputs": [],
   "source": [
    "\n",
    "anti_religious = safe_load_pdf_data(pdf_path='/Users/sayo/personal_projects/Usafe_bot/data/anti_religious_def.pdf')\n",
    "gender_lgbt = safe_load_pdf_data(pdf_path='/Users/sayo/personal_projects/Usafe_bot/data/gender_lgbt_def.pdf')\n",
    "general = safe_load_pdf_data(pdf_path='/Users/sayo/personal_projects/Usafe_bot/data/general.pdf')\n",
    "racist = safe_load_pdf_data(pdf_path='/Users/sayo/personal_projects/Usafe_bot/data/racist_def.pdf')\n",
    "\n"
   ]
  },
  {
   "cell_type": "code",
   "execution_count": 8,
   "metadata": {},
   "outputs": [],
   "source": [
    "from langchain_text_splitters import RecursiveCharacterTextSplitter\n",
    "\n",
    "def split_documents(documents, chunk_size=800, chunk_overlap=80):\n",
    "    \"\"\"\n",
    "    this function splits documents into chunks of given size and overlap\n",
    "    \"\"\"\n",
    "    text_splitter = RecursiveCharacterTextSplitter(\n",
    "        chunk_size=chunk_size,\n",
    "        chunk_overlap=chunk_overlap\n",
    "    )\n",
    "    chunks = text_splitter.split_documents(documents=documents)\n",
    "    return chunks"
   ]
  },
  {
   "cell_type": "code",
   "execution_count": 10,
   "metadata": {},
   "outputs": [
    {
     "name": "stdout",
     "output_type": "stream",
     "text": [
      "number of chunks: 355\n"
     ]
    }
   ],
   "source": [
    "# Split each loaded document into chunks\n",
    "anti_religious_chunks = split_documents(anti_religious)\n",
    "gender_lgbt_chunks = split_documents(gender_lgbt)\n",
    "general_chunks = split_documents(general)\n",
    "racist_chunks = split_documents(racist)\n",
    "\n",
    "total_chunks = len(general_chunks) + len(racist_chunks) + len(gender_lgbt_chunks) + len(anti_religious_chunks)\n",
    "print(f\"number of chunks: {total_chunks}\")"
   ]
  },
  {
   "cell_type": "code",
   "execution_count": 11,
   "metadata": {},
   "outputs": [],
   "source": [
    "all_chunks = anti_religious_chunks + gender_lgbt_chunks + general_chunks + racist_chunks"
   ]
  },
  {
   "cell_type": "code",
   "execution_count": 12,
   "metadata": {},
   "outputs": [],
   "source": [
    "from langchain_huggingface import HuggingFaceEmbeddings\n",
    "from langchain_community.vectorstores import FAISS\n",
    "\n",
    "def create_embedding_vector_db(chunks, db_name):\n",
    "    \"\"\"\n",
    "    this function uses the open-source embedding model HuggingFaceEmbeddings \n",
    "    to create embeddings and store those in a vector database called FAISS, \n",
    "    which allows for efficient similarity search\n",
    "    \"\"\"\n",
    "    # instantiate embedding model\n",
    "    embedding = HuggingFaceEmbeddings(\n",
    "        model_name='sentence-transformers/all-mpnet-base-v2'\n",
    "    )\n",
    "    # create the vector store \n",
    "    vectorstore = FAISS.from_documents(\n",
    "        documents=chunks,\n",
    "        embedding=embedding\n",
    "    )\n",
    "    # save vector database locally\n",
    "    vectorstore.save_local(f\"./vector_databases/vector_db_{db_name}\")"
   ]
  },
  {
   "cell_type": "code",
   "execution_count": 13,
   "metadata": {},
   "outputs": [
    {
     "name": "stderr",
     "output_type": "stream",
     "text": [
      "/Users/sayo/personal_projects/Usafe_bot/.venv/lib/python3.11/site-packages/sentence_transformers/cross_encoder/CrossEncoder.py:13: TqdmWarning: IProgress not found. Please update jupyter and ipywidgets. See https://ipywidgets.readthedocs.io/en/stable/user_install.html\n",
      "  from tqdm.autonotebook import tqdm, trange\n"
     ]
    }
   ],
   "source": [
    "create_embedding_vector_db(chunks=all_chunks, db_name='usafe_combined')"
   ]
  },
  {
   "cell_type": "code",
   "execution_count": 14,
   "metadata": {},
   "outputs": [],
   "source": [
    "def retrieve_from_vector_db(vector_db_path):\n",
    "    \"\"\"\n",
    "    this function spits out a retriever object from a local vector database\n",
    "    \"\"\"\n",
    "    # instantiate embedding model\n",
    "    embeddings = HuggingFaceEmbeddings(\n",
    "        model_name='sentence-transformers/all-mpnet-base-v2'\n",
    "    )\n",
    "    react_vectorstore = FAISS.load_local(\n",
    "        folder_path=vector_db_path,\n",
    "        embeddings=embeddings,\n",
    "        allow_dangerous_deserialization=True\n",
    "    )\n",
    "    retriever = react_vectorstore.as_retriever()\n",
    "    return retriever"
   ]
  },
  {
   "cell_type": "code",
   "execution_count": 15,
   "metadata": {},
   "outputs": [],
   "source": [
    "combined_retriever = retrieve_from_vector_db(vector_db_path='./vector_databases/vector_db_usafe_combined')"
   ]
  },
  {
   "cell_type": "code",
   "execution_count": 16,
   "metadata": {},
   "outputs": [
    {
     "data": {
      "text/plain": [
       "langchain_core.vectorstores.base.VectorStoreRetriever"
      ]
     },
     "execution_count": 16,
     "metadata": {},
     "output_type": "execute_result"
    }
   ],
   "source": [
    "type(combined_retriever)"
   ]
  },
  {
   "cell_type": "code",
   "execution_count": 17,
   "metadata": {},
   "outputs": [
    {
     "name": "stdout",
     "output_type": "stream",
     "text": [
      "\n",
      "   Usafe ChatBot Guide:\n",
      "\n",
      "   Initial Introduction:\n",
      "   Introduce Usafe to the user. Explain that their information is confidential and encourage them to share what hate crime happened to them. Ensure the message is supportive and non-judgmental because they must be traumatized. Don't be too long, be concise and to the point.\n",
      "\n",
      "   Fallback Response:\n",
      "   Provide a supportive fallback response if the user’s input is unclear or doesn’t clearly indicate a hate crime. Acknowledge their trust, ask for additional information, and offer general guidance if needed.\n",
      "   Add that if they are unsure, they can ask for more information or help from a human. Explain you are a bot and sometimes you don't grasp the full context.\n",
      "\n",
      "   Experience Acknowledgment:\n",
      "   Acknowledge the user's experience empathetically. Based on the input crime type, describe the type of hate crime they may have experienced: Gender-based hate crime involves discrimination or violence directed at individuals based on gender identity or sexual orientation.. Offer the user options (as a clickable list) for next steps, such as reporting the crime, understanding their rights, connecting with local support, or requesting additional information.\n",
      "\n",
      "   Reporting a Hate Crime:\n",
      "   Explain the process of reporting a gender-based at a Berlin police station. Include the German definitions of a hate crime: To report a gender-based hate crime, gather evidence, contact local law enforcement, and reach out to support organizations., and provide step-by-step instructions to help the user file a report. Tailor the response with relevant information based on provided hate crime definitions and reporting guidelines.\n",
      "\n",
      "   Understanding Rights:\n",
      "   Explain the user’s rights based on the type of hate crime they reported. Include relevant laws and protections that apply in Germany: Legal protections and penalties for gender-based hate crimes in Germany include.... Tailor the information based on the crime type and provided legal definitions.\n",
      "\n",
      "   Supportive Resources:\n",
      "   Provide a list of resources for support, including counseling, legal aid, and local community groups: Available support includes local LGBTQ+ organizations, mental health hotlines, and shelters.. Emphasize confidentiality and offer clear, accessible options to meet the user's needs.\n",
      "\n",
      "   Communication Style:\n",
      "   Ensure a direct, empathetic approach in all responses, prioritizing concise, supportive, and practical guidance. They should feel heard, understood, and empowered to take the next steps in addressing their experience as trauma survivors.\n",
      "   \n"
     ]
    }
   ],
   "source": [
    "with open('/Users/sayo/personal_projects/Usafe_bot/data/usafe_prompt.txt', 'r') as file:\n",
    "    user_prompt = file.read()\n",
    "\n",
    "print(user_prompt)"
   ]
  },
  {
   "cell_type": "markdown",
   "metadata": {},
   "source": [
    "## Generation "
   ]
  },
  {
   "cell_type": "markdown",
   "metadata": {},
   "source": [
    "[`create_stuff_documents_chain`](https://api.python.langchain.com/en/latest/chains/langchain.chains.combine_documents.stuff.create_stuff_documents_chain.html#langchain.chains.combine_documents.stuff.create_stuff_documents_chain)\n",
    "\n",
    "- takes a list of documents and formats them all into a prompt, then passes that prompt to an LLM\n",
    "- passes ALL documents, so you should make sure it fits within the context window of the LLM being used"
   ]
  },
  {
   "cell_type": "markdown",
   "metadata": {},
   "source": [
    "[`create_retrieval_chain`](https://api.python.langchain.com/en/latest/chains/langchain.chains.retrieval.create_retrieval_chain.html#langchain.chains.retrieval.create_retrieval_chain)\n",
    "\n",
    "- takes in a user inquiry, which is then passed to the retriever to fetch relevant documents\n",
    "- those documents (and original inputs) are then passed to an LLM to generate a response"
   ]
  },
  {
   "cell_type": "code",
   "execution_count": 18,
   "metadata": {},
   "outputs": [],
   "source": [
    "from langchain import hub\n",
    "from langchain.chains.combine_documents import create_stuff_documents_chain\n",
    "from langchain.chains.retrieval import create_retrieval_chain"
   ]
  },
  {
   "cell_type": "code",
   "execution_count": 19,
   "metadata": {},
   "outputs": [],
   "source": [
    "def connect_chains(retriever):\n",
    "    \"\"\"\n",
    "    this function connects stuff_documents_chain with retrieval_chain\n",
    "    \"\"\"\n",
    "    stuff_documents_chain = create_stuff_documents_chain(\n",
    "        llm=llm,\n",
    "        prompt=hub.pull(\"langchain-ai/retrieval-qa-chat\")\n",
    "    )\n",
    "    retrieval_chain = create_retrieval_chain(\n",
    "        retriever=retriever,\n",
    "        combine_docs_chain=stuff_documents_chain\n",
    "    )\n",
    "    return retrieval_chain"
   ]
  },
  {
   "cell_type": "code",
   "execution_count": 20,
   "metadata": {},
   "outputs": [],
   "source": [
    "import warnings\n",
    "warnings.filterwarnings(\"ignore\")\n",
    "from langchain_groq import ChatGroq\n",
    "\n",
    "llm = ChatGroq(\n",
    "    model=\"llama3-8b-8192\",\n",
    "    temperature=0.02,\n",
    "    max_tokens=None,\n",
    "    timeout=None,\n",
    "    max_retries=2\n",
    ")"
   ]
  },
  {
   "cell_type": "code",
   "execution_count": 21,
   "metadata": {},
   "outputs": [],
   "source": [
    "react_retrieval_chain = connect_chains(combined_retriever)"
   ]
  },
  {
   "cell_type": "code",
   "execution_count": 31,
   "metadata": {},
   "outputs": [],
   "source": [
    "def print_output(\n",
    "    inquiry,\n",
    "    retrieval_chain=react_retrieval_chain\n",
    "):\n",
    "    result = retrieval_chain.invoke({\"input\": inquiry})\n",
    "    print(result['answer'].strip(\"\\n\"))"
   ]
  },
  {
   "cell_type": "code",
   "execution_count": 32,
   "metadata": {},
   "outputs": [
    {
     "name": "stdout",
     "output_type": "stream",
     "text": [
      "Based on the provided context, here are some examples of racist content:\n",
      "\n",
      "1. Racist insults: Several instances of people being subjected to racist insults, including towards an Iraqi woman and her children, an Eritrean man, a Nigerian man, and three men from India.\n",
      "2. Physical violence: Dogs being unleashed on an Iraqi woman and her children, resulting in minor injuries to the children. A person seeking asylum being beaten and requiring medical treatment. A man being punched in the face outside a restaurant.\n",
      "3. Xenophobic insults: A taxi driver of Polish origin being subjected to xenophobic insults and kicked by a customer. A man being subjected to xenophobic insults and death threats by a group wielding a knife.\n",
      "4. Swastika graffiti: The windows and facade of a police station being vandalized with swastika graffiti.\n",
      "5. Vandalism: A house with a poster denouncing racism being vandalized with swastika and neo-Nazi graffiti.\n",
      "6. Racist and anti-Semitic messages: Racist and anti-Semitic messages being spray-painted on a wall.\n",
      "7. Vandalized movie poster: A movie poster being vandalized with anti-Semitic and racist inscriptions.\n",
      "\n",
      "These examples illustrate the various forms of racist content that have been reported, including verbal and physical abuse, vandalism, and hate speech.\n"
     ]
    }
   ],
   "source": [
    "print_output(\"Please provide information about racist content.\")"
   ]
  },
  {
   "cell_type": "code",
   "execution_count": 35,
   "metadata": {},
   "outputs": [
    {
     "name": "stdout",
     "output_type": "stream",
     "text": [
      "{'input': 'Please provide information about racist content.', 'context': [Document(metadata={'source': '/Users/sayo/personal_projects/Usafe_bot/data/racist_def.pdf', 'page': 5}, page_content='-\\nAn\\nIraqi\\nwoman\\nand\\nher\\ntwo\\nchildren\\nwere\\nsubjected\\nto\\nracist\\ninsults\\nand\\nhad\\nthree\\ndogs\\nunleashed\\non\\nthem\\nby\\na\\ngroup.\\nThe\\ndogs\\nknocked\\nthe\\nchildren\\nover,\\nresulting\\nin\\nminor\\ninjuries.\\n-\\nA\\nperson\\nseeking\\nasylum\\nwas\\nsubjected\\nto\\nracist\\ninsults\\nand\\nbeaten\\nby\\na\\ngroup.\\nThe\\nvictim\\nsustained\\ninjuries\\nand\\nrequired\\nmedical\\ntreatment.\\n-\\nAn\\nEritrean\\nman\\nwas\\nsubjected\\nto\\nracist\\ninsults\\nand\\npunched\\nin\\nthe\\nface\\noutside\\na\\nrestaurant.'), Document(metadata={'source': '/Users/sayo/personal_projects/Usafe_bot/data/racist_def.pdf', 'page': 6}, page_content='-\\nThree\\nmen\\nwere\\nbeaten\\nby\\na\\nsecurity\\nguard\\nat\\na\\nrestaurant\\nafter\\none\\nof\\nthe\\nvictims\\nwas\\nsubjected\\nto\\nracist\\ninsults\\nby\\nthe\\nsame\\nperpetrator.\\nTwo\\nof\\nthe\\nvictims\\nsustained\\ninjuries.\\n-\\nTwo\\nwomen\\nwere\\nknocked\\nto\\nthe\\nground\\nand\\npunched\\nin\\nthe\\nface\\nby\\na\\npasser-by\\ndue\\nto\\nthe\\ncolour\\nof\\ntheir\\nskin.\\nOne\\nvictim\\nsustained\\nleg\\nand\\nhead\\ninjuries.\\n-\\nA\\ntaxi\\ndriver\\nof\\nPolish\\norigin\\nwas\\nsubjected\\nto\\nxenophobic\\ninsults\\nand\\nkicked\\nby\\na\\ncustomer.\\nThe\\nperpetrator\\nthen\\nsubjected\\nthe\\npolice\\nofficer\\ninvestigating\\nthe\\nincident\\nto\\nneo-Nazi\\nthreats,\\ninsults\\nand\\ngestures.\\n-\\nTwo\\nteenage\\nboys\\nwere\\nsubjected\\nto\\nracist\\ninsults\\nand\\nthreatened\\nwith\\na\\nknife.\\n-\\nA\\nwoman\\nwas\\nspat\\non\\nin\\nthe\\nface\\nby\\na\\npasser-by\\nin\\nthe\\nstreet.\\n-\\nParticipants\\nof\\nan\\nevent\\nheld\\nto\\ncommemorate\\nthe\\nArmenian\\ngenocide\\nat\\na\\ncathedral\\nwere\\nsubjected\\nto'), Document(metadata={'source': '/Users/sayo/personal_projects/Usafe_bot/data/racist_def.pdf', 'page': 1}, page_content='with\\na\\nchild\\nwas\\nsubjected\\nto\\nracist\\ninsults\\nand\\nthreatened\\nwith\\na\\nknife\\non\\na\\ntrain.\\nThe\\nperpetrator\\nwas\\narrested.\\n-\\nThe\\nwindows\\nand\\nfacade\\nof\\na\\npolice\\nstation\\nwere\\nvandalized\\nwith\\nswastika\\ngraffiti.\\n-\\nA\\nhouse\\nwith\\na\\nposter\\ndenouncing\\nracism\\nwas\\nvandalized\\nwith\\nswastika\\nand\\nneo-Nazi\\ngraffiti.\\n-\\nA\\nman\\nof\\nNigerian\\norigin\\nwas\\nsubjected\\nto\\nracist\\ninsults\\nand\\nhit\\nin\\nthe\\nstomach\\nin\\na\\nsupermarket.\\nThe\\nvictim\\nsustained\\nabdominal\\ninjuries.\\n-\\nA\\nman\\nwas\\nsubjected\\nto\\nxenophobic\\ninsults\\nand\\ndeath\\nthreats\\nby\\na\\ngroup\\nwielding\\na\\nknife.\\n-\\nA\\nmale\\ntaxi\\ndriver\\nof\\nIranian\\norigin\\nwas\\nsubjected\\nto\\nxenophobic\\ninsults\\nand\\ndeath\\nthreats.\\n-\\nThree\\nmen\\nfrom\\nIndia\\nwere\\nsubjected\\nto\\nxenophobic\\nand\\nracist\\ninsults,\\nbeaten\\nand\\nkicked\\nby\\na\\ngroup.\\nAn\\ninvestigation\\nwas\\nopened\\ninto\\nthe\\nincident.\\n-\\nA\\ntaxi\\ndriver\\nof\\nSri\\nLankan'), Document(metadata={'source': '/Users/sayo/personal_projects/Usafe_bot/data/anti_religious_def.pdf', 'page': 4}, page_content='Three\\nother\\nyoung\\nwomen\\nat\\nthe\\nscene\\nwere\\nalso\\nsubjected\\nto\\nracist\\ninsults\\nby\\nthe\\nsame\\nperpetrator.\\n-\\nA\\nwoman\\nwearing\\na\\nheadscarf\\nwas\\nhit\\non\\nthe\\nhead\\nand\\nsubjected\\nto\\nracist\\ninsults\\nby\\na\\nman\\nwho\\ntried\\nto\\ntear\\noff\\nher\\nheadscarf\\nand\\nperformed\\na\\nNazi\\nsalute.\\n-\\nA\\n14-year-old\\ngirl\\nwearing\\na\\nniqab\\nwas\\npunched\\nin\\nthe\\nface\\nand\\nsubjected\\nto\\nracist\\ninsults\\nby\\na\\nman\\nat\\na\\nbus\\nstop.\\n-\\nAn\\nIsraeli\\ntourist\\nand\\nhis\\ndaughter\\nwere\\nsubjected\\nto\\nanti-Semitic\\ninsults,\\nthreatened\\nand\\nassaulted\\nby\\na\\ngroup.\\n-\\nTwo\\nIsraeli\\nmen\\ncarrying\\nan\\nIsraeli\\nflag\\nwere\\ninsulted,\\nthreatened\\nand\\nspat\\non\\nby\\na\\ngroup\\nduring\\na\\nfootball\\nmatch.\\n-\\nRacist\\nand\\nanti-Semitic\\nmessages\\nwere\\nspray\\npainted\\non\\na\\nwall.\\n-\\nA\\nmovie\\nposter\\nwas\\nvandalized\\nwith\\nanti-Semitic\\nand\\nracist\\ninscriptions.\\n-\\nA\\nman\\nwas\\npunched\\nin\\nthe\\nface\\nin\\na\\nrestaurant\\nafter')], 'answer': 'Based on the provided context, here are some examples of racist content:\\n\\n1. Racist insults: Several instances of people being subjected to racist insults, including towards an Iraqi woman and her children, an Eritrean man, a Nigerian man, and three men from India.\\n2. Physical violence: Dogs being unleashed on an Iraqi woman and her children, resulting in minor injuries to the children. A person seeking asylum being beaten and requiring medical treatment. A man being punched in the face outside a restaurant.\\n3. Xenophobic insults: A taxi driver of Polish origin being subjected to xenophobic insults and kicked by a customer. A man being subjected to xenophobic insults and death threats by a group wielding a knife.\\n4. Swastika graffiti: The windows and facade of a police station being vandalized with swastika graffiti.\\n5. Vandalism: A house with a poster denouncing racism being vandalized with swastika and neo-Nazi graffiti.\\n6. Racist and anti-Semitic messages: Racist and anti-Semitic messages being spray-painted on a wall.\\n7. Vandalized movie poster: A movie poster being vandalized with anti-Semitic and racist inscriptions.\\n\\nThese examples illustrate the various forms of racist content that have been reported, including verbal and physical abuse, vandalism, and hate speech.'}\n"
     ]
    }
   ],
   "source": [
    "def print_output(inquiry, retrieval_chain=react_retrieval_chain):\n",
    "    result = retrieval_chain.invoke({\"input\": inquiry})\n",
    "    print(result)\n",
    "\n",
    "# Example usage\n",
    "print_output(\"Please provide information about racist content.\")"
   ]
  },
  {
   "cell_type": "code",
   "execution_count": 50,
   "metadata": {},
   "outputs": [
    {
     "name": "stdout",
     "output_type": "stream",
     "text": [
      "User Inquiry: Please provide information about xenophobic assault.\n",
      "\n",
      "Answer:\n",
      " Based on the provided context, here are some key points about xenophobic assault:\n",
      "\n",
      "1. Xenophobic assault: Xenophobic assault refers to physical or verbal attacks on individuals based on their nationality, ethnicity, or perceived foreignness.\n",
      "2. Frequency: Xenophobic assaults are a recurring issue, with multiple incidents reported in the provided context.\n",
      "3. Victims: The victims of xenophobic assaults are often asylum seekers, refugees, or individuals from diverse ethnic backgrounds.\n",
      "4. Perpetrators: The perpetrators of xenophobic assaults are often individuals with a history of hate crimes or racist behavior.\n",
      "5. Methods: Xenophobic assaults can take various forms, including physical violence, verbal abuse, and threats.\n",
      "6. Locations: Xenophobic assaults can occur in various locations, such as communal kitchens, train stations, sports centers, and streets.\n",
      "7. Injuries: Victims of xenophobic assaults may sustain minor or serious injuries, including facial injuries, broken bones, and psychological trauma.\n",
      "8. Police response: In most cases, the police have opened investigations into potential hate crimes, indicating a commitment to addressing xenophobic assaults.\n",
      "\n",
      "It's essential to recognize that xenophobic assaults are a serious issue that can have long-lasting effects on individuals and communities. It's crucial to promote tolerance, understanding, and respect for diversity to prevent such incidents from occurring.\n",
      "Context Documents Used:\n",
      "\n",
      "Document 1:\n",
      "  Source: /Users/sayo/personal_projects/Usafe_bot/data/racist_def.pdf - Page: 5\n",
      "  Content Snippet: was subjected to xenophobic and racist insults and threatened with a hammer in a communal kitchen. The perpetrator had previously been implicated in h ...\n",
      "\n",
      "Document 2:\n",
      "  Source: /Users/sayo/personal_projects/Usafe_bot/data/racist_def.pdf - Page: 5\n",
      "  Content Snippet: victim was also threatened with death and made to clean the communal toilet. Police opened an investigation into a potential hate crime. - Two Afghan  ...\n",
      "\n",
      "Document 3:\n",
      "  Source: /Users/sayo/personal_projects/Usafe_bot/data/racist_def.pdf - Page: 4\n",
      "  Content Snippet: A Syrian man was subjected to racist insults and beaten by a group. A passer-by who tried to intervene was also physically assaulted, resulting in a f ...\n",
      "\n",
      "Document 4:\n",
      "  Source: /Users/sayo/personal_projects/Usafe_bot/data/racist_def.pdf - Page: 4\n",
      "  Content Snippet: to racist and xenophobic insults and punched in the face by a group after asking for a cigarette. The victim fought back and sustained facial injuries ...\n"
     ]
    }
   ],
   "source": [
    "def print_output(inquiry, retrieval_chain=react_retrieval_chain):\n",
    "    result = retrieval_chain.invoke({\"input\": inquiry})\n",
    "    \n",
    "    print(\"User Inquiry:\", result['input'])\n",
    "    print(\"\\nAnswer:\\n\", result['answer'])\n",
    "    \n",
    "    print(\"Context Documents Used:\")\n",
    "    for i, doc in enumerate(result['context'], start=1):\n",
    "        print(f\"\\nDocument {i}:\")\n",
    "        print(f\"  Source: {doc.metadata['source']} - Page: {doc.metadata['page']}\")\n",
    "        print(\"  Content Snippet:\", doc.page_content.replace(\"\\n\", \" \")[:150], \"...\")  \n",
    "\n",
    "# Example usage\n",
    "print_output(\"Please provide information about xenophobic assault.\")"
   ]
  },
  {
   "cell_type": "code",
   "execution_count": 37,
   "metadata": {},
   "outputs": [
    {
     "name": "stdout",
     "output_type": "stream",
     "text": [
      "Answer:\n",
      " Based on the provided context, here are some examples of racist content:\n",
      "\n",
      "1. Racist insults: Several instances of people being subjected to racist insults, including towards an Iraqi woman and her children, an Eritrean man, a Nigerian man, and three men from India.\n",
      "2. Physical violence: Dogs being unleashed on an Iraqi woman and her children, resulting in minor injuries to the children. A person seeking asylum being beaten and requiring medical treatment. A man being punched in the face outside a restaurant.\n",
      "3. Xenophobic insults: A taxi driver of Polish origin being subjected to xenophobic insults and kicked by a customer. A man being subjected to xenophobic insults and death threats by a group wielding a knife.\n",
      "4. Swastika graffiti: The windows and facade of a police station being vandalized with swastika graffiti.\n",
      "5. Vandalism: A house with a poster denouncing racism being vandalized with swastika and neo-Nazi graffiti.\n",
      "6. Racist and anti-Semitic messages: Racist and anti-Semitic messages being spray-painted on a wall.\n",
      "7. Vandalized movie poster: A movie poster being vandalized with anti-Semitic and racist inscriptions.\n",
      "\n",
      "These examples illustrate the various forms of racist content that have been reported, including verbal and physical abuse, vandalism, and hate speech.\n",
      "\n",
      "Context Documents Used:\n",
      "\n",
      "Document 1:\n",
      "  Source: /Users/sayo/personal_projects/Usafe_bot/data/racist_def.pdf - Page: 5\n",
      "  Content Snippet: -\n",
      "An\n",
      "Iraqi\n",
      "woman\n",
      "and\n",
      "her\n",
      "two\n",
      "children\n",
      "were\n",
      "subjected\n",
      "to\n",
      "racist\n",
      "insults\n",
      "and\n",
      "had\n",
      "three\n",
      "dogs\n",
      "unleashed\n",
      "on\n",
      "them\n",
      "by\n",
      "a\n",
      "group.\n",
      "The\n",
      "dogs\n",
      "knocked\n",
      "the\n",
      "children\n",
      "over,\n",
      "resulting\n",
      "in\n",
      "minor\n",
      "injuries.\n",
      "-\n",
      "A\n",
      "person\n",
      "seek ...\n",
      "\n",
      "Document 2:\n",
      "  Source: /Users/sayo/personal_projects/Usafe_bot/data/racist_def.pdf - Page: 6\n",
      "  Content Snippet: -\n",
      "Three\n",
      "men\n",
      "were\n",
      "beaten\n",
      "by\n",
      "a\n",
      "security\n",
      "guard\n",
      "at\n",
      "a\n",
      "restaurant\n",
      "after\n",
      "one\n",
      "of\n",
      "the\n",
      "victims\n",
      "was\n",
      "subjected\n",
      "to\n",
      "racist\n",
      "insults\n",
      "by\n",
      "the\n",
      "same\n",
      "perpetrator.\n",
      "Two\n",
      "of\n",
      "the\n",
      "victims\n",
      "sustained\n",
      "injuries.\n",
      "-\n",
      "Two\n",
      "women\n",
      "were\n",
      "kn ...\n",
      "\n",
      "Document 3:\n",
      "  Source: /Users/sayo/personal_projects/Usafe_bot/data/racist_def.pdf - Page: 1\n",
      "  Content Snippet: with\n",
      "a\n",
      "child\n",
      "was\n",
      "subjected\n",
      "to\n",
      "racist\n",
      "insults\n",
      "and\n",
      "threatened\n",
      "with\n",
      "a\n",
      "knife\n",
      "on\n",
      "a\n",
      "train.\n",
      "The\n",
      "perpetrator\n",
      "was\n",
      "arrested.\n",
      "-\n",
      "The\n",
      "windows\n",
      "and\n",
      "facade\n",
      "of\n",
      "a\n",
      "police\n",
      "station\n",
      "were\n",
      "vandalized\n",
      "with\n",
      "swastika\n",
      "graffiti.\n",
      " ...\n",
      "\n",
      "Document 4:\n",
      "  Source: /Users/sayo/personal_projects/Usafe_bot/data/anti_religious_def.pdf - Page: 4\n",
      "  Content Snippet: Three\n",
      "other\n",
      "young\n",
      "women\n",
      "at\n",
      "the\n",
      "scene\n",
      "were\n",
      "also\n",
      "subjected\n",
      "to\n",
      "racist\n",
      "insults\n",
      "by\n",
      "the\n",
      "same\n",
      "perpetrator.\n",
      "-\n",
      "A\n",
      "woman\n",
      "wearing\n",
      "a\n",
      "headscarf\n",
      "was\n",
      "hit\n",
      "on\n",
      "the\n",
      "head\n",
      "and\n",
      "subjected\n",
      "to\n",
      "racist\n",
      "insults\n",
      "by\n",
      "a\n",
      "man\n",
      "who\n",
      "tried ...\n"
     ]
    }
   ],
   "source": [
    "def print_output(inquiry, retrieval_chain=react_retrieval_chain):\n",
    "    result = retrieval_chain.invoke({\"input\": inquiry})\n",
    "    \n",
    "    print(\"Answer:\\n\", result['answer'])\n",
    "    \n",
    "    print(\"\\nContext Documents Used:\")\n",
    "    for i, doc in enumerate(result['context'], start=1):\n",
    "        print(f\"\\nDocument {i}:\")\n",
    "        print(f\"  Source: {doc.metadata['source']} - Page: {doc.metadata['page']}\")\n",
    "        print(\"  Content Snippet:\", doc.page_content[:200], \"...\")  # Print a snippet to keep it concise\n",
    "\n",
    "# Example usage\n",
    "print_output(\"Please provide information about racist content.\")"
   ]
  },
  {
   "cell_type": "code",
   "execution_count": 38,
   "metadata": {},
   "outputs": [
    {
     "name": "stdout",
     "output_type": "stream",
     "text": [
      "Answer:\n",
      " Based on the provided context, here are some examples of racist content:\n",
      "\n",
      "1. Racist insults: Several instances of people being subjected to racist insults, including towards an Iraqi woman and her children, an Eritrean man, a Nigerian man, and three men from India.\n",
      "2. Physical violence: Dogs being unleashed on an Iraqi woman and her children, resulting in minor injuries to the children. A person seeking asylum being beaten and requiring medical treatment. A man being punched in the face outside a restaurant.\n",
      "3. Xenophobic insults: A taxi driver of Polish origin being subjected to xenophobic insults and kicked by a customer. A man being subjected to xenophobic insults and death threats by a group wielding a knife.\n",
      "4. Swastika graffiti: The windows and facade of a police station being vandalized with swastika graffiti.\n",
      "5. Vandalism: A house with a poster denouncing racism being vandalized with swastika and neo-Nazi graffiti.\n",
      "6. Racist and anti-Semitic messages: Racist and anti-Semitic messages being spray-painted on a wall.\n",
      "7. Vandalized movie poster: A movie poster being vandalized with anti-Semitic and racist inscriptions.\n",
      "\n",
      "These examples illustrate the various forms of racist content that have been reported, including verbal and physical abuse, vandalism, and hate speech.\n",
      "\n",
      "Sources Used:\n",
      "  - /Users/sayo/personal_projects/Usafe_bot/data/racist_def.pdf\n",
      "  - /Users/sayo/personal_projects/Usafe_bot/data/anti_religious_def.pdf\n"
     ]
    }
   ],
   "source": [
    "def print_output(inquiry, retrieval_chain=react_retrieval_chain):\n",
    "    result = retrieval_chain.invoke({\"input\": inquiry})\n",
    "    \n",
    "    print(\"Answer:\\n\", result['answer'])\n",
    "    \n",
    "    print(\"\\nSources Used:\")\n",
    "    sources = {doc.metadata['source'] for doc in result['context']}  # Use a set to avoid duplicates\n",
    "    for source in sources:\n",
    "        print(f\"  - {source}\")\n",
    "\n",
    "# Example usage\n",
    "print_output(\"Please provide information about racist content.\")"
   ]
  }
 ],
 "metadata": {
  "kernelspec": {
   "display_name": ".venv",
   "language": "python",
   "name": "python3"
  },
  "language_info": {
   "codemirror_mode": {
    "name": "ipython",
    "version": 3
   },
   "file_extension": ".py",
   "mimetype": "text/x-python",
   "name": "python",
   "nbconvert_exporter": "python",
   "pygments_lexer": "ipython3",
   "version": "3.11.3"
  }
 },
 "nbformat": 4,
 "nbformat_minor": 2
}
