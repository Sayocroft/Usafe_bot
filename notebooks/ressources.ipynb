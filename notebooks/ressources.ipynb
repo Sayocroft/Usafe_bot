{
 "cells": [
  {
   "cell_type": "code",
   "execution_count": null,
   "metadata": {},
   "outputs": [],
   "source": [
    "# For text preprocessing\n",
    "import nltk\n",
    "from nltk.tokenize import word_tokenize\n",
    "from nltk.corpus import stopwords\n",
    "\n",
    "# For sentiment analysis with TextBlob\n",
    "from textblob import TextBlob\n",
    "\n",
    "# For Bag of Words and TF-IDF\n",
    "from sklearn.feature_extraction.text import CountVectorizer, TfidfVectorizer\n",
    "\n",
    "# For Naive Bayes classification\n",
    "from sklearn.naive_bayes import MultinomialNB\n",
    "from sklearn.model_selection import train_test_split\n",
    "from sklearn.metrics import accuracy_score, classification_report\n",
    "\n",
    "# Optional - for VADER sentiment analysis\n",
    "from nltk.sentiment.vader import SentimentIntensityAnalyzer\n",
    "\n",
    "# Make sure to download any required NLTK datasets if you haven't already\n",
    "nltk.download('punkt')\n",
    "nltk.download('stopwords')\n",
    "nltk.download('vader_lexicon')"
   ]
  },
  {
   "cell_type": "code",
   "execution_count": 4,
   "metadata": {},
   "outputs": [
    {
     "name": "stdout",
     "output_type": "stream",
     "text": [
      "Mental Health NGO - https://mentalhealthngo.org/support\n",
      "Legal Assistance Group - https://legalassistance.org/legal-aid\n",
      "Rights Protection Center - https://rightsprotection.org/legal-guidance\n",
      "Online Crime Reporting Portal - https://onlinereporting.org/report-crime\n",
      "Justice Funding Network - https://justicefunding.org/legal-aid\n",
      "Digital Rights Group - https://digitalrightsgroup.org/online-safety\n"
     ]
    }
   ],
   "source": [
    "import json\n",
    "\n",
    "# Load JSON data\n",
    "with open('/Users/sayo/personal_projects/Usafe_bot/data/ressources.json', 'r') as file:\n",
    "    data = json.load(file)\n",
    "\n",
    "# Now you can access the data\n",
    "for resource in data[\"resources\"]:\n",
    "    print(resource[\"organization\"], \"-\", resource[\"url\"])"
   ]
  }
 ],
 "metadata": {
  "kernelspec": {
   "display_name": ".venv",
   "language": "python",
   "name": "python3"
  },
  "language_info": {
   "codemirror_mode": {
    "name": "ipython",
    "version": 3
   },
   "file_extension": ".py",
   "mimetype": "text/x-python",
   "name": "python",
   "nbconvert_exporter": "python",
   "pygments_lexer": "ipython3",
   "version": "3.11.3"
  }
 },
 "nbformat": 4,
 "nbformat_minor": 2
}
