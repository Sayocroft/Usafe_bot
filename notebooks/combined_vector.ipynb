{
 "cells": [
  {
   "cell_type": "code",
   "execution_count": 46,
   "metadata": {},
   "outputs": [],
   "source": [
    "# Import necessary libraries\n",
    "import warnings\n",
    "from dotenv import load_dotenv\n",
    "import pdfplumber\n",
    "from langchain_community.document_loaders import PyPDFLoader\n",
    "from langchain_text_splitters import RecursiveCharacterTextSplitter\n",
    "from langchain_huggingface import HuggingFaceEmbeddings\n",
    "from langchain_community.vectorstores import FAISS\n",
    "from langchain.docstore.document import Document\n",
    "from langchain import hub\n",
    "from langchain.chains.combine_documents import create_stuff_documents_chain\n",
    "from langchain.chains.retrieval import create_retrieval_chain\n",
    "from langchain_groq import ChatGroq"
   ]
  },
  {
   "cell_type": "code",
   "execution_count": 47,
   "metadata": {},
   "outputs": [],
   "source": [
    "# Load environment variables\n",
    "load_dotenv()\n",
    "warnings.filterwarnings(\"ignore\")"
   ]
  },
  {
   "cell_type": "code",
   "execution_count": 48,
   "metadata": {},
   "outputs": [],
   "source": [
    "# Define the hate crimes types\n",
    "\n",
    "HATE_CRIMES_TYPE = {\n",
    "    'anti_religious_def.pdf': 'Anti-religious Hate Crime',\n",
    "    'racist_def.pdf': 'Racist and Xenophobic Hate Crime',\n",
    "    'gender_lgbt_def.pdf': 'Gender and LGBTQ+ Hate Crime'\n",
    "}"
   ]
  },
  {
   "cell_type": "code",
   "execution_count": 49,
   "metadata": {},
   "outputs": [],
   "source": [
    "# Step 1: Load PDFs using pdfplumber\n",
    "def extract_text_from_pdf(pdf_path):\n",
    "    \"\"\"\n",
    "    Extracts text from a PDF using pdfplumber and returns a list of Document objects.\n",
    "    \"\"\"\n",
    "    extracted_text = \"\"\n",
    "    with pdfplumber.open(pdf_path) as pdf:\n",
    "        for page in pdf.pages:\n",
    "            page_text = page.extract_text()\n",
    "            if page_text:\n",
    "                extracted_text += page_text + \"\\n\"\n",
    "    return [Document(page_content=extracted_text, metadata={\"source\": pdf_path})]"
   ]
  },
  {
   "cell_type": "code",
   "execution_count": 50,
   "metadata": {},
   "outputs": [],
   "source": [
    "# Load PDFs for each category\n",
    "anti_religious_docs = extract_text_from_pdf('/Users/sayo/personal_projects/Usafe_bot/data/anti_religious_def.pdf')\n",
    "gender_lgbt_docs = extract_text_from_pdf('/Users/sayo/personal_projects/Usafe_bot/data/gender_lgbt_def.pdf')\n",
    "racist_docs = extract_text_from_pdf('/Users/sayo/personal_projects/Usafe_bot/data/racist_def.pdf')"
   ]
  },
  {
   "cell_type": "code",
   "execution_count": 51,
   "metadata": {},
   "outputs": [],
   "source": [
    "# Step 2: Chunk Documents\n",
    "def chunk_documents(documents, chunk_size=1000, chunk_overlap=100):\n",
    "    \"\"\"\n",
    "    Splits documents into smaller chunks for embedding.\n",
    "    \"\"\"\n",
    "    text_splitter = RecursiveCharacterTextSplitter(chunk_size=chunk_size, chunk_overlap=chunk_overlap)\n",
    "    return text_splitter.split_documents(documents)\n"
   ]
  },
  {
   "cell_type": "code",
   "execution_count": 53,
   "metadata": {},
   "outputs": [
    {
     "name": "stdout",
     "output_type": "stream",
     "text": [
      "Number of chunks in anti-religious document: 167\n",
      "Number of chunks in gender/LGBT document: 42\n",
      "Number of chunks in racist document: 37\n",
      "Total number of chunks: 246\n"
     ]
    }
   ],
   "source": [
    "# Chunk each document category\n",
    "anti_religious_chunks = chunk_documents(anti_religious_docs)\n",
    "gender_lgbt_chunks = chunk_documents(gender_lgbt_docs)\n",
    "racist_chunks = chunk_documents(racist_docs)\n",
    "\n",
    "# Print the number of chunks for each document\n",
    "print(f\"Number of chunks in anti-religious document: {len(anti_religious_chunks)}\")\n",
    "print(f\"Number of chunks in gender/LGBT document: {len(gender_lgbt_chunks)}\")\n",
    "print(f\"Number of chunks in racist document: {len(racist_chunks)}\")\n",
    "\n",
    "# Calculate total number of chunks across all documents\n",
    "total_chunks = len(racist_chunks) + len(gender_lgbt_chunks) + len(anti_religious_chunks)\n",
    "print(f\"Total number of chunks: {total_chunks}\")"
   ]
  },
  {
   "cell_type": "code",
   "execution_count": 54,
   "metadata": {},
   "outputs": [],
   "source": [
    "all_chunks = anti_religious_chunks + gender_lgbt_chunks + racist_chunks"
   ]
  },
  {
   "cell_type": "code",
   "execution_count": 55,
   "metadata": {},
   "outputs": [],
   "source": [
    "# Step 3: Create Embedding Vector Store\n",
    "def create_vector_store(chunks, data_base_name='usafe_combined'):\n",
    "    \"\"\"\n",
    "    Creates a vector store using HuggingFace embeddings and saves it locally.\n",
    "    \"\"\"\n",
    "    embedding_model = HuggingFaceEmbeddings(model_name='sentence-transformers/all-mpnet-base-v2')\n",
    "    vector_store = FAISS.from_documents(chunks, embedding=embedding_model)\n",
    "    vector_store.save_local(f\"./vector_databases/{data_base_name}\")\n",
    "    print(f\"Vector store '{data_base_name}' created and saved.\")"
   ]
  },
  {
   "cell_type": "code",
   "execution_count": 56,
   "metadata": {},
   "outputs": [
    {
     "name": "stdout",
     "output_type": "stream",
     "text": [
      "Vector store 'usafe_combined' created and saved.\n"
     ]
    }
   ],
   "source": [
    "# Create vector store for combined data\n",
    "create_vector_store(all_chunks, data_base_name='usafe_combined')"
   ]
  },
  {
   "cell_type": "code",
   "execution_count": 57,
   "metadata": {},
   "outputs": [],
   "source": [
    "# Step 4: Load Vector Store and Create Retriever\n",
    "def load_vector_store(data_base_path):\n",
    "    \"\"\"\n",
    "    Loads a vector store from a local directory and returns a retriever.\n",
    "    \"\"\"\n",
    "    embedding_model = HuggingFaceEmbeddings(model_name='sentence-transformers/all-mpnet-base-v2')\n",
    "    vector_store = FAISS.load_local(folder_path=data_base_path, embeddings=embedding_model, allow_dangerous_deserialization=True)\n",
    "    return vector_store.as_retriever()"
   ]
  },
  {
   "cell_type": "code",
   "execution_count": 58,
   "metadata": {},
   "outputs": [],
   "source": [
    "# Initialize retriever for combined data\n",
    "retriever_combined = load_vector_store('./vector_databases/usafe_combined')\n",
    "retriever_general = load_vector_store('./vector_databases/usafe_general')"
   ]
  },
  {
   "cell_type": "code",
   "execution_count": 59,
   "metadata": {},
   "outputs": [
    {
     "name": "stdout",
     "output_type": "stream",
     "text": [
      "<class 'langchain_core.vectorstores.base.VectorStoreRetriever'>\n",
      "<class 'langchain_core.vectorstores.base.VectorStoreRetriever'>\n"
     ]
    }
   ],
   "source": [
    "print(type(retriever_combined))\n",
    "print(type(retriever_general))"
   ]
  },
  {
   "cell_type": "code",
   "execution_count": 14,
   "metadata": {},
   "outputs": [],
   "source": [
    "#with open('/Users/sayo/personal_projects/Usafe_bot/data/usafe_prompt.txt', 'r') as file:\n",
    "    #user_prompt = file.read()\n",
    "\n",
    "#print(user_prompt)"
   ]
  },
  {
   "cell_type": "code",
   "execution_count": 60,
   "metadata": {},
   "outputs": [],
   "source": [
    "def connect_chains(retriever):\n",
    "    \"\"\"\n",
    "    this function connects stuff_documents_chain with retrieval_chain\n",
    "    \"\"\"\n",
    "    stuff_documents_chain = create_stuff_documents_chain(\n",
    "        llm=llm,\n",
    "        prompt=hub.pull(\"langchain-ai/retrieval-qa-chat\")\n",
    "    )\n",
    "    retrieval_chain = create_retrieval_chain(\n",
    "        retriever=retriever,\n",
    "        combine_docs_chain=stuff_documents_chain\n",
    "    )\n",
    "    return retrieval_chain"
   ]
  },
  {
   "cell_type": "code",
   "execution_count": 61,
   "metadata": {},
   "outputs": [],
   "source": [
    "# Step 5: Initialize LLM\n",
    "def initialize_llm(model_name=\"llama3-8b-8192\"):\n",
    "    \"\"\"\n",
    "    Initializes the LLM model with specified configurations.\n",
    "    \"\"\"\n",
    "    return ChatGroq(model=model_name, temperature=0.02, max_tokens=None, timeout=None, max_retries=2)\n",
    "\n",
    "llm = initialize_llm()\n"
   ]
  },
  {
   "cell_type": "code",
   "execution_count": 63,
   "metadata": {},
   "outputs": [],
   "source": [
    "# Step 6: Setup Retrieval Chain\n",
    "def setup_retrieval_chain(retriever):\n",
    "    \"\"\"\n",
    "    Sets up the document chain and retrieval chain.\n",
    "    \"\"\"\n",
    "    stuff_chain = create_stuff_documents_chain(llm=llm, prompt=hub.pull(\"langchain-ai/retrieval-qa-chat\"))\n",
    "    return create_retrieval_chain(retriever=retriever, combine_docs_chain=stuff_chain)"
   ]
  },
  {
   "cell_type": "code",
   "execution_count": 64,
   "metadata": {},
   "outputs": [],
   "source": [
    "usafe_combined_retrieval_chain = setup_retrieval_chain(retriever_combined)\n",
    "usafe_general_retrieval_chain = setup_retrieval_chain(retriever_general)"
   ]
  },
  {
   "cell_type": "code",
   "execution_count": 72,
   "metadata": {},
   "outputs": [],
   "source": [
    "# Step 7: Detect Hate Crime Type\n",
    "def detect_hate_crime_type(inquiry, retrieval_chain=usafe_combined_retrieval_chain):\n",
    "    \"\"\"\n",
    "    Detects the type of hate crime based on user input\n",
    "    \"\"\"\n",
    "    result = retrieval_chain.invoke({\"input\": inquiry})\n",
    "    detected_type = HATE_CRIMES_TYPE.get(result['context'][0].dict()['metadata']['source'].split('/')[-1], \"Unknown\")\n",
    "    return detected_type"
   ]
  },
  {
   "cell_type": "code",
   "execution_count": 80,
   "metadata": {},
   "outputs": [],
   "source": [
    "# Step 8: Interactive Query Function\n",
    "def handle_user_query(inquiry):\n",
    "    \"\"\"\n",
    "    Handles user query by detecting hate crime type and offering options.\n",
    "    \"\"\"\n",
    "    detected_type = detect_hate_crime_type(inquiry)\n",
    "    print(f\"\\nDetected Hate Crime Type: {detected_type}\")\n",
    "\n",
    "    # Present user options\n",
    "    print(\"\\nWhat information would you like to access?\")\n",
    "    print(\"1. Relevant Laws Germany\")\n",
    "    print(\"2. Local Resources and Support\")\n",
    "    print(\"3. Steps to Report a Crime in Germany\")\n",
    "    print(\"4. Generic Information\")\n",
    "    \n",
    "    option = input(\"Enter your choice (1-4): \")\n",
    "\n",
    "    # Define the query based on user selection\n",
    "    pdf_query = \"\"\n",
    "    vector_store_to_query = None\n",
    "    \n",
    "    if option == '1':\n",
    "        pdf_query = \"Relevant laws related to hate crimes in Germany\"\n",
    "        vector_store_to_query = usafe_general_retrieval_chain  \n",
    "    elif option == '2':\n",
    "        pdf_query = \"Local resources: NGOs, Legal Aid, Counseling, etc to support hate crime victims\"\n",
    "        vector_store_to_query = usafe_general_retrieval_chain\n",
    "    elif option == '3':\n",
    "        pdf_query = \"Steps on how to report a hate crime in Germany\"\n",
    "        vector_store_to_query = usafe_general_retrieval_chain\n",
    "    elif option == '4':\n",
    "        pdf_query = \"General information on hate crimes, psychological effects, and resources\"\n",
    "        vector_store_to_query = usafe_general_retrieval_chain  \n",
    "    else:\n",
    "        print(\"Invalid option. Please try again.\")\n",
    "        return\n",
    "\n",
    "    # Retrieve and print response from the selected vector store\n",
    "    if vector_store_to_query:\n",
    "        response = vector_store_to_query.invoke({\"input\": pdf_query})\n",
    "        print(\"\\nResponse:\\n\", response['answer'].strip(\"\\n\"))\n",
    "\n"
   ]
  },
  {
   "cell_type": "code",
   "execution_count": 81,
   "metadata": {},
   "outputs": [
    {
     "name": "stdout",
     "output_type": "stream",
     "text": [
      "\n",
      "Detected Hate Crime Type: Gender and LGBTQ+ Hate Crime\n",
      "\n",
      "What information would you like to access?\n",
      "1. Relevant Laws Germany\n",
      "2. Local Resources and Support\n",
      "3. Steps to Report a Crime in Germany\n",
      "4. Generic Information\n",
      "\n",
      "Response:\n",
      " According to the provided context, the relevant laws related to hate crimes in Germany are:\n",
      "\n",
      "1. German Criminal Code (StGB):\n",
      "\t* Section 46 StGB: Allows courts to consider discriminatory motives (e.g., hatred based on race, religion, or sexual orientation) when sentencing.\n",
      "\t* Section 130 StGB: Criminalizes incitement to hatred, hate speech, and violent actions against people based on race, ethnicity, or nationality.\n",
      "\t* Section 166 StGB: Criminalizes the public defamation of religious groups or beliefs if it poses a risk to public peace.\n",
      "2. Basic Law (Grundgesetz, GG):\n",
      "\t* Article 3: Prohibits discrimination based on race, ethnicity, or national origin.\n",
      "\t* Article 4: Ensures freedom of religion.\n",
      "3. International Convention on the Elimination of All Forms of Racial Discrimination (ICERD): Reinforces anti-racist measures within German law, requiring penalties for racial discrimination and hate crimes.\n",
      "4. General Equal Treatment Act (AGG): Allows individuals to pursue civil remedies for discrimination.\n",
      "\n",
      "These laws provide a foundation for addressing and prosecuting hate crimes in Germany, with a strong emphasis on preventing incitement to violence and protecting marginalized communities.\n"
     ]
    }
   ],
   "source": [
    "user_input = \"I was walking on the streets and got attacked for holding hands with my partner.\"\n",
    "handle_user_query(user_input)"
   ]
  },
  {
   "cell_type": "code",
   "execution_count": 73,
   "metadata": {},
   "outputs": [
    {
     "name": "stdout",
     "output_type": "stream",
     "text": [
      "According to the provided context, you can report a hate crime in Germany by following these steps:\n",
      "\n",
      "1. Document the Incident:\n",
      "\t* Gather as much information as possible about the event, including:\n",
      "\t\t+ Photos or Videos: Visual evidence of the incident or its aftermath.\n",
      "\t\t+ Witness Statements: Contact information and statements from any witnesses.\n",
      "\t\t+ Descriptions: Detailed accounts of what happened, including time, location, and any identifying features of the perpetrator.\n",
      "2. Preserve Digital Evidence:\n",
      "\t* Save any online messages, emails, or social media posts related to the incident. Screenshots can be valuable evidence if hate speech or threats were made online.\n",
      "3. Visit Your Local Police Station:\n",
      "\t* Bring all collected documentation with you. Explain the details of the incident, and let the officer know you believe it to be a hate crime.\n",
      "4. Report Online (Optional):\n",
      "\t* If you’re unable to visit the police station, you may be able to file a report online through local authorities’ websites or specific online reporting platforms. For Berlin residents, you can use the Berlin Police Online Reporting Portal to report incidents anonymously or directly.\n",
      "5. Follow Up on Your Report:\n",
      "\t* After filing, obtain a case reference number for future inquiries.\n",
      "\t* You may check in periodically with the police station or use online tools (where available) to get updates on your case.\n",
      "6. Consider Additional Support:\n",
      "\t* Legal Assistance: In case you want to take this case to court and need information on legal protections and free community assistance, please click on [insert link].\n",
      "\n",
      "Remember to bring someone who speaks German to assist with translation at the police station if you don't speak the language. Alternatively, you can contact organizations that provide translation support for hate crime victims, such as ReachOut Berlin.\n"
     ]
    }
   ],
   "source": [
    "# Query based on context\n",
    "user_input = \"i got, How do I report a hate crime?\"\n",
    "if \"report\" in user_input:\n",
    "    response = usafe_general_retrieval_chain.invoke({\"input\": user_input})\n",
    "else:\n",
    "    response = usafe_combined_retrieval_chain.invoke({\"input\": user_input})\n",
    "\n",
    "print(response['answer'])"
   ]
  },
  {
   "cell_type": "code",
   "execution_count": 66,
   "metadata": {},
   "outputs": [
    {
     "name": "stdout",
     "output_type": "stream",
     "text": [
      "Racist and Xenophobic Hate Crime\n"
     ]
    }
   ],
   "source": [
    "print(detect_hate_crime_type(\"Somebody punched me in the face because i'm jewish\"))"
   ]
  },
  {
   "cell_type": "code",
   "execution_count": 41,
   "metadata": {},
   "outputs": [
    {
     "name": "stdout",
     "output_type": "stream",
     "text": [
      "\n",
      "Detected Hate Crime Type: Gender and LGBTQ+ Hate Crime\n",
      "\n",
      "You selected: Generic Information.\n"
     ]
    }
   ],
   "source": [
    "def handle_user_query(inquiry, relevant_laws=False, resources_available=False, \n",
    "                      steps_how_to_report_crime=False, general_info=False):\n",
    "    \"\"\"\n",
    "    Handles user query by detecting hate crime type and responding based on predefined flags.\n",
    "    \"\"\"\n",
    "    detected_type = detect_hate_crime_type(inquiry)\n",
    "    print(f\"\\nDetected Hate Crime Type: {detected_type}\")\n",
    "\n",
    "    # Respond based on the Boolean flags\n",
    "    if relevant_laws:\n",
    "        print(\"\\nYou selected: Relevant Laws Germany.\")\n",
    "    if resources_available:\n",
    "        print(\"\\nYou selected: Local Resources and Support.\")\n",
    "    if steps_how_to_report_crime:\n",
    "        print(\"\\nYou selected: Steps to Report a Crime in Germany.\")\n",
    "    if general_info:\n",
    "        print(\"\\nYou selected: Generic Information.\")\n",
    "\n",
    "    # If none of the flags are True\n",
    "    if not any([relevant_laws, resources_available, steps_how_to_report_crime, general_info]):\n",
    "        print(\"No valid information selected. Please review your flags.\")\n",
    "\n",
    "# Example usage:\n",
    "handle_user_query(\n",
    "    inquiry=\"I have experienced discrimination at work.\",\n",
    "    relevant_laws=False,\n",
    "    resources_available=False,\n",
    "    steps_how_to_report_crime=False,\n",
    "    general_info=True\n",
    ")"
   ]
  },
  {
   "cell_type": "code",
   "execution_count": 76,
   "metadata": {},
   "outputs": [],
   "source": [
    "# Step 8: Interactive Query Function\n",
    "def handle_user_query(inquiry):\n",
    "    \"\"\"\n",
    "    Handles user query by detecting hate crime type and offering options.\n",
    "    \"\"\"\n",
    "    detected_type = detect_hate_crime_type(inquiry)\n",
    "    print(f\"\\nDetected Hate Crime Type: {detected_type}\")\n",
    "\n",
    "    # Present user options\n",
    "    print(\"\\nWhat information would you like to access?\")\n",
    "    print(\"1. Relevant Laws Germany\")\n",
    "    print(\"2. Local Resources and Support\")\n",
    "    print(\"3. Steps to Report a Crime in Germany\")\n",
    "    print(\"4. Generic Information\")\n",
    "    \n",
    "    option = input(\"Enter your choice (1-4): \")\n",
    "\n",
    "    # using the option selected by the user to query the pdf\n",
    "    pdf_query = \"\"\n",
    "    if option == '1':\n",
    "        pdf_query = \"Relevant laws related to hate crimes in Germany\"\n",
    "    elif option == '2':\n",
    "        pdf_query = \"Local resources: NGOs, Legal Aid, Counseling, etc to support hate crime victims\"\n",
    "    elif option == '3':\n",
    "        pdf_query = \"Steps on how to report a hate crime in Germany\"\n",
    "    elif option == '4':\n",
    "        pdf_query = \"General information on hate crimes, psychological effects, and resources\"\n",
    "    else:\n",
    "        print(\"Invalid option. Please try again.\")\n",
    "        return\n",
    "    \n",
    "     # Add metadata to specify the PDF file you want to query\n",
    "    metadata_filter = {\"pdf_name\": \"general.pdf\"}\n",
    "\n",
    "    # Retrieve and print response from the vector store\n",
    "    response = usafe_retrieval_chain.invoke({\"input\": pdf_query})\n",
    "    print(\"\\nResponse:\\n\", response['answer'].strip(\"\\n\"))"
   ]
  },
  {
   "cell_type": "code",
   "execution_count": 77,
   "metadata": {},
   "outputs": [
    {
     "name": "stdout",
     "output_type": "stream",
     "text": [
      "\n",
      "Detected Hate Crime Type: Racist and Xenophobic Hate Crime\n",
      "\n",
      "What information would you like to access?\n",
      "1. Relevant Laws Germany\n",
      "2. Local Resources and Support\n",
      "3. Steps to Report a Crime in Germany\n",
      "4. Generic Information\n",
      "\n",
      "Response:\n",
      " Based on the context, here are some local resources that may be available to support hate crime victims:\n",
      "\n",
      "1. NGOs:\n",
      "\t* Organizations that provide support to asylum seekers and refugees, such as the Asylum Seekers' Association or the Refugee Council.\n",
      "\t* Anti-racism organizations, such as the Anti-Racism Network or the European Network Against Racism.\n",
      "2. Legal Aid:\n",
      "\t* The local bar association or legal aid organization may provide free or low-cost legal assistance to hate crime victims.\n",
      "\t* The police may also have a dedicated unit or officer who can provide legal support and guidance to victims.\n",
      "3. Counseling:\n",
      "\t* The local mental health services or counseling centers may offer trauma counseling and support to hate crime victims.\n",
      "\t* Organizations that provide support to asylum seekers and refugees may also offer counseling services.\n",
      "4. Other resources:\n",
      "\t* The local government or municipality may have a dedicated department or officer who can provide support and resources to hate crime victims.\n",
      "\t* The police may have a hate crime unit or officer who can provide support and guidance to victims.\n",
      "\t* The local community may also have support groups or organizations that can provide emotional support and resources to hate crime victims.\n",
      "\n",
      "Some specific resources that may be available in the area include:\n",
      "\n",
      "* The Asylum Seekers' Association (ASA)\n",
      "* The Refugee Council\n",
      "* The Anti-Racism Network\n",
      "* The European Network Against Racism\n",
      "* The local bar association or legal aid organization\n",
      "* The local mental health services or counseling centers\n",
      "* The local government or municipality's department for social services or community development\n",
      "* The police's hate crime unit or officer\n",
      "\n",
      "It's important to note that these resources may vary depending on the location and availability of services.\n"
     ]
    }
   ],
   "source": [
    "handle_user_query(\"I was called a monkey and beaten up by a group of people\")"
   ]
  },
  {
   "cell_type": "code",
   "execution_count": 53,
   "metadata": {},
   "outputs": [],
   "source": [
    "# Step 8: Interactive Query Function (No Response Retrieval)\n",
    "def handle_user_query(inquiry):\n",
    "    \"\"\"\n",
    "    Handles user query by detecting hate crime type and offering options.\n",
    "    \"\"\"\n",
    "    detected_type = detect_hate_crime_type(inquiry)\n",
    "    print(f\"\\nDetected Hate Crime Type: {detected_type}\")\n",
    "\n",
    "    # Present user options\n",
    "    print(\"\\nWhat information would you like to access?\")\n",
    "    print(\"1. Relevant Laws Germany\")\n",
    "    print(\"2. Local Resources and Support\")\n",
    "    print(\"3. Steps to Report a Crime in Germany\")\n",
    "    print(\"4. Generic Information\")\n",
    "    \n",
    "    option = input(\"Enter your choice (1-4): \")\n",
    "\n",
    "    # Confirm the selected option without invoking a response\n",
    "    if option == '1':\n",
    "        print(\"\\nYou selected: Relevant Laws Germany.\")\n",
    "    elif option == '2':\n",
    "        print(\"\\nYou selected: Local Resources and Support.\")\n",
    "    elif option == '3':\n",
    "        print(\"\\nYou selected: Steps to Report a Crime in Germany.\")\n",
    "    elif option == '4':\n",
    "        print(\"\\nYou selected: Generic Information.\")\n",
    "    else:\n",
    "        print(\"Invalid option. Please try again.\")"
   ]
  },
  {
   "cell_type": "code",
   "execution_count": 54,
   "metadata": {},
   "outputs": [
    {
     "name": "stdout",
     "output_type": "stream",
     "text": [
      "\n",
      "Detected Hate Crime Type: Gender and LGBTQ+ Hate Crime\n",
      "\n",
      "What information would you like to access?\n",
      "1. Relevant Laws Germany\n",
      "2. Local Resources and Support\n",
      "3. Steps to Report a Crime in Germany\n",
      "4. Generic Information\n",
      "\n",
      "You selected: Relevant Laws Germany.\n"
     ]
    }
   ],
   "source": [
    "handle_user_query(\"I was attacked because of my sexual orientation. What can I do?\")"
   ]
  },
  {
   "cell_type": "code",
   "execution_count": 57,
   "metadata": {},
   "outputs": [
    {
     "ename": "NameError",
     "evalue": "name 'react_retrieval_chain' is not defined",
     "output_type": "error",
     "traceback": [
      "\u001b[0;31m---------------------------------------------------------------------------\u001b[0m",
      "\u001b[0;31mNameError\u001b[0m                                 Traceback (most recent call last)",
      "Cell \u001b[0;32mIn[57], line 3\u001b[0m\n\u001b[1;32m      1\u001b[0m \u001b[38;5;28;01mdef\u001b[39;00m \u001b[38;5;21mdetect_hate_type\u001b[39m(\n\u001b[1;32m      2\u001b[0m     inquiry,\n\u001b[0;32m----> 3\u001b[0m     retrieval_chain\u001b[38;5;241m=\u001b[39m\u001b[43mreact_retrieval_chain\u001b[49m\n\u001b[1;32m      4\u001b[0m ):\n\u001b[1;32m      5\u001b[0m     result \u001b[38;5;241m=\u001b[39m retrieval_chain\u001b[38;5;241m.\u001b[39minvoke({\u001b[38;5;124m\"\u001b[39m\u001b[38;5;124minput\u001b[39m\u001b[38;5;124m\"\u001b[39m: inquiry})\n\u001b[1;32m      6\u001b[0m     hate_type \u001b[38;5;241m=\u001b[39m HATE_CRIMES_TYPE[result[\u001b[38;5;124m'\u001b[39m\u001b[38;5;124mcontext\u001b[39m\u001b[38;5;124m'\u001b[39m][\u001b[38;5;241m0\u001b[39m]\u001b[38;5;241m.\u001b[39mdict()[\u001b[38;5;124m'\u001b[39m\u001b[38;5;124mmetadata\u001b[39m\u001b[38;5;124m'\u001b[39m][\u001b[38;5;124m'\u001b[39m\u001b[38;5;124msource\u001b[39m\u001b[38;5;124m'\u001b[39m]\u001b[38;5;241m.\u001b[39msplit(\u001b[38;5;124m'\u001b[39m\u001b[38;5;124m/\u001b[39m\u001b[38;5;124m'\u001b[39m)[\u001b[38;5;241m-\u001b[39m\u001b[38;5;241m1\u001b[39m]]\n",
      "\u001b[0;31mNameError\u001b[0m: name 'react_retrieval_chain' is not defined"
     ]
    }
   ],
   "source": [
    "def detect_hate_type(\n",
    "    inquiry,\n",
    "    retrieval_chain=react_retrieval_chain\n",
    "):\n",
    "    result = retrieval_chain.invoke({\"input\": inquiry})\n",
    "    hate_type = HATE_CRIMES_TYPE[result['context'][0].dict()['metadata']['source'].split('/')[-1]]\n",
    "    return hate_type\n"
   ]
  },
  {
   "cell_type": "code",
   "execution_count": 58,
   "metadata": {},
   "outputs": [],
   "source": [
    "hate_type = 'anti-religious'"
   ]
  },
  {
   "cell_type": "code",
   "execution_count": null,
   "metadata": {},
   "outputs": [
    {
     "name": "stdout",
     "output_type": "stream",
     "text": [
      "anti-religious hate crime\n"
     ]
    }
   ],
   "source": [
    "print(detect_hate_type(\"I was attacked because of my religion\"))"
   ]
  },
  {
   "cell_type": "code",
   "execution_count": null,
   "metadata": {},
   "outputs": [],
   "source": [
    "hate_type=detect_hate_type(\"\")"
   ]
  },
  {
   "cell_type": "code",
   "execution_count": 62,
   "metadata": {},
   "outputs": [],
   "source": [
    "relevant_laws = False\n",
    "resources_available = False\n",
    "steps_how_to_report_crime = False \n",
    "general_info = True\n"
   ]
  },
  {
   "cell_type": "code",
   "execution_count": 63,
   "metadata": {},
   "outputs": [],
   "source": [
    "query = f\"\"\"\n",
    "    I have been facing a hate crime of type {hate_type}.\n",
    "    {'Please give me some legal advice.' * relevant_laws}\n",
    "    {'Please tell me what are the local resources available.' * resources_available}\n",
    "    {'Please explain the steps on how to report a hate crime.' * steps_how_to_report_crime}\n",
    "    {'Please provide me with some general information.' * general_info}\n",
    "    \"\"\""
   ]
  },
  {
   "cell_type": "code",
   "execution_count": 64,
   "metadata": {},
   "outputs": [
    {
     "data": {
      "text/plain": [
       "'\\n    I have been facing a hate crime of type anti-religious.\\n    \\n    \\n    \\n    Please provide me with some general information.\\n    '"
      ]
     },
     "execution_count": 64,
     "metadata": {},
     "output_type": "execute_result"
    }
   ],
   "source": [
    "query"
   ]
  },
  {
   "cell_type": "code",
   "execution_count": 66,
   "metadata": {},
   "outputs": [],
   "source": [
    "import re"
   ]
  },
  {
   "cell_type": "code",
   "execution_count": 69,
   "metadata": {},
   "outputs": [],
   "source": [
    "query = re.sub(r'\\n', '', query)"
   ]
  }
 ],
 "metadata": {
  "kernelspec": {
   "display_name": ".venv",
   "language": "python",
   "name": "python3"
  },
  "language_info": {
   "codemirror_mode": {
    "name": "ipython",
    "version": 3
   },
   "file_extension": ".py",
   "mimetype": "text/x-python",
   "name": "python",
   "nbconvert_exporter": "python",
   "pygments_lexer": "ipython3",
   "version": "3.11.3"
  }
 },
 "nbformat": 4,
 "nbformat_minor": 2
}
