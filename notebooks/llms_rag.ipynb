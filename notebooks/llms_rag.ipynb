{
 "cells": [
  {
   "cell_type": "code",
   "execution_count": 1,
   "metadata": {},
   "outputs": [
    {
     "data": {
      "text/plain": [
       "True"
      ]
     },
     "execution_count": 1,
     "metadata": {},
     "output_type": "execute_result"
    }
   ],
   "source": [
    "from dotenv import load_dotenv\n",
    "load_dotenv()"
   ]
  },
  {
   "cell_type": "code",
   "execution_count": 2,
   "metadata": {},
   "outputs": [],
   "source": [
    "from langchain_community.document_loaders import PyPDFLoader\n",
    "\n",
    "def load_pdf_data(pdf_path):\n",
    "    \"\"\"\n",
    "    this function loads text data from pdf file\n",
    "    \"\"\"\n",
    "    loader = PyPDFLoader(file_path=pdf_path)\n",
    "    documents = loader.load()\n",
    "    return documents"
   ]
  },
  {
   "cell_type": "code",
   "execution_count": 3,
   "metadata": {},
   "outputs": [],
   "source": [
    "general = load_pdf_data(pdf_path = '/Users/sayo/personal_projects/Usafe_bot/data/general.pdf')"
   ]
  },
  {
   "cell_type": "code",
   "execution_count": 4,
   "metadata": {},
   "outputs": [
    {
     "name": "stdout",
     "output_type": "stream",
     "text": [
      "number of loaded pages: 9\n"
     ]
    }
   ],
   "source": [
    "\n",
    "print(f\"number of loaded pages: {len(general)}\")"
   ]
  },
  {
   "cell_type": "code",
   "execution_count": 5,
   "metadata": {},
   "outputs": [
    {
     "name": "stdout",
     "output_type": "stream",
     "text": [
      "________________\n",
      "Hate\n",
      "Crime\n",
      "Definition\n",
      "●\n",
      "A\n",
      "hate\n",
      "crime\n",
      "(also\n",
      "known\n",
      "as\n",
      "a\n",
      "bias\n",
      "crime)\n",
      "is\n",
      "a\n",
      "crime\n",
      "where\n",
      "a\n",
      "perpetrator\n",
      "targets\n",
      "a\n",
      "victim\n",
      "due\n",
      "to\n",
      "their\n",
      "physical\n",
      "appearance\n",
      "or\n",
      "perceived\n",
      "membership\n",
      "in\n",
      "a\n",
      "specific\n",
      "social\n",
      "group.\n",
      "Such\n",
      "groups\n",
      "may\n",
      "include\n",
      "race,\n",
      "ethnicity ,\n",
      "disability ,\n",
      "language,\n",
      "nationality ,\n",
      "political\n",
      "views,\n",
      "age,\n",
      "religion,\n",
      "sex,\n",
      "gender\n",
      "identity ,\n",
      "or\n",
      "sexual\n",
      "orientation.\n",
      "Non-criminal\n",
      "actions\n",
      "motivated\n",
      "by\n",
      "these\n",
      "biases\n",
      "are\n",
      "often\n",
      "termed\n",
      "“bias\n",
      "incidents.”\n",
      "•\n",
      "Examples\n",
      "of\n",
      "hate\n",
      "crimes\n",
      "include:\n",
      "•\n",
      "Physical\n",
      "assault,\n",
      "homicide,\n",
      "damage\n",
      "to\n",
      "property\n",
      "•\n",
      "Bullying,\n",
      "harassment,\n",
      "verbal\n",
      "abuse,\n",
      "offensive\n",
      "graffiti,\n",
      "or\n",
      "hate\n",
      "mail\n",
      "History\n",
      "of\n",
      "Hate\n",
      "Crimes\n",
      "•\n",
      "Term\n",
      "Origin:\n",
      "The\n",
      "term\n",
      "“hate\n",
      "crime”\n",
      "gained\n",
      "common\n",
      "usage\n",
      "in\n",
      "the\n",
      "U.S.\n",
      "during\n",
      "the\n",
      "1980s,\n",
      "although\n",
      "similar\n",
      "crimes\n",
      "have\n",
      "historical\n",
      "roots.\n",
      "•\n",
      "Historical\n",
      "Examples:\n",
      "•\n",
      "Roman\n",
      "persecution\n",
      "of\n",
      "Christians,\n",
      "Nazi\n",
      "genocide\n",
      "of\n",
      "Jews,\n",
      "European\n",
      "colonial\n",
      "violence\n",
      "against\n",
      "indigenous\n",
      "peoples\n",
      "•\n",
      "In\n",
      "the\n",
      "U.S.,\n",
      "lynching\n",
      "of\n",
      "African\n",
      "Americans,\n",
      "cross\n",
      "burnings,\n",
      "and\n",
      "attacks\n",
      "on\n",
      "minority\n",
      "ethnic\n",
      "and\n",
      "LGBTQ+\n",
      "communities\n",
      "•\n",
      "Recent\n",
      "Examples:\n",
      "•\n",
      "During\n",
      "COVID-19,\n",
      "anti-Chinese\n",
      "violence\n",
      "surged\n",
      "due\n",
      "to\n",
      "blame\n",
      "associated\n",
      "with\n",
      "the\n",
      "virus,\n",
      "as\n",
      "documented\n",
      "by\n",
      "organizations\n",
      "like\n",
      "the\n",
      "“NEVER\n",
      "AGAIN”\n",
      "Association\n",
      "in\n",
      "Poland.\n",
      "Psychological\n",
      "Effects\n",
      "of\n",
      "Hate\n",
      "Crimes\n",
      "•\n",
      "Impacts\n",
      "on\n",
      "Individuals:\n",
      "Trauma,\n",
      "depression,\n",
      "low\n",
      "self-esteem\n",
      "•\n",
      "Targeted\n",
      "Group:\n",
      "Increased\n",
      "fear\n",
      "and\n",
      "vulnerability\n",
      "•\n",
      "Broader\n",
      "Community:\n",
      "Division\n",
      "and\n",
      "weakened\n",
      "multicultural\n",
      "society\n",
      "Victim\n",
      "Reactions:\n",
      "Symptoms\n",
      "may\n",
      "include\n",
      "PTSD,\n",
      "depression,\n",
      "and\n",
      "avoidance\n",
      "behaviors.\n",
      "Studies\n",
      "suggest\n",
      "that\n",
      "hate\n",
      "crimes\n",
      "also\n",
      "negatively\n",
      "impact\n",
      "educational\n",
      "and\n",
      "socioeconomic\n",
      "outcomes\n",
      "for\n",
      "affected\n",
      "groups.\n",
      "Motivation\n",
      "Behind\n",
      "Hate\n",
      "Crimes\n"
     ]
    }
   ],
   "source": [
    "print(\"________________\")\n",
    "print(general[0].page_content)"
   ]
  },
  {
   "cell_type": "markdown",
   "metadata": {},
   "source": [
    "### Split Document into Chunks\n",
    "\n",
    ">- not possible to feed the whole content into the LLM at once because of finite context window\n",
    ">- even models with large window sizes may struggle to find information in very long inputs and perform very badly\n",
    ">- chunk the document into pieces: helps retrieve only the relevant information from the corpus"
   ]
  },
  {
   "cell_type": "code",
   "execution_count": 6,
   "metadata": {},
   "outputs": [],
   "source": [
    "from langchain_text_splitters import RecursiveCharacterTextSplitter\n",
    "\n",
    "def split_documents(documents, chunk_size=800, chunk_overlap=80):\n",
    "    \"\"\"\n",
    "    this function splits documents into chunks of given size and overlap\n",
    "    \"\"\"\n",
    "    text_splitter = RecursiveCharacterTextSplitter(\n",
    "        chunk_size=chunk_size,\n",
    "        chunk_overlap=chunk_overlap\n",
    "    )\n",
    "    chunks = text_splitter.split_documents(documents=documents)\n",
    "    return chunks"
   ]
  },
  {
   "cell_type": "code",
   "execution_count": 7,
   "metadata": {},
   "outputs": [
    {
     "name": "stdout",
     "output_type": "stream",
     "text": [
      "number of chunks: 21\n"
     ]
    }
   ],
   "source": [
    "general_chunks = split_documents(general)\n",
    "print(f\"number of chunks: {len(general_chunks)}\")"
   ]
  },
  {
   "cell_type": "code",
   "execution_count": 8,
   "metadata": {},
   "outputs": [],
   "source": [
    "from langchain_huggingface import HuggingFaceEmbeddings\n",
    "from langchain_community.vectorstores import FAISS\n",
    "\n",
    "def create_embedding_vector_db(chunks, db_name):\n",
    "    \"\"\"\n",
    "    this function uses the open-source embedding model HuggingFaceEmbeddings \n",
    "    to create embeddings and store those in a vector database called FAISS, \n",
    "    which allows for efficient similarity search\n",
    "    \"\"\"\n",
    "    # instantiate embedding model\n",
    "    embedding = HuggingFaceEmbeddings(\n",
    "        model_name='sentence-transformers/all-mpnet-base-v2'\n",
    "    )\n",
    "    # create the vector store \n",
    "    vectorstore = FAISS.from_documents(\n",
    "        documents=chunks,\n",
    "        embedding=embedding\n",
    "    )\n",
    "    # save vector database locally\n",
    "    vectorstore.save_local(f\"./vector_databases/vector_db_{db_name}\")"
   ]
  },
  {
   "cell_type": "code",
   "execution_count": 9,
   "metadata": {},
   "outputs": [
    {
     "name": "stderr",
     "output_type": "stream",
     "text": [
      "/Users/sayo/personal_projects/Usafe_bot/.venv/lib/python3.11/site-packages/sentence_transformers/cross_encoder/CrossEncoder.py:13: TqdmWarning: IProgress not found. Please update jupyter and ipywidgets. See https://ipywidgets.readthedocs.io/en/stable/user_install.html\n",
      "  from tqdm.autonotebook import tqdm, trange\n"
     ]
    }
   ],
   "source": [
    "create_embedding_vector_db(chunks=general_chunks, db_name='general')"
   ]
  },
  {
   "cell_type": "markdown",
   "metadata": {},
   "source": [
    "## Retrieve from Vector Database"
   ]
  },
  {
   "cell_type": "code",
   "execution_count": 10,
   "metadata": {},
   "outputs": [],
   "source": [
    "def retrieve_from_vector_db(vector_db_path):\n",
    "    \"\"\"\n",
    "    this function spits out a retriever object from a local vector database\n",
    "    \"\"\"\n",
    "    # instantiate embedding model\n",
    "    embeddings = HuggingFaceEmbeddings(\n",
    "        model_name='sentence-transformers/all-mpnet-base-v2'\n",
    "    )\n",
    "    react_vectorstore = FAISS.load_local(\n",
    "        folder_path=vector_db_path,\n",
    "        embeddings=embeddings,\n",
    "        allow_dangerous_deserialization=True\n",
    "    )\n",
    "    retriever = react_vectorstore.as_retriever()\n",
    "    return retriever"
   ]
  },
  {
   "cell_type": "code",
   "execution_count": 11,
   "metadata": {},
   "outputs": [],
   "source": [
    "general_retriever = retrieve_from_vector_db(vector_db_path='./vector_databases/vector_db_general')"
   ]
  },
  {
   "cell_type": "code",
   "execution_count": 12,
   "metadata": {},
   "outputs": [
    {
     "data": {
      "text/plain": [
       "langchain_core.vectorstores.base.VectorStoreRetriever"
      ]
     },
     "execution_count": 12,
     "metadata": {},
     "output_type": "execute_result"
    }
   ],
   "source": [
    "type(general_retriever)"
   ]
  },
  {
   "cell_type": "markdown",
   "metadata": {},
   "source": [
    "#### Load the prompt"
   ]
  },
  {
   "cell_type": "code",
   "execution_count": 13,
   "metadata": {},
   "outputs": [
    {
     "name": "stdout",
     "output_type": "stream",
     "text": [
      "\n",
      "   Usafe ChatBot Guide:\n",
      "\n",
      "   Initial Introduction:\n",
      "   Introduce Usafe to the user. Explain that their information is confidential and encourage them to share what hate crime happened to them. Ensure the message is supportive and non-judgmental because they must be traumatized. Don't be too long, be concise and to the point.\n",
      "\n",
      "   Fallback Response:\n",
      "   Provide a supportive fallback response if the user’s input is unclear or doesn’t clearly indicate a hate crime. Acknowledge their trust, ask for additional information, and offer general guidance if needed.\n",
      "   Add that if they are unsure, they can ask for more information or help from a human. Explain you are a bot and sometimes you don't grasp the full context.\n",
      "\n",
      "   Experience Acknowledgment:\n",
      "   Acknowledge the user's experience empathetically. Based on the input crime type, describe the type of hate crime they may have experienced: Gender-based hate crime involves discrimination or violence directed at individuals based on gender identity or sexual orientation.. Offer the user options (as a clickable list) for next steps, such as reporting the crime, understanding their rights, connecting with local support, or requesting additional information.\n",
      "\n",
      "   Reporting a Hate Crime:\n",
      "   Explain the process of reporting a gender-based at a Berlin police station. Include the German definitions of a hate crime: To report a gender-based hate crime, gather evidence, contact local law enforcement, and reach out to support organizations., and provide step-by-step instructions to help the user file a report. Tailor the response with relevant information based on provided hate crime definitions and reporting guidelines.\n",
      "\n",
      "   Understanding Rights:\n",
      "   Explain the user’s rights based on the type of hate crime they reported. Include relevant laws and protections that apply in Germany: Legal protections and penalties for gender-based hate crimes in Germany include.... Tailor the information based on the crime type and provided legal definitions.\n",
      "\n",
      "   Supportive Resources:\n",
      "   Provide a list of resources for support, including counseling, legal aid, and local community groups: Available support includes local LGBTQ+ organizations, mental health hotlines, and shelters.. Emphasize confidentiality and offer clear, accessible options to meet the user's needs.\n",
      "\n",
      "   Communication Style:\n",
      "   Ensure a direct, empathetic approach in all responses, prioritizing concise, supportive, and practical guidance. They should feel heard, understood, and empowered to take the next steps in addressing their experience as trauma survivors.\n",
      "   \n"
     ]
    }
   ],
   "source": [
    "with open('/Users/sayo/personal_projects/Usafe_bot/data/usafe_prompt.txt', 'r') as file:\n",
    "    user_prompt = file.read()\n",
    "\n",
    "print(user_prompt)"
   ]
  },
  {
   "cell_type": "markdown",
   "metadata": {},
   "source": [
    "## Generation"
   ]
  },
  {
   "cell_type": "markdown",
   "metadata": {},
   "source": [
    "[`create_stuff_documents_chain`](https://api.python.langchain.com/en/latest/chains/langchain.chains.combine_documents.stuff.create_stuff_documents_chain.html#langchain.chains.combine_documents.stuff.create_stuff_documents_chain)\n",
    "\n",
    "- takes a list of documents and formats them all into a prompt, then passes that prompt to an LLM\n",
    "- passes ALL documents, so you should make sure it fits within the context window of the LLM being used"
   ]
  },
  {
   "cell_type": "code",
   "execution_count": 14,
   "metadata": {},
   "outputs": [],
   "source": [
    "from langchain import hub\n",
    "from langchain.chains.combine_documents import create_stuff_documents_chain"
   ]
  },
  {
   "cell_type": "markdown",
   "metadata": {},
   "source": [
    "**chain passing user inquiry to retriever object**"
   ]
  },
  {
   "cell_type": "markdown",
   "metadata": {},
   "source": [
    "[`create_retrieval_chain`](https://api.python.langchain.com/en/latest/chains/langchain.chains.retrieval.create_retrieval_chain.html#langchain.chains.retrieval.create_retrieval_chain)\n",
    "\n",
    "- takes in a user inquiry, which is then passed to the retriever to fetch relevant documents\n",
    "- those documents (and original inputs) are then passed to an LLM to generate a response"
   ]
  },
  {
   "cell_type": "code",
   "execution_count": 15,
   "metadata": {},
   "outputs": [],
   "source": [
    "from langchain.chains.retrieval import create_retrieval_chain"
   ]
  },
  {
   "cell_type": "markdown",
   "metadata": {},
   "source": [
    "connect chains"
   ]
  },
  {
   "cell_type": "code",
   "execution_count": 16,
   "metadata": {},
   "outputs": [],
   "source": [
    "def connect_chains(retriever):\n",
    "    \"\"\"\n",
    "    this function connects stuff_documents_chain with retrieval_chain\n",
    "    \"\"\"\n",
    "    stuff_documents_chain = create_stuff_documents_chain(\n",
    "        llm=llm,\n",
    "        prompt=hub.pull(\"langchain-ai/retrieval-qa-chat\")\n",
    "    )\n",
    "    retrieval_chain = create_retrieval_chain(\n",
    "        retriever=retriever,\n",
    "        combine_docs_chain=stuff_documents_chain\n",
    "    )\n",
    "    return retrieval_chain"
   ]
  },
  {
   "cell_type": "code",
   "execution_count": 17,
   "metadata": {},
   "outputs": [],
   "source": [
    "import warnings\n",
    "warnings.filterwarnings(\"ignore\")\n",
    "from langchain_groq import ChatGroq\n",
    "\n",
    "llm = ChatGroq(\n",
    "    model=\"llama3-8b-8192\",\n",
    "    temperature=0.02,\n",
    "    max_tokens=None,\n",
    "    timeout=None,\n",
    "    max_retries=2\n",
    ")"
   ]
  },
  {
   "cell_type": "markdown",
   "metadata": {},
   "source": [
    "output generation"
   ]
  },
  {
   "cell_type": "code",
   "execution_count": 18,
   "metadata": {},
   "outputs": [],
   "source": [
    "react_retrieval_chain = connect_chains(general_retriever)"
   ]
  },
  {
   "cell_type": "code",
   "execution_count": 31,
   "metadata": {},
   "outputs": [],
   "source": [
    "def print_output(\n",
    "    inquiry,\n",
    "    retrieval_chain=react_retrieval_chain\n",
    "):\n",
    "    result = retrieval_chain.invoke({\"input\": inquiry})\n",
    "    print(result['answer'].strip(\"\\n\"))"
   ]
  },
  {
   "cell_type": "code",
   "execution_count": 32,
   "metadata": {},
   "outputs": [
    {
     "data": {
      "text/plain": [
       "dict"
      ]
     },
     "execution_count": 32,
     "metadata": {},
     "output_type": "execute_result"
    }
   ],
   "source": [
    "type(output)"
   ]
  },
  {
   "cell_type": "code",
   "execution_count": 33,
   "metadata": {},
   "outputs": [
    {
     "data": {
      "text/plain": [
       "dict_keys(['input', 'context', 'answer'])"
      ]
     },
     "execution_count": 33,
     "metadata": {},
     "output_type": "execute_result"
    }
   ],
   "source": [
    "output.keys()"
   ]
  },
  {
   "cell_type": "code",
   "execution_count": 36,
   "metadata": {},
   "outputs": [
    {
     "name": "stdout",
     "output_type": "stream",
     "text": [
      "According to the provided context, a hate crime (also known as a bias crime) is a crime where a perpetrator targets a victim due to their physical appearance or perceived membership in a specific social group. These groups may include:\n",
      "\n",
      "* Race\n",
      "* Ethnicity\n",
      "* Disability\n",
      "* Language\n",
      "* Nationality\n",
      "* Political views\n",
      "* Age\n",
      "* Religion\n",
      "* Sex\n",
      "* Gender identity\n",
      "* Sexual orientation\n",
      "\n",
      "Examples of hate crimes include:\n",
      "\n",
      "* Physical assault\n",
      "* Homicide\n",
      "* Damage to property\n",
      "* Bullying\n",
      "* Harassment\n",
      "* Verbal abuse\n",
      "* Offensive graffiti\n",
      "* Hate mail\n"
     ]
    }
   ],
   "source": [
    "print_output(\"what is hate crime\")"
   ]
  },
  {
   "cell_type": "code",
   "execution_count": 37,
   "metadata": {},
   "outputs": [
    {
     "name": "stdout",
     "output_type": "stream",
     "text": [
      "De acordo com o contexto fornecido, os crimes de ódio (ou crimes motivados por preconceito) são crimes que envolvem a perseguição ou agressão a uma pessoa ou grupo de pessoas com base em suas características físicas, sociais, políticas, religiosas, sexuais, de gênero, identidade de gênero, orientação sexual, deficiência, idade, nacionalidade, etnia, raça, língua, religião, crença ou opinião política.\n",
      "\n",
      "Exemplos de crimes de ódio incluem:\n",
      "\n",
      "* Ataques físicos, homicídios, danos a propriedade\n",
      "* Bullying, assédio, abuso verbal, grafite ofensivo, envio de correspondência ofensiva\n",
      "* Lynching, queimadas de cruz, ataques a comunidades minoritárias\n",
      "* Perseguição religiosa, incluindo anti-semitismo e islamofobia\n",
      "* Xenofobia, crimes contra pessoas percebidas como estrangeiras ou pertencentes a uma nacionalidade ou etnia diferente\n",
      "\n",
      "Esses crimes podem ter efeitos psicológicos negativos significativos nas vítimas, incluindo trauma, depressão, baixa autoestima e medo.\n"
     ]
    }
   ],
   "source": [
    "print_output(\"quais sao os crimes de odio\")"
   ]
  },
  {
   "cell_type": "code",
   "execution_count": 38,
   "metadata": {},
   "outputs": [
    {
     "name": "stdout",
     "output_type": "stream",
     "text": [
      "Based on the provided context, here are some pieces of advice that can be given to someone who is a victim of a hate crime:\n",
      "\n",
      "1. Report the incident: It is essential to report the hate crime to the authorities as soon as possible. This can be done by contacting the police or other relevant authorities in your area.\n",
      "\n",
      "2. Document everything: Keep a record of what happened, including the time, location, and any identifying features of the perpetrator. Also, save any online messages, emails, or social media posts related to the incident.\n",
      "\n",
      "3. Preserve digital evidence: Take screenshots of any online messages, emails, or social media posts that contain hate speech or threats. These can be valuable evidence in the investigation.\n",
      "\n",
      "4. Prepare for language barriers: If you don't speak the local language, consider bringing someone who speaks it to assist with translation at the police station. Alternatively, you can contact organizations that provide translation support for hate crime victims.\n",
      "\n",
      "5. Seek support: Reach out to organizations that provide support for hate crime victims, such as ReachOut Berlin. They can offer assistance and guidance throughout the process.\n",
      "\n",
      "6. Be aware of risk management: Hate crime offenders may pose a risk to others through their actions. Risk assessment tools, such as the Violence Risk Appraisal Guide (VRAG) and the Psychopathy Checklist-Revised (PCL-R), can be used to evaluate the recidivism risks for hate crime offenders.\n",
      "\n",
      "7. Understand bias motivations: Hate crimes are often motivated by biases towards specific social groups. Understanding these biases and how they can affect individuals can help in addressing and preventing hate crimes.\n",
      "\n",
      "8. Know the definition of a hate crime: A hate crime is a crime where a perpetrator targets a victim due to their physical appearance or perceived membership in a specific social group. This can include crimes such as physical assault, homicide, damage to property, bullying, harassment, verbal abuse, offensive graffiti, or hate mail.\n",
      "\n",
      "9. Be aware of the history of hate crimes: Hate crimes have a long history, dating back to ancient times. Understanding the historical context of hate crimes can help in addressing and preventing them.\n",
      "\n",
      "10. Seek help and support: Hate crimes can have a significant impact on the victim's mental and emotional well-being. Seeking help and support from professionals, friends, and family can be essential in recovering from the trauma.\n"
     ]
    }
   ],
   "source": [
    "print_output(\"what is the advice you can give to someone who is a victim of hate crime\")"
   ]
  },
  {
   "cell_type": "code",
   "execution_count": 39,
   "metadata": {},
   "outputs": [
    {
     "name": "stdout",
     "output_type": "stream",
     "text": [
      "I'm so sorry to hear that you've been a victim of a hate crime. It's important to take immediate action to report the incident and seek support. Here are the steps you can follow:\n",
      "\n",
      "1. Document the incident:\n",
      "\t* Gather as much information as possible about the event, including:\n",
      "\t\t+ Photos or videos: Visual evidence of the incident or its aftermath.\n",
      "\t\t+ Witness statements: Contact information and statements from any witnesses.\n",
      "\t\t+ Descriptions: Detailed accounts of what happened, including time, location, and any identifying features of the perpetrator.\n",
      "2. Visit Your Local Police Station:\n",
      "\t* Bring all collected documentation with you.\n",
      "\t* Explain the details of the incident, and let the officer know that you believe it to be a hate crime.\n",
      "\t* The police will create an official report based on your statement and evidence.\n",
      "3. Report Online (Optional):\n",
      "\t* If you're unable to visit the police station, you may be able to file a report online through local authorities' websites or specific online reporting platforms.\n",
      "\t* For Berlin residents, you can use the Berlin Police Online Reporting Portal to report incidents anonymously or directly.\n",
      "4. Follow Up on Your Report:\n",
      "\t* After filing, obtain a case reference number for future inquiries.\n",
      "\t* You may check in periodically with the police station or use online tools to track the progress of your report.\n",
      "5. Preserve Digital Evidence:\n",
      "\t* Save any online messages, emails, or social media posts related to the incident.\n",
      "\t* Screenshots can be valuable evidence if hate speech or threats were made online.\n",
      "6. Prepare for Language Barriers:\n",
      "\t* If you don't speak German, it can be helpful to bring someone who speaks German to assist with translation at the police station.\n",
      "\t* Alternatively, you may contact organizations that provide translation support for hate crime victims, such as ReachOut Berlin.\n",
      "\n",
      "Remember, reporting a hate crime is an important step in seeking justice and support. Don't hesitate to reach out for help.\n"
     ]
    }
   ],
   "source": [
    "print_output(\"i was victim of a hate crime, what should i do?\")"
   ]
  },
  {
   "cell_type": "code",
   "execution_count": 40,
   "metadata": {},
   "outputs": [
    {
     "name": "stdout",
     "output_type": "stream",
     "text": [
      "I'm so sorry to hear that you're going through a tough time. It's completely understandable that you might need some support and guidance to cope with the aftermath of a hate crime.\n",
      "\n",
      "According to the context, you can consider seeking mental health support from professionals or communities who can help you through this difficult time. You can find more information by clicking on the 🧩 Connecting with Local Support link, which provides assistance for individuals facing hate crime incidents.\n",
      "\n",
      "Additionally, you can also reach out to ReachOut Berlin, which offers support for individuals facing hate crime incidents. You can contact them through their email (info@reachoutberlin.de) or use their contact form available on their website.\n",
      "\n",
      "Remember, you are not alone, and there are people who care and want to help.\n"
     ]
    }
   ],
   "source": [
    "print_output(\"i neeed therapy\")"
   ]
  },
  {
   "cell_type": "code",
   "execution_count": 41,
   "metadata": {},
   "outputs": [
    {
     "name": "stdout",
     "output_type": "stream",
     "text": [
      "Here is the list of resources mentioned in the context:\n",
      "\n",
      "1. Online Strafanzeige (Online Criminal Complaint)\n",
      "2. Meldestelle Respect!\n",
      "3. Antidiskriminierungsstelle des Bundes (Federal Anti-Discrimination Agency)\n",
      "4. Verband der Beratungsstellen für Betroffene rechter, rassistischer und antisemitischer Gewalt (VBRG)\n",
      "5. GLADT e.V.\n",
      "6. Hydra e.V.\n",
      "7. LesMigraS\n",
      "8. Antidiskriminierungsverband Deutschland (advd)\n",
      "9. Neuemedienmacher\n",
      "10. Gesellschaft für Freiheitsrechte – Marie Munk Initiative\n",
      "\n",
      "These resources include:\n",
      "\n",
      "* Reporting mechanisms and platforms\n",
      "* NGOs (Non-Governmental Organizations)\n",
      "* Legal aid\n",
      "* Counseling services\n",
      "* Advocacy organizations\n",
      "* Support groups for specific communities (e.g. LGBTQ+, sex workers, Black and People of Color)\n"
     ]
    }
   ],
   "source": [
    "print_output(\"give me the list of all resources\")"
   ]
  }
 ],
 "metadata": {
  "kernelspec": {
   "display_name": ".venv",
   "language": "python",
   "name": "python3"
  },
  "language_info": {
   "codemirror_mode": {
    "name": "ipython",
    "version": 3
   },
   "file_extension": ".py",
   "mimetype": "text/x-python",
   "name": "python",
   "nbconvert_exporter": "python",
   "pygments_lexer": "ipython3",
   "version": "3.11.3"
  }
 },
 "nbformat": 4,
 "nbformat_minor": 2
}
