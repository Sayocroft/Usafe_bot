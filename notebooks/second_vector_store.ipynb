{
 "cells": [
  {
   "cell_type": "code",
   "execution_count": 35,
   "metadata": {},
   "outputs": [
    {
     "data": {
      "text/plain": [
       "True"
      ]
     },
     "execution_count": 35,
     "metadata": {},
     "output_type": "execute_result"
    }
   ],
   "source": [
    "# Load environment variables\n",
    "from dotenv import load_dotenv\n",
    "load_dotenv()"
   ]
  },
  {
   "cell_type": "code",
   "execution_count": 36,
   "metadata": {},
   "outputs": [],
   "source": [
    "from langchain_community.document_loaders import PyPDFLoader\n",
    "from langchain_text_splitters import RecursiveCharacterTextSplitter\n",
    "from langchain_huggingface import HuggingFaceEmbeddings\n",
    "from langchain_community.vectorstores import FAISS\n",
    "\n",
    "from langchain import hub\n",
    "from langchain.chains.combine_documents import create_stuff_documents_chain\n",
    "from langchain.chains.retrieval import create_retrieval_chain\n",
    "import pdfplumber\n",
    "from langchain.docstore.document import Document\n"
   ]
  },
  {
   "cell_type": "code",
   "execution_count": 37,
   "metadata": {},
   "outputs": [],
   "source": [
    "def load_pdf_with_plumber(pdf_path):\n",
    "    \"\"\"\n",
    "    Function to extract text from a PDF using pdfplumber and return a list of Document objects.\n",
    "    \"\"\"\n",
    "    text = \"\"\n",
    "    with pdfplumber.open(pdf_path) as pdf:\n",
    "        for page in pdf.pages:\n",
    "            page_text = page.extract_text()\n",
    "            if page_text:\n",
    "                text += page_text + \"\\n\"\n",
    "    \n",
    "    # Return as a list of Document objects\n",
    "    return [Document(page_content=text, metadata={\"source\": pdf_path})]\n",
    "\n",
    "# Load the general PDF using pdfplumber\n",
    "general_documents = load_pdf_with_plumber('/Users/sayo/personal_projects/Usafe_bot/data/general_one.pdf')"
   ]
  },
  {
   "cell_type": "code",
   "execution_count": 38,
   "metadata": {},
   "outputs": [],
   "source": [
    "# Function to split the loaded document into chunks\n",
    "def split_documents(documents, chunk_size=1024, chunk_overlap=200):\n",
    "    \"\"\"\n",
    "    Function to split documents into chunks of given size and overlap.\n",
    "    \"\"\"\n",
    "    text_splitter = RecursiveCharacterTextSplitter(\n",
    "        chunk_size=chunk_size,\n",
    "        chunk_overlap=chunk_overlap\n",
    "    )\n",
    "    chunks = text_splitter.split_documents(documents=documents)\n",
    "    return chunks"
   ]
  },
  {
   "cell_type": "code",
   "execution_count": 39,
   "metadata": {},
   "outputs": [
    {
     "name": "stdout",
     "output_type": "stream",
     "text": [
      "Number of chunks in general document: 16\n"
     ]
    }
   ],
   "source": [
    "# Split the general document into chunks\n",
    "general_one_chunks = split_documents(general_documents)\n",
    "print(f\"Number of chunks in general document: {len(general_one_chunks)}\")"
   ]
  },
  {
   "cell_type": "code",
   "execution_count": 40,
   "metadata": {},
   "outputs": [],
   "source": [
    "# Function to create the embedding vector database for the second vector store\n",
    "def create_embedding_vector_db(chunks, db_name):\n",
    "    \"\"\"\n",
    "    Function to create embeddings and store them in a vector database using FAISS.\n",
    "    \"\"\"\n",
    "    embedding = HuggingFaceEmbeddings(\n",
    "        model_name='sentence-transformers/all-mpnet-base-v2'\n",
    "    )\n",
    "    vectorstore = FAISS.from_documents(\n",
    "        documents=chunks,\n",
    "        embedding=embedding\n",
    "    )\n",
    "    vectorstore.save_local(f\"./vector_databases/vector_db_{db_name}\")"
   ]
  },
  {
   "cell_type": "code",
   "execution_count": 41,
   "metadata": {},
   "outputs": [],
   "source": [
    "# Create the vector store specifically for the general information\n",
    "create_embedding_vector_db(chunks=general_one_chunks, db_name='usafe_general')"
   ]
  },
  {
   "cell_type": "code",
   "execution_count": 42,
   "metadata": {},
   "outputs": [],
   "source": [
    "# Function to retrieve data from the new vector store\n",
    "def retrieve_from_vector_db(vector_db_path):\n",
    "    \"\"\"\n",
    "    Function to get a retriever object from the new vector database.\n",
    "    \"\"\"\n",
    "    embeddings = HuggingFaceEmbeddings(\n",
    "        model_name='sentence-transformers/all-mpnet-base-v2'\n",
    "    )\n",
    "    react_vectorstore = FAISS.load_local(\n",
    "        folder_path=vector_db_path,\n",
    "        embeddings=embeddings,\n",
    "        allow_dangerous_deserialization=True\n",
    "    )\n",
    "    retriever = react_vectorstore.as_retriever()\n",
    "    return retriever"
   ]
  },
  {
   "cell_type": "code",
   "execution_count": 43,
   "metadata": {},
   "outputs": [],
   "source": [
    "# Retrieve from the newly created vector store for general information\n",
    "general_retriever = retrieve_from_vector_db(vector_db_path='./vector_databases/vector_db_usafe_general')"
   ]
  },
  {
   "cell_type": "code",
   "execution_count": 44,
   "metadata": {},
   "outputs": [
    {
     "data": {
      "text/plain": [
       "langchain_core.vectorstores.base.VectorStoreRetriever"
      ]
     },
     "execution_count": 44,
     "metadata": {},
     "output_type": "execute_result"
    }
   ],
   "source": [
    "type(general_retriever)"
   ]
  },
  {
   "cell_type": "code",
   "execution_count": 45,
   "metadata": {},
   "outputs": [],
   "source": [
    "def connect_chains(retriever):\n",
    "    \"\"\"\n",
    "    this function connects stuff_documents_chain with retrieval_chain\n",
    "    \"\"\"\n",
    "    stuff_documents_chain = create_stuff_documents_chain(\n",
    "        llm=llm,\n",
    "        prompt=hub.pull(\"langchain-ai/retrieval-qa-chat\")\n",
    "    )\n",
    "    retrieval_chain = create_retrieval_chain(\n",
    "        retriever=retriever,\n",
    "        combine_docs_chain=stuff_documents_chain\n",
    "    )\n",
    "    return retrieval_chain"
   ]
  },
  {
   "cell_type": "code",
   "execution_count": 46,
   "metadata": {},
   "outputs": [],
   "source": [
    "import warnings\n",
    "warnings.filterwarnings(\"ignore\")\n",
    "from langchain_groq import ChatGroq\n",
    "\n",
    "llm = ChatGroq(\n",
    "    model=\"llama3-8b-8192\",\n",
    "    temperature=0,\n",
    "    max_tokens=None,\n",
    "    timeout=None,\n",
    "    max_retries=2\n",
    ")"
   ]
  },
  {
   "cell_type": "code",
   "execution_count": 47,
   "metadata": {},
   "outputs": [],
   "source": [
    "retrieval_chain = connect_chains(retriever=general_retriever)"
   ]
  },
  {
   "cell_type": "code",
   "execution_count": 48,
   "metadata": {},
   "outputs": [],
   "source": [
    "def print_output(\n",
    "    inquiry,\n",
    "    retrieval_chain=retrieval_chain\n",
    "):\n",
    "    result = retrieval_chain.invoke({\"input\": inquiry})\n",
    "    print(result['answer'].strip(\"\\n\"))"
   ]
  },
  {
   "cell_type": "code",
   "execution_count": 52,
   "metadata": {},
   "outputs": [
    {
     "name": "stdout",
     "output_type": "stream",
     "text": [
      "I'm so sorry to hear that you've faced a hate crime. Understanding the motivations behind hate crimes can be complex and multifaceted. According to sociologists Jack McDevitt and Jack Levin, there are four primary motives identified behind hate crimes:\n",
      "\n",
      "1. Thrill-seeking: Crimes for excitement, often by groups, targeting perceived vulnerable groups. This motive suggests that some individuals may commit hate crimes as a way to experience a rush or excitement, often by targeting groups they perceive as vulnerable or easy to attack.\n",
      "2. Defensive: Motivated by a belief that they are protecting their community from perceived threats. This motive implies that some individuals may commit hate crimes as a way to feel like they are defending their community or group from perceived threats or dangers.\n",
      "3. Retaliatory: Crimes committed in revenge for other incidents or perceived offenses. This motive suggests that some individuals may commit hate crimes as a way to retaliate or exact revenge for perceived wrongs or injustices.\n",
      "4. Mission-oriented: Crimes ideologically motivated, often targeting symbolically significant sites. This motive implies that some individuals may commit hate crimes as a way to further their ideological beliefs or to make a statement about their beliefs.\n",
      "\n",
      "It's important to note that these motives are not mutually exclusive, and individuals may have multiple motivations for committing a hate crime. Additionally, hate crimes can be committed by individuals who do not necessarily identify with a particular ideology or group, but may still hold biases and prejudices.\n",
      "\n",
      "It's also important to recognize that hate crimes are often committed by individuals who have been socialized to hold biases and prejudices through their environment, media, and social interactions. Hate crimes can also be a result of a complex interplay of social, cultural, and individual factors.\n",
      "\n",
      "I hope this information helps you understand the motivations behind hate crimes. Remember that you are not alone, and there are resources available to support you.\n"
     ]
    }
   ],
   "source": [
    "print_output(\"i faced a hate crime and i want to understand the motivations behind a hate crime?\")"
   ]
  }
 ],
 "metadata": {
  "kernelspec": {
   "display_name": ".venv",
   "language": "python",
   "name": "python3"
  },
  "language_info": {
   "codemirror_mode": {
    "name": "ipython",
    "version": 3
   },
   "file_extension": ".py",
   "mimetype": "text/x-python",
   "name": "python",
   "nbconvert_exporter": "python",
   "pygments_lexer": "ipython3",
   "version": "3.11.3"
  }
 },
 "nbformat": 4,
 "nbformat_minor": 2
}
