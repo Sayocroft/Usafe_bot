{
 "cells": [
  {
   "cell_type": "code",
   "execution_count": 1,
   "metadata": {},
   "outputs": [],
   "source": [
    "from langchain.prompts.prompt import PromptTemplate"
   ]
  },
  {
   "cell_type": "markdown",
   "metadata": {},
   "source": [
    "0/ User Introduction"
   ]
  },
  {
   "cell_type": "code",
   "execution_count": 13,
   "metadata": {},
   "outputs": [
    {
     "name": "stdout",
     "output_type": "stream",
     "text": [
      "Initial Prompt:\n",
      "\n",
      "I’m Usafe. Whatever you share here is completely confidential, and please remember that you’re not alone. This is a safe space where you can share your experience without any judgment, and I’m here to provide information and support in the way that feels most helpful for you.\n",
      "\n",
      "Could you tell me a bit about what happened? You can share as much or as little as you’re comfortable with, and I’ll listen and guide you to the support you need.\n",
      "\n"
     ]
    }
   ],
   "source": [
    "# Define the template for the initial prompt\n",
    "initial_prompt_template = \"\"\"\n",
    "I’m Usafe. Whatever you share here is completely confidential, and please remember that you’re not alone. This is a safe space where you can share your experience without any judgment, and I’m here to provide information and support in the way that feels most helpful for you.\n",
    "\n",
    "Could you tell me a bit about what happened? You can share as much or as little as you’re comfortable with, and I’ll listen and guide you to the support you need.\n",
    "\"\"\"\n",
    "\n",
    "# Create a PromptTemplate for the initial prompt\n",
    "initial_prompt = PromptTemplate(\n",
    "    input_variables=[],\n",
    "    template=initial_prompt_template\n",
    ")\n",
    "\n",
    "# Example of how to use the initial prompt\n",
    "print(\"Initial Prompt:\")\n",
    "print(initial_prompt.format())"
   ]
  },
  {
   "cell_type": "markdown",
   "metadata": {},
   "source": [
    "1/Intermediate prompt"
   ]
  },
  {
   "cell_type": "code",
   "execution_count": 15,
   "metadata": {},
   "outputs": [
    {
     "name": "stdout",
     "output_type": "stream",
     "text": [
      "Intermediate Prompt:\n",
      "\n",
      "Thank you for sharing. Since I’m just a bot, sometimes I may not fully grasp all the details of what you’re experiencing.\n",
      "If I can’t directly identify your experience as a hate crime, I may ask for a bit more information to better understand and assist.\n",
      "\n",
      "If it still seems outside my scope, I can offer general information about what constitutes a hate crime and connect you with resources\n",
      "to speak with a human for additional support. Please let me know how you’d like to proceed, and I’ll do my best to help.\n",
      "\n"
     ]
    }
   ],
   "source": [
    "# Define the template for the intermediate prompt\n",
    "intermediate_prompt_template = \"\"\"\n",
    "Thank you for sharing. Since I’m just a bot, sometimes I may not fully grasp all the details of what you’re experiencing.\n",
    "If I can’t directly identify your experience as a hate crime, I may ask for a bit more information to better understand and assist.\n",
    "\n",
    "If it still seems outside my scope, I can offer general information about what constitutes a hate crime and connect you with resources\n",
    "to speak with a human for additional support. Please let me know how you’d like to proceed, and I’ll do my best to help.\n",
    "\"\"\"\n",
    "\n",
    "# Create a PromptTemplate for the intermediate prompt\n",
    "intermediate_prompt = PromptTemplate(\n",
    "    input_variables=[],\n",
    "    template=intermediate_prompt_template\n",
    ")\n",
    "\n",
    "# Example of how to use the intermediate prompt\n",
    "print(\"Intermediate Prompt:\")\n",
    "print(intermediate_prompt.format())"
   ]
  },
  {
   "cell_type": "markdown",
   "metadata": {},
   "source": [
    "2/ Description prompt"
   ]
  },
  {
   "cell_type": "code",
   "execution_count": 14,
   "metadata": {},
   "outputs": [
    {
     "name": "stdout",
     "output_type": "stream",
     "text": [
      "\n",
      "Description Prompt:\n",
      "\n",
      "I’m so sorry to hear that you went through this, and I truly appreciate you sharing it with me. I will do my best to support you and help however I can.\n",
      "\n",
      "Based on what you’ve described, it sounds like you may have faced a gender/LGBTI based hate crime. Here’s what we can do next to provide support:\n",
      "\n",
      "- 📄 Steps to Report a Hate Crime: I can guide you through the reporting process, helping you document and file your report with the relevant authorities.\n",
      "- ⚖️ Understanding Your Rights: I can provide information on the laws that protect you in Berlin, ensuring you know your rights and the protections available to you.\n",
      "- 🧩 Connecting with local support: If you’d like, I can help you find mental health resources to support you through this experience.\n",
      "- 💬 Something Else: If there’s something specific you’d like to focus on, just let me know, and we can go from there.\n",
      "\n",
      "Please choose an option or let me know if there’s something else on your mind. I’m here for you.\n",
      "\n"
     ]
    }
   ],
   "source": [
    "# Define the template for offering support after understanding the hate crime type\n",
    "description_prompt_template = \"\"\"\n",
    "I’m so sorry to hear that you went through this, and I truly appreciate you sharing it with me. I will do my best to support you and help however I can.\n",
    "\n",
    "Based on what you’ve described, it sounds like you may have faced a {crime_type} based hate crime. Here’s what we can do next to provide support:\n",
    "\n",
    "- 📄 Steps to Report a Hate Crime: I can guide you through the reporting process, helping you document and file your report with the relevant authorities.\n",
    "- ⚖️ Understanding Your Rights: I can provide information on the laws that protect you in Berlin, ensuring you know your rights and the protections available to you.\n",
    "- 🧩 Connecting with local support: If you’d like, I can help you find mental health resources to support you through this experience.\n",
    "- 💬 Something Else: If there’s something specific you’d like to focus on, just let me know, and we can go from there.\n",
    "\n",
    "Please choose an option or let me know if there’s something else on your mind. I’m here for you.\n",
    "\"\"\"\n",
    "\n",
    "# Create a PromptTemplate for the support prompt, which includes a variable for crime type\n",
    "description_prompt = PromptTemplate(\n",
    "    input_variables=[\"crime_type\"],\n",
    "    template=description_prompt_template\n",
    ")\n",
    "\n",
    "# After user provides the description, categorize the hate crime (this would be determined by your model or logic)\n",
    "# For this example, let's set a sample crime type\n",
    "crime_type = \"gender/LGBTI\"  # Example category based on user input\n",
    "\n",
    "# Format the support prompt with the crime type\n",
    "print(\"\\nDescription Prompt:\")\n",
    "print(description_prompt.format(crime_type=crime_type))"
   ]
  },
  {
   "cell_type": "markdown",
   "metadata": {},
   "source": [
    "3/ Reporting a hate crime"
   ]
  },
  {
   "cell_type": "code",
   "execution_count": 3,
   "metadata": {},
   "outputs": [
    {
     "name": "stdout",
     "output_type": "stream",
     "text": [
      "\n",
      "I’m here to help you understand the steps involved in reporting a hate crime. This can feel overwhelming, but I’ll guide you through it.\n",
      "\n",
      "Here’s some information on what qualifies as a hate crime based on local laws and examples: \n",
      "\n",
      "A hate crime in Germany is defined as an act motivated by bias against race, religion, sexual orientation, or other protected characteristics..\n",
      "\n",
      "I can provide general information on how to report incidents in Berlin. \n",
      "\n",
      "Let’s take it step by step to ensure you feel informed and supported throughout the process.\n",
      "\n",
      "To report a hate crime, document the incident, including photos, witness information, and descriptions. You can report it at your local police station or online.\n",
      "\n"
     ]
    }
   ],
   "source": [
    "# Define the prompt template for reporting a crime with placeholders\n",
    "report_crime_prompt_template = \"\"\"\n",
    "I’m here to help you understand the steps involved in reporting a hate crime. This can feel overwhelming, but I’ll guide you through it.\n",
    "\n",
    "Here’s some information on what qualifies as a hate crime based on local laws and examples: \n",
    "\n",
    "{hate_crime_definitions}.\n",
    "\n",
    "I can provide general information on how to report incidents in Berlin. \n",
    "\n",
    "Let’s take it step by step to ensure you feel informed and supported throughout the process.\n",
    "\n",
    "{hate_crime_how_to_report_a_crime}\n",
    "\"\"\"\n",
    "\n",
    "# Create a PromptTemplate for the report crime prompt\n",
    "report_crime_prompt = PromptTemplate(\n",
    "    input_variables=[\"hate_crime_definitions\", \"hate_crime_how_to_report_a_crime\"],\n",
    "    template=report_crime_prompt_template\n",
    ")\n",
    "\n",
    "# For now, we’ll use sample data to simulate the values that would be filled in from the vector store\n",
    "hate_crime_definitions = \"A hate crime in Germany is defined as an act motivated by bias against race, religion, sexual orientation, or other protected characteristics.\"\n",
    "hate_crime_how_to_report_a_crime = \"To report a hate crime, document the incident, including photos, witness information, and descriptions. You can report it at your local police station or online.\"\n",
    "\n",
    "# Format the prompt with the sample data\n",
    "print(report_crime_prompt.format(\n",
    "    hate_crime_definitions=hate_crime_definitions,\n",
    "    hate_crime_how_to_report_a_crime=hate_crime_how_to_report_a_crime\n",
    "))"
   ]
  },
  {
   "cell_type": "markdown",
   "metadata": {},
   "source": [
    "4/Understanding your rights"
   ]
  },
  {
   "cell_type": "code",
   "execution_count": 4,
   "metadata": {},
   "outputs": [
    {
     "name": "stdout",
     "output_type": "stream",
     "text": [
      "\n",
      "Thank you again for sharing what happened earlier. Knowing your rights is important, and I’m here to help ensure you understand the protections available to you. Hate crimes are taken seriously, and you have the right to seek justice and support.\n",
      "\n",
      "Based on what you’ve described, it sounds like you faced a **gender-based** hate crime. Here are some specific laws that apply to protect you:\n",
      "\n",
      "\n",
      "- The Anti-Discrimination Act: Protects individuals from discrimination based on race, religion, gender, and other characteristics.\n",
      "- The Hate Crime Law: Provides specific penalties for crimes motivated by prejudice against protected groups.\n",
      "- The Privacy and Security Act: Ensures the privacy and safety of individuals reporting hate crimes.\n",
      "\n",
      "\n",
      "If you’d like, I can provide additional information about your rights in specific areas, such as:\n",
      "- ⚖️ Rights in the Workplace\n",
      "- 🏛️ Rights in Public Spaces\n",
      "- 🚓 Rights During Law Enforcement Interactions\n",
      "\n",
      "Please let me know if there’s a specific area you’re interested in, and I’ll be glad to assist.\n",
      "\n"
     ]
    }
   ],
   "source": [
    "# Define the prompt template for explaining rights with placeholders\n",
    "rights_prompt_text = \"\"\"\n",
    "Thank you again for sharing what happened earlier. Knowing your rights is important, and I’m here to help ensure you understand the protections available to you. Hate crimes are taken seriously, and you have the right to seek justice and support.\n",
    "\n",
    "Based on what you’ve described, it sounds like you faced a **{crime_type}** hate crime. Here are some specific laws that apply to protect you:\n",
    "\n",
    "{law_definitions}\n",
    "\n",
    "If you’d like, I can provide additional information about your rights in specific areas, such as:\n",
    "- ⚖️ Rights in the Workplace\n",
    "- 🏛️ Rights in Public Spaces\n",
    "- 🚓 Rights During Law Enforcement Interactions\n",
    "\n",
    "Please let me know if there’s a specific area you’re interested in, and I’ll be glad to assist.\n",
    "\"\"\"\n",
    "\n",
    "# Create a PromptTemplate for the rights prompt, including both `crime_type` and `law_definitions`\n",
    "rights_prompt = PromptTemplate(\n",
    "    input_variables=[\"crime_type\", \"law_definitions\"], \n",
    "    template=rights_prompt_text\n",
    ")\n",
    "\n",
    "# Sample data to simulate the values that would be filled in from the vector store\n",
    "crime_type = \"gender-based\"\n",
    "law_definitions = \"\"\"\n",
    "- The Anti-Discrimination Act: Protects individuals from discrimination based on race, religion, gender, and other characteristics.\n",
    "- The Hate Crime Law: Provides specific penalties for crimes motivated by prejudice against protected groups.\n",
    "- The Privacy and Security Act: Ensures the privacy and safety of individuals reporting hate crimes.\n",
    "\"\"\"\n",
    "\n",
    "# Format the prompt with the sample data\n",
    "print(rights_prompt.format(crime_type=crime_type, law_definitions=law_definitions))"
   ]
  },
  {
   "cell_type": "markdown",
   "metadata": {},
   "source": [
    "5/ Connecting w/ supportive resources"
   ]
  },
  {
   "cell_type": "code",
   "execution_count": 5,
   "metadata": {},
   "outputs": [
    {
     "name": "stdout",
     "output_type": "stream",
     "text": [
      "\n",
      "Connecting with the right support can make a huge difference. I can help you find resources such as counseling, legal aid, or community support groups.\n",
      "\n",
      "Here are some resources tailored for individuals facing hate crimes: 1. Berlin Counseling Center: Offers counseling and therapy services for victims of hate crimes.\n",
      "2. Legal Aid Network: Provides legal advice and representation.\n",
      "3. Community Support Groups: Connects individuals with support groups in Berlin..\n",
      "\n",
      "Could you tell me more about the type of support you’re looking for, or would you like a list of general resources? Everything you share here remains confidential.\n",
      "\n"
     ]
    }
   ],
   "source": [
    "# Define the prompt template for providing supportive resources with placeholders\n",
    "resources_prompt_text = \"\"\"\n",
    "Connecting with the right support can make a huge difference. I can help you find resources such as counseling, legal aid, or community support groups.\n",
    "\n",
    "Here are some resources tailored for individuals facing hate crimes: {supportive_resources}.\n",
    "\n",
    "Could you tell me more about the type of support you’re looking for, or would you like a list of general resources? Everything you share here remains confidential.\n",
    "\"\"\"\n",
    "\n",
    "# Create a PromptTemplate for the resources prompt\n",
    "resources_prompt = PromptTemplate(\n",
    "    input_variables=[\"supportive_resources\"], \n",
    "    template=resources_prompt_text\n",
    ")\n",
    "\n",
    "# For now, we’ll use sample data to simulate the values that would be filled in from the vector store\n",
    "supportive_resources = \"1. Berlin Counseling Center: Offers counseling and therapy services for victims of hate crimes.\\n\" \\\n",
    "                       \"2. Legal Aid Network: Provides legal advice and representation.\\n\" \\\n",
    "                       \"3. Community Support Groups: Connects individuals with support groups in Berlin.\"\n",
    "\n",
    "# Format the prompt with the sample data\n",
    "print(resources_prompt.format(supportive_resources=supportive_resources))\n"
   ]
  },
  {
   "cell_type": "markdown",
   "metadata": {},
   "source": [
    "6/ For something else "
   ]
  },
  {
   "cell_type": "code",
   "execution_count": 7,
   "metadata": {},
   "outputs": [
    {
     "name": "stdout",
     "output_type": "stream",
     "text": [
      "\n",
      "I’m here to listen and help with whatever you need. Below is some information on hate crimes, including their definition, historical context, motivations, and psychological effects. If you'd like to explore more about any specific topic, I can provide detailed resources directly:\n",
      "\n",
      "- **Definition of Hate Crime**: [Learn more about hate crime definitions and legal protections](link_to_vector_store).\n",
      "\n",
      "- **History of Hate Crimes**: [Discover the historical context and key events in hate crime history](link_to_vector_store).\n",
      "\n",
      "- **Motivations Behind Hate Crimes**: [Understand the motivations and social factors behind hate crimes](link_to_vector_store).\n",
      "\n",
      "- **Psychological Effects of Hate Crimes**: Experiencing hate crimes can lead to emotional and psychological distress. If you're experiencing these effects, [connect with mental health support resources here](link_to_vector_store).\n",
      "\n",
      "Please feel free to share what’s on your mind, and I’ll do my best to provide the support and guidance you’re looking for. You can take your time, and remember, there’s no pressure to share more than you’re comfortable with.\n",
      "\n"
     ]
    }
   ],
   "source": [
    "# Define the prompt template for general support with placeholders\n",
    "other_prompt_text = \"\"\"\n",
    "I’m here to listen and help with whatever you need. Below is some information on hate crimes, including their definition, historical context, motivations, and psychological effects. If you'd like to explore more about any specific topic, I can provide detailed resources directly:\n",
    "\n",
    "- **Definition of Hate Crime**: [Learn more about hate crime definitions and legal protections](link_to_vector_store).\n",
    "\n",
    "- **History of Hate Crimes**: [Discover the historical context and key events in hate crime history](link_to_vector_store).\n",
    "\n",
    "- **Motivations Behind Hate Crimes**: [Understand the motivations and social factors behind hate crimes](link_to_vector_store).\n",
    "\n",
    "- **Psychological Effects of Hate Crimes**: Experiencing hate crimes can lead to emotional and psychological distress. If you're experiencing these effects, [connect with mental health support resources here](link_to_vector_store).\n",
    "\n",
    "Please feel free to share what’s on your mind, and I’ll do my best to provide the support and guidance you’re looking for. You can take your time, and remember, there’s no pressure to share more than you’re comfortable with.\n",
    "\"\"\"\n",
    "\n",
    "# Create a PromptTemplate for the general support prompt\n",
    "other_prompt = PromptTemplate(\n",
    "    input_variables=[\"general_information\"], \n",
    "    template=other_prompt_text\n",
    ")\n",
    "\n",
    "# For now, we’ll use sample data to simulate the values that would be filled in from the vector store\n",
    "general_information = \"Hate crimes are offenses motivated by bias against characteristics like race, religion, sexual orientation, and more. Germany’s laws offer protections and support for victims of these crimes.\"\n",
    "\n",
    "# Format the prompt with the sample data\n",
    "print(other_prompt.format(general_information=general_information))"
   ]
  }
 ],
 "metadata": {
  "kernelspec": {
   "display_name": ".venv",
   "language": "python",
   "name": "python3"
  },
  "language_info": {
   "codemirror_mode": {
    "name": "ipython",
    "version": 3
   },
   "file_extension": ".py",
   "mimetype": "text/x-python",
   "name": "python",
   "nbconvert_exporter": "python",
   "pygments_lexer": "ipython3",
   "version": "3.11.3"
  }
 },
 "nbformat": 4,
 "nbformat_minor": 2
}
