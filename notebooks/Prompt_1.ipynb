{
 "cells": [
  {
   "cell_type": "code",
   "execution_count": 2,
   "metadata": {},
   "outputs": [],
   "source": [
    "from langchain.prompts.prompt import PromptTemplate"
   ]
  },
  {
   "cell_type": "markdown",
   "metadata": {},
   "source": [
    "0/ User Introduction"
   ]
  },
  {
   "cell_type": "code",
   "execution_count": 11,
   "metadata": {},
   "outputs": [
    {
     "name": "stdout",
     "output_type": "stream",
     "text": [
      "Initial Prompt:\n",
      "\n",
      "I’m Usafe. Whatever you share here is completely confidential, and please remember that you’re not alone. This is a safe space where you can share your experience without any judgment, and I’m here to provide information and support in the way that feels most helpful for you.\n",
      "\n",
      "Could you tell me a bit about what happened? You can share as much or as little as you’re comfortable with, and I’ll listen and guide you to the support you need.\n",
      "\n",
      "\n",
      "Description Prompt:\n",
      "\n",
      "I’m so sorry to hear that you went through this, and I truly appreciate you sharing it with me. I will do my best to support you and help however I can.\n",
      "\n",
      "Based on what you’ve described, it sounds like you may have faced a gender/LGBTI hate crime. Here’s what we can do next to provide support:\n",
      "\n",
      "- 📄 Steps to Report a Hate Crime: I can guide you through the reporting process, helping you document and file your report with the relevant authorities.\n",
      "- ⚖️ Understanding Your Rights: I can provide information on the laws that protect you in Berlin, ensuring you know your rights and the protections available to you.\n",
      "- 🧩 Connecting with Mental Health Support: If you’d like, I can help you find mental health resources to support you through this experience.\n",
      "- 💬 Something Else: If there’s something specific you’d like to focus on, just let me know, and we can go from there.\n",
      "\n",
      "Please choose an option or let me know if there’s something else on your mind. I’m here for you.\n",
      "\n"
     ]
    }
   ],
   "source": [
    "# Define the template for the initial prompt\n",
    "initial_prompt_template = \"\"\"\n",
    "I’m Usafe. Whatever you share here is completely confidential, and please remember that you’re not alone. This is a safe space where you can share your experience without any judgment, and I’m here to provide information and support in the way that feels most helpful for you.\n",
    "\n",
    "Could you tell me a bit about what happened? You can share as much or as little as you’re comfortable with, and I’ll listen and guide you to the support you need.\n",
    "\"\"\"\n",
    "\n",
    "# Define the template for offering support after understanding the hate crime type\n",
    "description_prompt_template = \"\"\"\n",
    "I’m so sorry to hear that you went through this, and I truly appreciate you sharing it with me. I will do my best to support you and help however I can.\n",
    "\n",
    "Based on what you’ve described, it sounds like you may have faced a {crime_type} hate crime. Here’s what we can do next to provide support:\n",
    "\n",
    "- 📄 Steps to Report a Hate Crime: I can guide you through the reporting process, helping you document and file your report with the relevant authorities.\n",
    "- ⚖️ Understanding Your Rights: I can provide information on the laws that protect you in Berlin, ensuring you know your rights and the protections available to you.\n",
    "- 🧩 Connecting with Mental Health Support: If you’d like, I can help you find mental health resources to support you through this experience.\n",
    "- 💬 Something Else: If there’s something specific you’d like to focus on, just let me know, and we can go from there.\n",
    "\n",
    "Please choose an option or let me know if there’s something else on your mind. I’m here for you.\n",
    "\"\"\"\n",
    "\n",
    "# Create a PromptTemplate for the initial prompt\n",
    "initial_prompt = PromptTemplate(\n",
    "    input_variables=[],\n",
    "    template=initial_prompt_template\n",
    ")\n",
    "\n",
    "# Create a PromptTemplate for the support prompt, which includes a variable for crime type\n",
    "description_prompt = PromptTemplate(\n",
    "    input_variables=[\"crime_type\"],\n",
    "    template=description_prompt_template\n",
    ")\n",
    "\n",
    "# Example of how to use the initial prompt\n",
    "print(\"Initial Prompt:\")\n",
    "print(initial_prompt.format())\n",
    "\n",
    "# After user provides the description, categorize the hate crime (this would be determined by your model or logic)\n",
    "# For this example, let's set a sample crime type\n",
    "crime_type = \"gender/LGBTI\"  # Example category based on user input\n",
    "\n",
    "# Format the support prompt with the crime type\n",
    "print(\"\\nDescription Prompt:\")\n",
    "print(description_prompt.format(crime_type=crime_type))"
   ]
  },
  {
   "cell_type": "markdown",
   "metadata": {},
   "source": [
    "1/ Reporting a hate crime\n",
    "\n",
    "- Use the hate crime descriptions to give examples or clarify what might constitute a hate crime\n",
    "\n",
    "- Integrate information from the Wiki database to outline reporting steps or the legal framework relevant to hate crimes"
   ]
  },
  {
   "cell_type": "code",
   "execution_count": 16,
   "metadata": {},
   "outputs": [
    {
     "name": "stdout",
     "output_type": "stream",
     "text": [
      "\n",
      "I’m here to help you understand the steps involved in reporting a hate crime. This can feel overwhelming, but I’ll guide you through it.\n",
      "\n",
      "Here’s some information on what qualifies as a hate crime based on local laws and examples: \n",
      "\n",
      "A hate crime in Germany is defined as an act motivated by bias against race, religion, sexual orientation, or other protected characteristics..\n",
      "\n",
      "I can provide general information on how to report incidents in Berlin. \n",
      "\n",
      "Let’s take it step by step to ensure you feel informed and supported throughout the process.\n",
      "\n",
      "To report a hate crime, document the incident, including photos, witness information, and descriptions. You can report it at your local police station or online.\n",
      "\n"
     ]
    }
   ],
   "source": [
    "# Define the prompt template for reporting a crime with placeholders\n",
    "report_crime_prompt_template = \"\"\"\n",
    "I’m here to help you understand the steps involved in reporting a hate crime. This can feel overwhelming, but I’ll guide you through it.\n",
    "\n",
    "Here’s some information on what qualifies as a hate crime based on local laws and examples: \n",
    "\n",
    "{hate_crime_definitions}.\n",
    "\n",
    "I can provide general information on how to report incidents in Berlin. \n",
    "\n",
    "Let’s take it step by step to ensure you feel informed and supported throughout the process.\n",
    "\n",
    "{hate_crime_how_to_report_a_crime}\n",
    "\"\"\"\n",
    "\n",
    "# Create a PromptTemplate for the report crime prompt\n",
    "report_crime_prompt = PromptTemplate(\n",
    "    input_variables=[\"hate_crime_definitions\", \"hate_crime_how_to_report_a_crime\"],\n",
    "    template=report_crime_prompt_template\n",
    ")\n",
    "\n",
    "# For now, we’ll use sample data to simulate the values that would be filled in from the vector store\n",
    "hate_crime_definitions = \"A hate crime in Germany is defined as an act motivated by bias against race, religion, sexual orientation, or other protected characteristics.\"\n",
    "hate_crime_how_to_report_a_crime = \"To report a hate crime, document the incident, including photos, witness information, and descriptions. You can report it at your local police station or online.\"\n",
    "\n",
    "# Format the prompt with the sample data\n",
    "print(report_crime_prompt.format(\n",
    "    hate_crime_definitions=hate_crime_definitions,\n",
    "    hate_crime_how_to_report_a_crime=hate_crime_how_to_report_a_crime\n",
    "))"
   ]
  },
  {
   "cell_type": "markdown",
   "metadata": {},
   "source": [
    "2/Understanding your rights\n",
    "- Draw on the Wiki database for legal definitions and specific rights that relate to hate crimes in your target location.\n",
    "- Use descriptions from hate crime examples to illustrate how these rights protect individuals."
   ]
  },
  {
   "cell_type": "code",
   "execution_count": 18,
   "metadata": {},
   "outputs": [
    {
     "name": "stdout",
     "output_type": "stream",
     "text": [
      "\n",
      "Knowing your rights is important, and I’m here to provide that information. Hate crimes are taken seriously, and you have the right to seek justice and support.\n",
      "\n",
      "Here’s an overview of your rights related to hate crimes and some relevant legal definitions: In Germany, hate crime laws include protections based on race, religion, sexual orientation, gender, and other protected characteristics. These laws provide avenues for reporting, seeking justice, and accessing resources..\n",
      "\n",
      "Could you let me know the specific rights or protections you’d like to understand better? For example, I can provide information about your rights in the workplace, public spaces, or during law enforcement interactions. \n",
      "\n"
     ]
    }
   ],
   "source": [
    "# Define the prompt template for explaining rights with placeholders\n",
    "rights_prompt_text = \"\"\"\n",
    "Knowing your rights is important, and I’m here to provide that information. Hate crimes are taken seriously, and you have the right to seek justice and support.\n",
    "\n",
    "Here’s an overview of your rights related to hate crimes and some relevant legal definitions: {law_definitions}.\n",
    "\n",
    "Could you let me know the specific rights or protections you’d like to understand better? For example, I can provide information about your rights in the workplace, public spaces, or during law enforcement interactions. \n",
    "\"\"\"\n",
    "\n",
    "# Create a PromptTemplate for the rights prompt\n",
    "rights_prompt = PromptTemplate(\n",
    "    input_variables=[\"law_definitions\"], \n",
    "    template=rights_prompt_text\n",
    ")\n",
    "\n",
    "# For now, we’ll use sample data to simulate the values that would be filled in from the vector store\n",
    "law_definitions = \"In Germany, hate crime laws include protections based on race, religion, sexual orientation, gender, and other protected characteristics. These laws provide avenues for reporting, seeking justice, and accessing resources.\"\n",
    "\n",
    "# Format the prompt with the sample data\n",
    "print(rights_prompt.format(law_definitions=law_definitions))"
   ]
  },
  {
   "cell_type": "markdown",
   "metadata": {},
   "source": [
    "3/ Connecting w/ supportive resources\n",
    "- Provide examples of supportive resources, potentially with links or contact information, based on what’s in your database.\n",
    "- If possible, include specific guidance from the Wiki database or descriptions about where certain resources are most relevant."
   ]
  },
  {
   "cell_type": "code",
   "execution_count": null,
   "metadata": {},
   "outputs": [],
   "source": [
    "resources_prompt_text = \"\"\"\n",
    "Connecting with the right support can make a huge difference. I can help you find resources such as counseling, legal aid, or community support groups.\n",
    "\n",
    "Here are some resources tailored for individuals facing hate crimes: {supportive_resources}.\n",
    "\n",
    "Could you tell me more about the type of support you’re looking for, or would you like a list of general resources? Everything you share here remains confidential.\n",
    "\"\"\"\n",
    "resources_prompt = PromptTemplate(\n",
    "    input_variables=[\"supportive_resources\"], \n",
    "    template=resources_prompt_text\n",
    ")"
   ]
  },
  {
   "cell_type": "markdown",
   "metadata": {},
   "source": [
    "4/ For something else \n",
    "- Here, you could incorporate a broader set of definitions or examples if the user is unsure of what they need, potentially offering both descriptions and legal guidance."
   ]
  },
  {
   "cell_type": "code",
   "execution_count": null,
   "metadata": {},
   "outputs": [],
   "source": [
    "other_prompt_text = \"\"\"\n",
    "I’m here to listen and help with whatever you need. Here’s some information on hate crime definitions and protections that might be helpful: {general_information}.\n",
    "\n",
    "Please feel free to share what’s on your mind, and I’ll do my best to provide the support and guidance you’re looking for. You can take your time, and remember, there’s no pressure to share more than you’re comfortable with.\n",
    "\"\"\"\n",
    "other_prompt = PromptTemplate(\n",
    "    input_variables=[\"general_information\"], \n",
    "    template=other_prompt_text\n",
    ")"
   ]
  }
 ],
 "metadata": {
  "kernelspec": {
   "display_name": ".venv",
   "language": "python",
   "name": "python3"
  },
  "language_info": {
   "codemirror_mode": {
    "name": "ipython",
    "version": 3
   },
   "file_extension": ".py",
   "mimetype": "text/x-python",
   "name": "python",
   "nbconvert_exporter": "python",
   "pygments_lexer": "ipython3",
   "version": "3.11.3"
  }
 },
 "nbformat": 4,
 "nbformat_minor": 2
}
