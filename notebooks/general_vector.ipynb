{
 "cells": [
  {
   "cell_type": "code",
   "execution_count": 1,
   "metadata": {},
   "outputs": [],
   "source": [
    "# Import necessary libraries\n",
    "import warnings\n",
    "from dotenv import load_dotenv\n",
    "import pdfplumber\n",
    "from langchain_text_splitters import RecursiveCharacterTextSplitter\n",
    "from langchain_huggingface import HuggingFaceEmbeddings\n",
    "from langchain_community.vectorstores import FAISS\n",
    "from langchain.docstore.document import Document\n",
    "from langchain import hub\n",
    "from langchain.chains.combine_documents import create_stuff_documents_chain\n",
    "from langchain.chains.retrieval import create_retrieval_chain\n",
    "from langchain_groq import ChatGroq"
   ]
  },
  {
   "cell_type": "code",
   "execution_count": 2,
   "metadata": {},
   "outputs": [
    {
     "data": {
      "text/plain": [
       "True"
      ]
     },
     "execution_count": 2,
     "metadata": {},
     "output_type": "execute_result"
    }
   ],
   "source": [
    "# Load environment variables\n",
    "load_dotenv()"
   ]
  },
  {
   "cell_type": "code",
   "execution_count": 3,
   "metadata": {},
   "outputs": [],
   "source": [
    "# Suppress warnings\n",
    "warnings.filterwarnings(\"ignore\")"
   ]
  },
  {
   "cell_type": "code",
   "execution_count": 4,
   "metadata": {},
   "outputs": [],
   "source": [
    "# Step 1: PDF Extraction\n",
    "def extract_text_from_pdf(pdf_path):\n",
    "    \"\"\"\n",
    "    Extracts text from a PDF file using pdfplumber.\n",
    "    Returns a list of Document objects.\n",
    "    \"\"\"\n",
    "    extracted_text = \"\"\n",
    "    with pdfplumber.open(pdf_path) as pdf:\n",
    "        for page in pdf.pages:\n",
    "            page_text = page.extract_text()\n",
    "            if page_text:\n",
    "                extracted_text += page_text + \"\\n\"\n",
    "    return [Document(page_content=extracted_text, metadata={\"source\": pdf_path})]\n",
    "\n",
    "# Load the general PDF with extracted text\n",
    "general_docs = extract_text_from_pdf('/Users/sayo/personal_projects/Usafe_bot/data/general_one.pdf')"
   ]
  },
  {
   "cell_type": "code",
   "execution_count": 5,
   "metadata": {},
   "outputs": [],
   "source": [
    "# Structured data definitions\n",
    "hate_crime_definitions = \"A hate crime (also known as a bias crime) is a crime where a perpetrator targets a victim due to their physical appearance or perceived membership in a specific social group.\"\n",
    "psychological_effects = \"Hate crimes have severe psychological impacts. Individuals may experience trauma, depression, and low self-esteem, while targeted groups often feel increased fear and vulnerability\"\n",
    "history_of_hate_crimes = \"The term “hate crime” gained common usage in the U.S. during the 1980s, although similar crimes have historical roots\"\n",
    "motivation_behind_hate_crimes = \" include thrill-seeking (committed for excitement, often by groups targeting vulnerable individuals), defensive motives (protecting one’s community from perceived threats)\"\n",
    "german_laws = \"The German Criminal Code includes several sections addressing hate crimes\"\n",
    "local_resources = \"Germany offers numerous resources to support victims of hate crimes\"\n",
    "steps_to_report_a_crime = \"To report a hate crime, document the incident, gather evidence, prepare for language barriers, contact local law enforcement, and reach out to support organizations.\"\n",
    "\n",
    "# Create structured data documents\n",
    "structured_data_docs = [\n",
    "    Document(page_content=hate_crime_definitions, metadata={\"source\": \"definitions\"}),\n",
    "    Document(page_content=psychological_effects, metadata={\"source\": \"psychological_effects\"}),\n",
    "    Document(page_content=history_of_hate_crimes, metadata={\"source\": \"history\"}),\n",
    "    Document(page_content=motivation_behind_hate_crimes, metadata={\"source\": \"motivation\"}),\n",
    "    Document(page_content=german_laws, metadata={\"source\": \"laws\"}),\n",
    "    Document(page_content=local_resources, metadata={\"source\": \"resources\"}),\n",
    "    Document(page_content=steps_to_report_a_crime, metadata={\"source\": \"reporting_steps\"})\n",
    "]"
   ]
  },
  {
   "cell_type": "code",
   "execution_count": 6,
   "metadata": {},
   "outputs": [],
   "source": [
    "# Step 2: Document Chunking\n",
    "def chunk_documents(documents, chunk_size=512, chunk_overlap=20):\n",
    "    \"\"\"\n",
    "    Splits documents into smaller chunks for embedding.\n",
    "    \"\"\"\n",
    "    text_splitter = RecursiveCharacterTextSplitter(\n",
    "        chunk_size=chunk_size,\n",
    "        chunk_overlap=chunk_overlap\n",
    "    )\n",
    "    return text_splitter.split_documents(documents=documents)"
   ]
  },
  {
   "cell_type": "code",
   "execution_count": 7,
   "metadata": {},
   "outputs": [
    {
     "name": "stdout",
     "output_type": "stream",
     "text": [
      "Chunks created from general PDF: 20\n",
      "Chunks created from structured data: 7\n",
      "Total chunks after adding structured data: 27\n"
     ]
    }
   ],
   "source": [
    "# Step 2: Chunk Documents\n",
    "general_chunks = chunk_documents(general_docs)\n",
    "print(f\"Chunks created from general PDF: {len(general_chunks)}\")\n",
    "\n",
    "# Chunk the structured data documents\n",
    "structured_chunks = chunk_documents(structured_data_docs)\n",
    "print(f\"Chunks created from structured data: {len(structured_chunks)}\")\n",
    "\n",
    "# Combine general chunks with structured data chunks\n",
    "general_chunks += structured_chunks\n",
    "print(f\"Total chunks after adding structured data: {len(general_chunks)}\")"
   ]
  },
  {
   "cell_type": "code",
   "execution_count": 8,
   "metadata": {},
   "outputs": [],
   "source": [
    "# Step 3: Embedding and Vector Store Creation\n",
    "def create_vector_store(general_chunks, data_base_name='usafe_general'):\n",
    "    \"\"\"\n",
    "    Creates a vector store using HuggingFace embeddings and saves it locally.\n",
    "    \"\"\"\n",
    "    embeddings_model = HuggingFaceEmbeddings(\n",
    "        model_name='sentence-transformers/all-mpnet-base-v2'\n",
    "    )\n",
    "    vector_store = FAISS.from_documents(general_chunks, embedding=embeddings_model)\n",
    "    vector_store.save_local(f\"./vector_databases/{data_base_name}\")"
   ]
  },
  {
   "cell_type": "code",
   "execution_count": 9,
   "metadata": {},
   "outputs": [],
   "source": [
    "# Create the vector store specifically for the general information\n",
    "create_vector_store(general_chunks, data_base_name='usafe_general')"
   ]
  },
  {
   "cell_type": "code",
   "execution_count": 10,
   "metadata": {},
   "outputs": [],
   "source": [
    "# Step 4: Vector Store Retrieval\n",
    "def load_vector_store(data_base_name='./vector_databases/usafe_general'):\n",
    "    \"\"\"\n",
    "    Loads a vector store from a specified path and returns a retriever.\n",
    "    \"\"\"\n",
    "    embeddings_model = HuggingFaceEmbeddings(model_name='sentence-transformers/all-mpnet-base-v2')\n",
    "    vector_store = FAISS.load_local(folder_path=data_base_name, embeddings=embeddings_model, allow_dangerous_deserialization=True)\n",
    "    return vector_store.as_retriever(search_kwargs={'k': 5})"
   ]
  },
  {
   "cell_type": "code",
   "execution_count": 11,
   "metadata": {},
   "outputs": [],
   "source": [
    "# Initialize retriever for general information\n",
    "general_info_retriever = load_vector_store('./vector_databases/usafe_general')"
   ]
  },
  {
   "cell_type": "code",
   "execution_count": 12,
   "metadata": {},
   "outputs": [
    {
     "data": {
      "text/plain": [
       "langchain_core.vectorstores.base.VectorStoreRetriever"
      ]
     },
     "execution_count": 12,
     "metadata": {},
     "output_type": "execute_result"
    }
   ],
   "source": [
    "type(general_info_retriever)"
   ]
  },
  {
   "cell_type": "code",
   "execution_count": 13,
   "metadata": {},
   "outputs": [],
   "source": [
    "def connect_chains(retriever):\n",
    "    \"\"\"\n",
    "    this function connects stuff_documents_chain with retrieval_chain\n",
    "    \"\"\"\n",
    "    stuff_documents_chain = create_stuff_documents_chain(\n",
    "        llm=llm,\n",
    "        prompt=hub.pull(\"langchain-ai/retrieval-qa-chat\")\n",
    "    )\n",
    "    retrieval_chain = create_retrieval_chain(\n",
    "        retriever=retriever,\n",
    "        combine_docs_chain=stuff_documents_chain\n",
    "    )\n",
    "    return retrieval_chain"
   ]
  },
  {
   "cell_type": "code",
   "execution_count": 14,
   "metadata": {},
   "outputs": [],
   "source": [
    "# Step 5: LLM and Chain Connection\n",
    "def initialize_llm(model_name=\"llama3-8b-8192\"):\n",
    "    \"\"\"\n",
    "    Initializes the LLM model with specified configurations.\n",
    "    \"\"\"\n",
    "    return ChatGroq(\n",
    "        model=model_name,\n",
    "        temperature=0,\n",
    "        max_tokens=None,\n",
    "        timeout=None,\n",
    "        max_retries=2\n",
    "    )"
   ]
  },
  {
   "cell_type": "code",
   "execution_count": 15,
   "metadata": {},
   "outputs": [],
   "source": [
    "# Load LLM\n",
    "llm = initialize_llm()\n",
    "\n",
    "def setup_retrieval_chain(retriever):\n",
    "    \"\"\"\n",
    "    Sets up the document chain and retrieval chain.\n",
    "    \"\"\"\n",
    "    stuff_chain = create_stuff_documents_chain(\n",
    "        llm=llm,\n",
    "        prompt=hub.pull(\"langchain-ai/retrieval-qa-chat\")\n",
    "    )\n",
    "    return create_retrieval_chain(retriever=retriever, combine_docs_chain=stuff_chain)"
   ]
  },
  {
   "cell_type": "code",
   "execution_count": 16,
   "metadata": {},
   "outputs": [],
   "source": [
    "usafe_retrieval_chain = setup_retrieval_chain(general_info_retriever)"
   ]
  },
  {
   "cell_type": "code",
   "execution_count": 17,
   "metadata": {},
   "outputs": [],
   "source": [
    "def query_usafe_bot(user_input, retrieval_chain=usafe_retrieval_chain):\n",
    "    \"\"\"\n",
    "    Queries the Usafe ChatBot with a user's input and returns the response.\n",
    "    \"\"\"\n",
    "    # Query the retrieval chain\n",
    "    response = retrieval_chain.invoke({\"input\": user_input})\n",
    "    \n",
    "    # Print the response for debugging\n",
    "    print(f\"Response:\\n{response['answer'].strip()}\")\n",
    "    \n",
    "    # Return the response for further use\n",
    "    return response['answer']"
   ]
  },
  {
   "cell_type": "code",
   "execution_count": 18,
   "metadata": {},
   "outputs": [
    {
     "name": "stdout",
     "output_type": "stream",
     "text": [
      "Response:\n",
      "According to the context, the steps to report a hate crime are:\n",
      "\n",
      "1. Bring someone who can assist with translation when reporting the incident at a police station.\n",
      "2. Visit Your Local Police Station: Bring all collected documentation and explain the details to the officer, emphasizing that it was a hate crime. Request a case reference number for future follow-ups.\n",
      "3. Report Online: If unable to visit a police station, you can file a report online via local authorities' websites, such as the Berlin Police Online Reporting Portal.\n",
      "\n",
      "As for local resources available in Germany, the context mentions the following:\n",
      "\n",
      "1. Online Strafanzeige platform: allows individuals to file criminal complaints online, including hate crimes.\n",
      "2. Meldestelle Respect!: offers a platform to report hate speech and receive expert analysis.\n",
      "3. Antidiskriminierungsstelle des Bundes (Federal Anti-Discrimination Agency): provides information and support for victims of hate crimes.\n",
      "4. Get The Trolls Out!: addresses hate speech related to religion through media monitoring and campaigns.\n",
      "5. Berlin Police – Hate Crime Prevention unit: offers information and support for victims of hate crimes.\n",
      "6. Roots Berlin: provides counseling for victims of discrimination and hate crimes.\n",
      "\n",
      "Additionally, the context mentions ReachOut Berlin, which offers translation support, legal assistance, and mental health counseling for victims of hate crimes.\n"
     ]
    },
    {
     "data": {
      "text/plain": [
       "\"According to the context, the steps to report a hate crime are:\\n\\n1. Bring someone who can assist with translation when reporting the incident at a police station.\\n2. Visit Your Local Police Station: Bring all collected documentation and explain the details to the officer, emphasizing that it was a hate crime. Request a case reference number for future follow-ups.\\n3. Report Online: If unable to visit a police station, you can file a report online via local authorities' websites, such as the Berlin Police Online Reporting Portal.\\n\\nAs for local resources available in Germany, the context mentions the following:\\n\\n1. Online Strafanzeige platform: allows individuals to file criminal complaints online, including hate crimes.\\n2. Meldestelle Respect!: offers a platform to report hate speech and receive expert analysis.\\n3. Antidiskriminierungsstelle des Bundes (Federal Anti-Discrimination Agency): provides information and support for victims of hate crimes.\\n4. Get The Trolls Out!: addresses hate speech related to religion through media monitoring and campaigns.\\n5. Berlin Police – Hate Crime Prevention unit: offers information and support for victims of hate crimes.\\n6. Roots Berlin: provides counseling for victims of discrimination and hate crimes.\\n\\nAdditionally, the context mentions ReachOut Berlin, which offers translation support, legal assistance, and mental health counseling for victims of hate crimes.\""
      ]
     },
     "execution_count": 18,
     "metadata": {},
     "output_type": "execute_result"
    }
   ],
   "source": [
    "query_usafe_bot(\"What are the steps to report a hate crime? and what local resources are available in Germany?\")"
   ]
  },
  {
   "cell_type": "code",
   "execution_count": 19,
   "metadata": {},
   "outputs": [
    {
     "name": "stdout",
     "output_type": "stream",
     "text": [
      "Response:\n",
      "According to the provided context, a hate crime (also known as a bias crime) is a crime where a perpetrator targets a victim due to their physical appearance or perceived membership in a specific social group.\n"
     ]
    },
    {
     "data": {
      "text/plain": [
       "'According to the provided context, a hate crime (also known as a bias crime) is a crime where a perpetrator targets a victim due to their physical appearance or perceived membership in a specific social group.'"
      ]
     },
     "execution_count": 19,
     "metadata": {},
     "output_type": "execute_result"
    }
   ],
   "source": [
    "query_usafe_bot(\"What is the definition of a hate crime?\")"
   ]
  },
  {
   "cell_type": "code",
   "execution_count": 20,
   "metadata": {},
   "outputs": [
    {
     "name": "stdout",
     "output_type": "stream",
     "text": [
      "Response:\n",
      "Based on the context, here are the steps you can follow to get resources to help you feel better after a hate crime:\n",
      "\n",
      "1. Document the incident: Record as much information as possible about the incident, including dates, times, locations, and details of what happened.\n",
      "2. Gather evidence: Collect any physical evidence, such as photos, videos, or witness statements, that can help support your report.\n",
      "3. Prepare for language barriers: If you're not fluent in German, be prepared to seek translation support from organizations like ReachOut Berlin.\n",
      "4. Contact local law enforcement: Report the incident to the police and provide them with the information and evidence you've gathered.\n",
      "5. Reach out to support organizations: Contact organizations like the Agency (antidiskriminierungsstelle.de) for counseling and support, and You Are Not Alone (youarenotalone.ai) for mental health resources and coping strategies.\n",
      "6. Seek additional support: If needed, reach out to organizations like ReachOut Berlin for translation support, legal assistance, or mental health counseling.\n",
      "7. Access local resources: Germany offers various resources, including NGOs, legal aid, and counseling services, to support victims of hate crimes.\n",
      "\n",
      "Remember to prioritize your mental health and well-being during this challenging time.\n"
     ]
    },
    {
     "data": {
      "text/plain": [
       "\"Based on the context, here are the steps you can follow to get resources to help you feel better after a hate crime:\\n\\n1. Document the incident: Record as much information as possible about the incident, including dates, times, locations, and details of what happened.\\n2. Gather evidence: Collect any physical evidence, such as photos, videos, or witness statements, that can help support your report.\\n3. Prepare for language barriers: If you're not fluent in German, be prepared to seek translation support from organizations like ReachOut Berlin.\\n4. Contact local law enforcement: Report the incident to the police and provide them with the information and evidence you've gathered.\\n5. Reach out to support organizations: Contact organizations like the Agency (antidiskriminierungsstelle.de) for counseling and support, and You Are Not Alone (youarenotalone.ai) for mental health resources and coping strategies.\\n6. Seek additional support: If needed, reach out to organizations like ReachOut Berlin for translation support, legal assistance, or mental health counseling.\\n7. Access local resources: Germany offers various resources, including NGOs, legal aid, and counseling services, to support victims of hate crimes.\\n\\nRemember to prioritize your mental health and well-being during this challenging time.\""
      ]
     },
     "execution_count": 20,
     "metadata": {},
     "output_type": "execute_result"
    }
   ],
   "source": [
    "query_usafe_bot(\"What are the steps i can follow to get resources to help me feel better after a hate crime?\")"
   ]
  },
  {
   "cell_type": "code",
   "execution_count": 21,
   "metadata": {},
   "outputs": [
    {
     "name": "stdout",
     "output_type": "stream",
     "text": [
      "Response:\n",
      "I'm so sorry to hear that you've experienced a hate crime. It's important to prioritize your safety and well-being during this time. Here are some steps you can take:\n",
      "\n",
      "1. Document the incident: Write down as many details as you can remember about the incident, including what happened, when it happened, and where it happened. Take photos or gather any physical evidence.\n",
      "2. Gather evidence: Collect any physical evidence that may be relevant to the incident, such as witness statements, videos, or audio recordings.\n",
      "3. Prepare for language barriers: If you're not fluent in the language spoken by the police or other authorities, consider bringing someone who can assist with translation.\n",
      "4. Report the incident: You can report the incident to the police at a station or online through the local authorities' reporting platform. Make sure to explain that it was a hate crime and request a case reference number.\n",
      "5. Seek support: Reach out to organizations that provide support for hate crime victims, such as the Antidiskriminierungsstelle.de or the You Are Not Alone platform. They can offer counseling, legal aid, and other resources to help you cope with the impact of the hate crime.\n",
      "\n",
      "Additionally, you may also want to:\n",
      "\n",
      "6. Contact local law enforcement: The police are responsible for investigating and solving hate crimes. They can provide you with information and support throughout the process.\n",
      "7. Prioritize your mental health: It's essential to prioritize your mental well-being during this time. Reach out to friends, family, or a therapist for emotional support.\n",
      "8. Seek legal aid: If you're in need of legal assistance, consider reaching out to organizations like ReachOut Berlin, which offers legal assistance, translation support, and mental health counseling.\n",
      "\n",
      "Remember, you're not alone, and there are resources available to support you. Don't hesitate to reach out for help.\n"
     ]
    },
    {
     "data": {
      "text/plain": [
       "\"I'm so sorry to hear that you've experienced a hate crime. It's important to prioritize your safety and well-being during this time. Here are some steps you can take:\\n\\n1. Document the incident: Write down as many details as you can remember about the incident, including what happened, when it happened, and where it happened. Take photos or gather any physical evidence.\\n2. Gather evidence: Collect any physical evidence that may be relevant to the incident, such as witness statements, videos, or audio recordings.\\n3. Prepare for language barriers: If you're not fluent in the language spoken by the police or other authorities, consider bringing someone who can assist with translation.\\n4. Report the incident: You can report the incident to the police at a station or online through the local authorities' reporting platform. Make sure to explain that it was a hate crime and request a case reference number.\\n5. Seek support: Reach out to organizations that provide support for hate crime victims, such as the Antidiskriminierungsstelle.de or the You Are Not Alone platform. They can offer counseling, legal aid, and other resources to help you cope with the impact of the hate crime.\\n\\nAdditionally, you may also want to:\\n\\n6. Contact local law enforcement: The police are responsible for investigating and solving hate crimes. They can provide you with information and support throughout the process.\\n7. Prioritize your mental health: It's essential to prioritize your mental well-being during this time. Reach out to friends, family, or a therapist for emotional support.\\n8. Seek legal aid: If you're in need of legal assistance, consider reaching out to organizations like ReachOut Berlin, which offers legal assistance, translation support, and mental health counseling.\\n\\nRemember, you're not alone, and there are resources available to support you. Don't hesitate to reach out for help.\""
      ]
     },
     "execution_count": 21,
     "metadata": {},
     "output_type": "execute_result"
    }
   ],
   "source": [
    "query_usafe_bot(\"I faced a hate crime and I need help with what to do next.\")"
   ]
  },
  {
   "cell_type": "code",
   "execution_count": 22,
   "metadata": {},
   "outputs": [
    {
     "name": "stdout",
     "output_type": "stream",
     "text": [
      "Response:\n",
      "According to the context, the psychological effects of a hate crime on the victim may include:\n",
      "\n",
      "1. Trauma\n",
      "2. Depression\n",
      "3. Low self-esteem\n",
      "4. Increased fear and vulnerability\n"
     ]
    },
    {
     "data": {
      "text/plain": [
       "'According to the context, the psychological effects of a hate crime on the victim may include:\\n\\n1. Trauma\\n2. Depression\\n3. Low self-esteem\\n4. Increased fear and vulnerability'"
      ]
     },
     "execution_count": 22,
     "metadata": {},
     "output_type": "execute_result"
    }
   ],
   "source": [
    "query_usafe_bot(\"what are the psychological effects of a hate crime on the victim?\")"
   ]
  },
  {
   "cell_type": "code",
   "execution_count": 23,
   "metadata": {},
   "outputs": [
    {
     "name": "stdout",
     "output_type": "stream",
     "text": [
      "Response:\n",
      "According to the context, the primary motives behind hate crimes, as identified by sociologists like Jack McDevitt and Jack Levin, include:\n",
      "\n",
      "1. Thrill-seeking (committed for excitement, often by groups targeting vulnerable individuals)\n",
      "2. Defensive motives (protecting one's community from perceived threats)\n",
      "3. Retaliatory motives (revenge for perceived offenses)\n",
      "4. Mission-oriented crimes (ideologically motivated, often targeting symbolically significant sites)\n",
      "\n",
      "Additionally, the Self-Control Theory suggests that social, cultural, and individual factors contribute to these biases, and offenders often develop biases through social interactions and cultural influences.\n"
     ]
    },
    {
     "data": {
      "text/plain": [
       "\"According to the context, the primary motives behind hate crimes, as identified by sociologists like Jack McDevitt and Jack Levin, include:\\n\\n1. Thrill-seeking (committed for excitement, often by groups targeting vulnerable individuals)\\n2. Defensive motives (protecting one's community from perceived threats)\\n3. Retaliatory motives (revenge for perceived offenses)\\n4. Mission-oriented crimes (ideologically motivated, often targeting symbolically significant sites)\\n\\nAdditionally, the Self-Control Theory suggests that social, cultural, and individual factors contribute to these biases, and offenders often develop biases through social interactions and cultural influences.\""
      ]
     },
     "execution_count": 23,
     "metadata": {},
     "output_type": "execute_result"
    }
   ],
   "source": [
    "query_usafe_bot(\"What are the motivations behind hate crimes?\")"
   ]
  }
 ],
 "metadata": {
  "kernelspec": {
   "display_name": ".venv",
   "language": "python",
   "name": "python3"
  },
  "language_info": {
   "codemirror_mode": {
    "name": "ipython",
    "version": 3
   },
   "file_extension": ".py",
   "mimetype": "text/x-python",
   "name": "python",
   "nbconvert_exporter": "python",
   "pygments_lexer": "ipython3",
   "version": "3.11.3"
  }
 },
 "nbformat": 4,
 "nbformat_minor": 2
}
