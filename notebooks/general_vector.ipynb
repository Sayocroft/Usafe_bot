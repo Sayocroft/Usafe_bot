{
 "cells": [
  {
   "cell_type": "code",
   "execution_count": 28,
   "metadata": {},
   "outputs": [],
   "source": [
    "# Import necessary libraries\n",
    "import warnings\n",
    "from dotenv import load_dotenv\n",
    "import pdfplumber\n",
    "from langchain_text_splitters import RecursiveCharacterTextSplitter\n",
    "from langchain_huggingface import HuggingFaceEmbeddings\n",
    "from langchain_community.vectorstores import FAISS\n",
    "from langchain.docstore.document import Document\n",
    "from langchain import hub\n",
    "from langchain.chains.combine_documents import create_stuff_documents_chain\n",
    "from langchain.chains.retrieval import create_retrieval_chain\n",
    "from langchain_groq import ChatGroq"
   ]
  },
  {
   "cell_type": "code",
   "execution_count": 29,
   "metadata": {},
   "outputs": [
    {
     "data": {
      "text/plain": [
       "True"
      ]
     },
     "execution_count": 29,
     "metadata": {},
     "output_type": "execute_result"
    }
   ],
   "source": [
    "# Load environment variables\n",
    "load_dotenv()"
   ]
  },
  {
   "cell_type": "code",
   "execution_count": 30,
   "metadata": {},
   "outputs": [],
   "source": [
    "# Suppress warnings\n",
    "warnings.filterwarnings(\"ignore\")"
   ]
  },
  {
   "cell_type": "code",
   "execution_count": 31,
   "metadata": {},
   "outputs": [],
   "source": [
    "# Step 1: PDF Extraction\n",
    "def extract_text_from_pdf(pdf_path):\n",
    "    \"\"\"\n",
    "    Extracts text from a PDF file using pdfplumber.\n",
    "    Returns a list of Document objects.\n",
    "    \"\"\"\n",
    "    extracted_text = \"\"\n",
    "    with pdfplumber.open(pdf_path) as pdf:\n",
    "        for page in pdf.pages:\n",
    "            page_text = page.extract_text()\n",
    "            if page_text:\n",
    "                extracted_text += page_text + \"\\n\"\n",
    "    return [Document(page_content=extracted_text, metadata={\"source\": pdf_path})]\n",
    "\n",
    "# Load the general PDF with extracted text\n",
    "general_docs = extract_text_from_pdf('/Users/sayo/personal_projects/Usafe_bot/data/general_one.pdf')"
   ]
  },
  {
   "cell_type": "code",
   "execution_count": 32,
   "metadata": {},
   "outputs": [],
   "source": [
    "# Step 2: Document Chunking\n",
    "def chunk_documents(documents, chunk_size=1000, chunk_overlap=100):\n",
    "    \"\"\"\n",
    "    Splits documents into smaller chunks for embedding.\n",
    "    \"\"\"\n",
    "    text_splitter = RecursiveCharacterTextSplitter(\n",
    "        chunk_size=chunk_size,\n",
    "        chunk_overlap=chunk_overlap\n",
    "    )\n",
    "    return text_splitter.split_documents(documents=documents)"
   ]
  },
  {
   "cell_type": "code",
   "execution_count": 33,
   "metadata": {},
   "outputs": [
    {
     "name": "stdout",
     "output_type": "stream",
     "text": [
      "Chunks created: 15\n"
     ]
    }
   ],
   "source": [
    "# Chunk the general document\n",
    "general_chunks = chunk_documents(general_docs)\n",
    "print(f\"Chunks created: {len(general_chunks)}\")"
   ]
  },
  {
   "cell_type": "code",
   "execution_count": 34,
   "metadata": {},
   "outputs": [],
   "source": [
    "# Step 3: Embedding and Vector Store Creation\n",
    "def create_vector_store(doc_chunks, data_base_name='usafe_general'):\n",
    "    \"\"\"\n",
    "    Creates a vector store using HuggingFace embeddings and saves it locally.\n",
    "    \"\"\"\n",
    "    embeddings_model = HuggingFaceEmbeddings(model_name='sentence-transformers/all-mpnet-base-v2')\n",
    "    vector_store = FAISS.from_documents(doc_chunks, embedding=embeddings_model)\n",
    "    vector_store.save_local(f\"./vector_databases/{data_base_name}\")\n",
    "    print(f\"Vector store created: '{data_base_name}' created and saved\")"
   ]
  },
  {
   "cell_type": "code",
   "execution_count": 35,
   "metadata": {},
   "outputs": [
    {
     "name": "stdout",
     "output_type": "stream",
     "text": [
      "Vector store created: 'usafe_general' created and saved\n"
     ]
    }
   ],
   "source": [
    "# Create the vector store specifically for the general information\n",
    "create_vector_store(general_chunks, data_base_name='usafe_general')"
   ]
  },
  {
   "cell_type": "code",
   "execution_count": 36,
   "metadata": {},
   "outputs": [],
   "source": [
    "# Step 4: Vector Store Retrieval\n",
    "def load_vector_store(data_base_name='./vector_databases/usafe_general'):\n",
    "    \"\"\"\n",
    "    Loads a vector store from a specified path and returns a retriever.\n",
    "    \"\"\"\n",
    "    embeddings_model = HuggingFaceEmbeddings(model_name='sentence-transformers/all-mpnet-base-v2')\n",
    "    vector_store = FAISS.load_local(folder_path=data_base_name, embeddings=embeddings_model, allow_dangerous_deserialization=True)\n",
    "    return vector_store.as_retriever()"
   ]
  },
  {
   "cell_type": "code",
   "execution_count": 37,
   "metadata": {},
   "outputs": [],
   "source": [
    "# Initialize retriever for general information\n",
    "general_info_retriever = load_vector_store()"
   ]
  },
  {
   "cell_type": "code",
   "execution_count": 38,
   "metadata": {},
   "outputs": [
    {
     "data": {
      "text/plain": [
       "langchain_core.vectorstores.base.VectorStoreRetriever"
      ]
     },
     "execution_count": 38,
     "metadata": {},
     "output_type": "execute_result"
    }
   ],
   "source": [
    "type(general_info_retriever)"
   ]
  },
  {
   "cell_type": "code",
   "execution_count": 39,
   "metadata": {},
   "outputs": [],
   "source": [
    "def connect_chains(retriever):\n",
    "    \"\"\"\n",
    "    this function connects stuff_documents_chain with retrieval_chain\n",
    "    \"\"\"\n",
    "    stuff_documents_chain = create_stuff_documents_chain(\n",
    "        llm=llm,\n",
    "        prompt=hub.pull(\"langchain-ai/retrieval-qa-chat\")\n",
    "    )\n",
    "    retrieval_chain = create_retrieval_chain(\n",
    "        retriever=retriever,\n",
    "        combine_docs_chain=stuff_documents_chain\n",
    "    )\n",
    "    return retrieval_chain"
   ]
  },
  {
   "cell_type": "code",
   "execution_count": 40,
   "metadata": {},
   "outputs": [],
   "source": [
    "# Step 5: LLM and Chain Connection\n",
    "def initialize_llm(model_name=\"llama3-8b-8192\"):\n",
    "    \"\"\"\n",
    "    Initializes the LLM model with specified configurations.\n",
    "    \"\"\"\n",
    "    return ChatGroq(\n",
    "        model=model_name,\n",
    "        temperature=0,\n",
    "        max_tokens=None,\n",
    "        timeout=None,\n",
    "        max_retries=2\n",
    "    )"
   ]
  },
  {
   "cell_type": "code",
   "execution_count": 41,
   "metadata": {},
   "outputs": [],
   "source": [
    "# Load LLM\n",
    "llm = initialize_llm()\n",
    "\n",
    "def setup_retrieval_chain(retriever):\n",
    "    \"\"\"\n",
    "    Sets up the document chain and retrieval chain.\n",
    "    \"\"\"\n",
    "    stuff_chain = create_stuff_documents_chain(\n",
    "        llm=llm,\n",
    "        prompt=hub.pull(\"langchain-ai/retrieval-qa-chat\")\n",
    "    )\n",
    "    return create_retrieval_chain(retriever=retriever, combine_docs_chain=stuff_chain)"
   ]
  },
  {
   "cell_type": "code",
   "execution_count": 42,
   "metadata": {},
   "outputs": [],
   "source": [
    "usafe_retrieval_chain = setup_retrieval_chain(general_info_retriever)"
   ]
  },
  {
   "cell_type": "code",
   "execution_count": 43,
   "metadata": {},
   "outputs": [],
   "source": [
    "def query_usafe_bot(user_input, retrieval_chain=usafe_retrieval_chain):\n",
    "    \"\"\"\n",
    "    Queries the Usafe ChatBot with a user's input and prints the response.\n",
    "    \"\"\"\n",
    "    response = retrieval_chain.invoke({\"input\": user_input})\n",
    "    print(response['answer'].strip(\"\\n\"))"
   ]
  },
  {
   "cell_type": "code",
   "execution_count": 44,
   "metadata": {},
   "outputs": [
    {
     "name": "stdout",
     "output_type": "stream",
     "text": [
      "Based on the provided context, here are the steps you can follow to get resources to help you feel better after a hate crime:\n",
      "\n",
      "1. Visit Your Local Police Station:\n",
      "\t* Bring all collected documentation with you, including online messages, emails, or social media posts related to the incident.\n",
      "\t* Explain the details of the incident to the officer and let them know you believe it to be a hate crime.\n",
      "\t* The police will create an official report based on your statement and evidence.\n",
      "2. Report Online (Optional):\n",
      "\t* If you're unable to visit the police station, you may be able to file a report online through local authorities' websites or specific online reporting platforms.\n",
      "\t* For Berlin residents, you can use the Berlin Police Online Reporting Portal to report incidents anonymously or directly.\n",
      "3. Follow Up on Your Report:\n",
      "\t* After filing, obtain a case reference number for future inquiries.\n",
      "\t* You may check in periodically with the police station or use online tools (where available) to get updates on your case.\n",
      "4. Consider Additional Support:\n",
      "\t* ReachOut Berlin: Offers assistance for individuals facing hate crime incidents. You can contact them at info@reachoutberlin.de or visit their address at Oranienburger Str. 27, 10117 Berlin.\n",
      "\t* Roots Berlin: Offers support and counseling for victims of discrimination and hate crimes. You can contact them at info@rootsberlin.com or visit their website at rootsberlin.com.\n",
      "\t* KOP – Campaign for Victims of Police Violence: Provides support for victims of police violence, including those affected by hate crimes. You can contact them at info@kop-berlin.de or visit their website at kop-berlin.de.\n",
      "5. Local Support Resources for Victims:\n",
      "\t* Berlin Police – Hate Crime Prevention: Provides information and support for victims of hate crimes in Berlin. You can contact them at +49 30 4664 979 444 or visit their website at berlin.de/polizei/aufgaben/praevention/hasskriminalitaet.\n",
      "\t* Get The Trolls Out!: A project addressing hate speech based on religion through media monitoring and campaigns. You can contact them at info@getthetrollsout.org or visit their website at getthetrollsout.org.\n",
      "\n",
      "Remember to prioritize your well-being and seek support from trusted individuals, organizations, or hotlines.\n"
     ]
    }
   ],
   "source": [
    "query_usafe_bot(\"What are the steps i can follow to get resources to help me feel better after a hate crime?\")"
   ]
  },
  {
   "cell_type": "code",
   "execution_count": 45,
   "metadata": {},
   "outputs": [
    {
     "name": "stdout",
     "output_type": "stream",
     "text": [
      "I'm so sorry to hear that you've been a victim of a hate crime. It's important to take immediate action to ensure your safety and well-being. Here are some steps you can take:\n",
      "\n",
      "1. Preserve Digital Evidence: Save any online messages, emails, or social media posts related to the incident. Screenshots can be valuable evidence if hate speech or threats were made online.\n",
      "2. Prepare for Language Barriers: If you don't speak German, it can be helpful to bring someone who speaks German to assist with translation at the police station. You can also contact organizations that provide translation support for hate crime victims, such as ReachOut Berlin.\n",
      "3. Visit Your Local Police Station: Bring all collected documentation with you and explain the details of the incident to the officer. Let them know you believe it to be a hate crime. The police will create an official report based on your statement and evidence.\n",
      "4. Report Online (Optional): If you're unable to visit the police station, you may be able to file a report online through local authorities' websites or specific online reporting platforms.\n",
      "5. Follow Up on Your Report: After filing, obtain a case reference number for future inquiries. You may check in periodically with the police station or use online tools (where available) to get updates on your case.\n",
      "\n",
      "Additionally, you may want to consider reaching out to local support resources for victims of hate crimes, such as:\n",
      "\n",
      "* Berlin Police – Hate Crime Prevention: Provides information and support for victims of hate crimes in Berlin.\n",
      "* Roots Berlin: Offers support and counseling for victims of discrimination and hate crimes.\n",
      "* KOP – Campaign for Victims of Police Violence: Provides support for victims of police violence, including those affected by hate crimes.\n",
      "\n",
      "Remember, you are not alone, and there are people who care about you and want to help.\n"
     ]
    }
   ],
   "source": [
    "query_usafe_bot(\"I faced a hate crime and I need help with what to do next.\")"
   ]
  },
  {
   "cell_type": "code",
   "execution_count": 46,
   "metadata": {},
   "outputs": [
    {
     "name": "stdout",
     "output_type": "stream",
     "text": [
      "According to the provided context, the psychological effects of a hate crime on the victim may include:\n",
      "\n",
      "* Trauma\n",
      "* Depression\n",
      "* Low self-esteem\n",
      "* Increased fear and vulnerability\n",
      "* Symptoms of Post-Traumatic Stress Disorder (PTSD)\n",
      "* Depression\n",
      "* Avoidance behaviors\n",
      "\n",
      "Additionally, studies suggest that hate crimes can also negatively impact the educational and socioeconomic outcomes for affected groups.\n"
     ]
    }
   ],
   "source": [
    "query_usafe_bot(\"what are the psychological effects of a hate crime on the victim?\")"
   ]
  }
 ],
 "metadata": {
  "kernelspec": {
   "display_name": ".venv",
   "language": "python",
   "name": "python3"
  },
  "language_info": {
   "codemirror_mode": {
    "name": "ipython",
    "version": 3
   },
   "file_extension": ".py",
   "mimetype": "text/x-python",
   "name": "python",
   "nbconvert_exporter": "python",
   "pygments_lexer": "ipython3",
   "version": "3.11.3"
  }
 },
 "nbformat": 4,
 "nbformat_minor": 2
}
