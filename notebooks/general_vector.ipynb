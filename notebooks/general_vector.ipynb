{
 "cells": [
  {
   "cell_type": "code",
   "execution_count": 1,
   "metadata": {},
   "outputs": [],
   "source": [
    "# Import necessary libraries\n",
    "import warnings\n",
    "from dotenv import load_dotenv\n",
    "import pdfplumber\n",
    "from langchain_text_splitters import RecursiveCharacterTextSplitter\n",
    "from langchain_huggingface import HuggingFaceEmbeddings\n",
    "from langchain_community.vectorstores import FAISS\n",
    "from langchain.docstore.document import Document\n",
    "from langchain import hub\n",
    "from langchain.chains.combine_documents import create_stuff_documents_chain\n",
    "from langchain.chains.retrieval import create_retrieval_chain\n",
    "from langchain_groq import ChatGroq"
   ]
  },
  {
   "cell_type": "code",
   "execution_count": 2,
   "metadata": {},
   "outputs": [
    {
     "data": {
      "text/plain": [
       "True"
      ]
     },
     "execution_count": 2,
     "metadata": {},
     "output_type": "execute_result"
    }
   ],
   "source": [
    "# Load environment variables\n",
    "load_dotenv()"
   ]
  },
  {
   "cell_type": "code",
   "execution_count": 3,
   "metadata": {},
   "outputs": [],
   "source": [
    "# Suppress warnings\n",
    "warnings.filterwarnings(\"ignore\")"
   ]
  },
  {
   "cell_type": "code",
   "execution_count": 69,
   "metadata": {},
   "outputs": [],
   "source": [
    "# Step 1: PDF Extraction\n",
    "def extract_text_from_pdf(pdf_path):\n",
    "    \"\"\"\n",
    "    Extracts text from a PDF file using pdfplumber.\n",
    "    Returns a list of Document objects.\n",
    "    \"\"\"\n",
    "    extracted_text = \"\"\n",
    "    with pdfplumber.open(pdf_path) as pdf:\n",
    "        for page in pdf.pages:\n",
    "            page_text = page.extract_text()\n",
    "            if page_text:\n",
    "                extracted_text += page_text + \"\\n\"\n",
    "    return [Document(page_content=extracted_text, metadata={\"source\": pdf_path})]\n",
    "\n",
    "# Load the general PDF with extracted text\n",
    "general_docs = extract_text_from_pdf('/Users/sayo/personal_projects/Usafe_bot/data/general_one.pdf')"
   ]
  },
  {
   "cell_type": "code",
   "execution_count": 70,
   "metadata": {},
   "outputs": [],
   "source": [
    "# Step 2: Document Chunking\n",
    "def chunk_documents(documents, chunk_size=1000, chunk_overlap=100):\n",
    "    \"\"\"\n",
    "    Splits documents into smaller chunks for embedding.\n",
    "    \"\"\"\n",
    "    text_splitter = RecursiveCharacterTextSplitter(\n",
    "        chunk_size=chunk_size,\n",
    "        chunk_overlap=chunk_overlap\n",
    "    )\n",
    "    return text_splitter.split_documents(documents=documents)"
   ]
  },
  {
   "cell_type": "code",
   "execution_count": 72,
   "metadata": {},
   "outputs": [
    {
     "name": "stdout",
     "output_type": "stream",
     "text": [
      "Chunks created: 15\n"
     ]
    }
   ],
   "source": [
    "# Chunk the general document\n",
    "general_chunks = chunk_documents(general_docs)\n",
    "print(f\"Chunks created: {len(general_chunks)}\")"
   ]
  },
  {
   "cell_type": "code",
   "execution_count": 74,
   "metadata": {},
   "outputs": [],
   "source": [
    "# Step 3: Embedding and Vector Store Creation\n",
    "def create_vector_store(doc_chunks, db_name='usafe_general'):\n",
    "    \"\"\"\n",
    "    Creates a vector store using HuggingFace embeddings and saves it locally.\n",
    "    \"\"\"\n",
    "    embeddings_model = HuggingFaceEmbeddings(\n",
    "        model_name='sentence-transformers/all-mpnet-base-v2'\n",
    "    )\n",
    "    vector_store = FAISS.from_documents(doc_chunks, embedding=embeddings_model)\n",
    "    vector_store.save_local(f\"./vector_databases/{db_name}\")\n"
   ]
  },
  {
   "cell_type": "code",
   "execution_count": 75,
   "metadata": {},
   "outputs": [],
   "source": [
    "# Create the vector store specifically for the general information\n",
    "create_vector_store(general_chunks, db_name='usafe_general')"
   ]
  },
  {
   "cell_type": "code",
   "execution_count": 76,
   "metadata": {},
   "outputs": [],
   "source": [
    "# Step 4: Vector Store Retrieval\n",
    "def load_vector_store(db_path='./vector_databases/vector_db_usafe_general'):\n",
    "    \"\"\"\n",
    "    Loads a vector store from a specified path and returns a retriever.\n",
    "    \"\"\"\n",
    "    embeddings_model = HuggingFaceEmbeddings(\n",
    "        model_name='sentence-transformers/all-mpnet-base-v2'\n",
    "    )\n",
    "    vector_store = FAISS.load_local(\n",
    "        folder_path=db_path,\n",
    "        embeddings=embeddings_model,\n",
    "        allow_dangerous_deserialization=True\n",
    "    )\n",
    "    return vector_store.as_retriever()"
   ]
  },
  {
   "cell_type": "code",
   "execution_count": 78,
   "metadata": {},
   "outputs": [],
   "source": [
    "# Initialize retriever for general information\n",
    "general_info_retriever = load_vector_store()"
   ]
  },
  {
   "cell_type": "code",
   "execution_count": 44,
   "metadata": {},
   "outputs": [
    {
     "data": {
      "text/plain": [
       "langchain_core.vectorstores.base.VectorStoreRetriever"
      ]
     },
     "execution_count": 44,
     "metadata": {},
     "output_type": "execute_result"
    }
   ],
   "source": [
    "type(general_retriever)"
   ]
  },
  {
   "cell_type": "code",
   "execution_count": 60,
   "metadata": {},
   "outputs": [],
   "source": [
    "def connect_chains(retriever):\n",
    "    \"\"\"\n",
    "    this function connects stuff_documents_chain with retrieval_chain\n",
    "    \"\"\"\n",
    "    stuff_documents_chain = create_stuff_documents_chain(\n",
    "        llm=llm,\n",
    "        prompt=hub.pull(\"langchain-ai/retrieval-qa-chat\")\n",
    "    )\n",
    "    retrieval_chain = create_retrieval_chain(\n",
    "        retriever=retriever,\n",
    "        combine_docs_chain=stuff_documents_chain\n",
    "    )\n",
    "    return retrieval_chain"
   ]
  },
  {
   "cell_type": "code",
   "execution_count": 79,
   "metadata": {},
   "outputs": [],
   "source": [
    "# Step 5: LLM and Chain Connection\n",
    "def initialize_llm(model_name=\"llama3-8b-8192\"):\n",
    "    \"\"\"\n",
    "    Initializes the LLM model with specified configurations.\n",
    "    \"\"\"\n",
    "    return ChatGroq(\n",
    "        model=model_name,\n",
    "        temperature=0,\n",
    "        max_tokens=None,\n",
    "        timeout=None,\n",
    "        max_retries=2\n",
    "    )"
   ]
  },
  {
   "cell_type": "code",
   "execution_count": 80,
   "metadata": {},
   "outputs": [],
   "source": [
    "# Load LLM\n",
    "llm = initialize_llm()\n",
    "\n",
    "def setup_retrieval_chain(retriever):\n",
    "    \"\"\"\n",
    "    Sets up the document chain and retrieval chain.\n",
    "    \"\"\"\n",
    "    stuff_chain = create_stuff_documents_chain(\n",
    "        llm=llm,\n",
    "        prompt=hub.pull(\"langchain-ai/retrieval-qa-chat\")\n",
    "    )\n",
    "    return create_retrieval_chain(retriever=retriever, combine_docs_chain=stuff_chain)"
   ]
  },
  {
   "cell_type": "code",
   "execution_count": 81,
   "metadata": {},
   "outputs": [],
   "source": [
    "usafe_retrieval_chain = setup_retrieval_chain(general_info_retriever)"
   ]
  },
  {
   "cell_type": "code",
   "execution_count": 82,
   "metadata": {},
   "outputs": [],
   "source": [
    "def query_usafe_bot(user_input, retrieval_chain=usafe_retrieval_chain):\n",
    "    \"\"\"\n",
    "    Queries the Usafe ChatBot with a user's input and prints the response.\n",
    "    \"\"\"\n",
    "    response = retrieval_chain.invoke({\"input\": user_input})\n",
    "    print(response['answer'].strip(\"\\n\"))"
   ]
  },
  {
   "cell_type": "code",
   "execution_count": 83,
   "metadata": {},
   "outputs": [
    {
     "name": "stdout",
     "output_type": "stream",
     "text": [
      "Based on the provided context, here are the steps you can follow to get resources to help you feel better after a hate crime:\n",
      "\n",
      "1. Prepare for Language Barriers:\n",
      "\t* If you don't speak German, consider bringing someone who speaks German to assist with translation at the police station.\n",
      "\t* If you don't know someone who can assist, you may contact organizations that provide translation support for hate crime victims, such as ReachOut Berlin.\n",
      "2. Visit Your Local Police Station:\n",
      "\t* Bring all collected documentation with you.\n",
      "\t* Explain the details of the incident and inform the officer that you believe it's a hate crime.\n",
      "3. Seek Legal Assistance:\n",
      "\t* If you want to take your case to court, click on the link for legal protections and free community assistance.\n",
      "4. Mental Health Support:\n",
      "\t* Click on the link for mental health professionals or other communities who can support you through this difficult time.\n",
      "5. Local Resources:\n",
      "\t* NGOs, Legal Aid, Counseling, and other resources are available. Click on the link to find more information.\n",
      "6. Victim Reactions:\n",
      "\t* If you're experiencing symptoms such as PTSD, depression, and avoidance behaviors, seek help.\n",
      "\t* Additionally, hate crimes can negatively impact educational and socioeconomic outcomes for affected groups, so it's essential to seek support.\n",
      "\n",
      "Some specific resources mentioned in the context include:\n",
      "\n",
      "* ReachOut Berlin (Email: info@reachoutberlin.de, Address: Oranienburger Str. 27, 10117 Berlin)\n",
      "* Online Strafanzeige (online-strafanzeige.de)\n",
      "* Meldestelle Respect!\n",
      "* Berlin Police – Hate Crime Prevention (Phone: +49 30 4664 979 444)\n",
      "* Roots Berlin (Email: info@rootsberlin.com)\n",
      "* KOP – Campaign for Victims of Police Violence\n",
      "\n",
      "Remember to prioritize your well-being and seek support from organizations and professionals who can help you cope with the aftermath of a hate crime.\n"
     ]
    }
   ],
   "source": [
    "query_usafe_bot(\"What are the steps i can follow to get resources to help me feel better after a hate crime?\")"
   ]
  },
  {
   "cell_type": "code",
   "execution_count": 84,
   "metadata": {},
   "outputs": [
    {
     "name": "stdout",
     "output_type": "stream",
     "text": [
      "I'm so sorry to hear that you've been a victim of a hate crime. It's important to take immediate action to ensure your safety and well-being. Here are some steps you can take:\n",
      "\n",
      "1. Prepare for Language Barriers: If you don't speak German, consider bringing someone who speaks German to assist with translation at the police station. Alternatively, you can contact organizations that provide translation support for hate crime victims, such as ReachOut Berlin.\n",
      "2. Visit Your Local Police Station: Bring all collected documentation with you and explain the details of the incident to the officer. Let them know that you believe it to be a hate crime.\n",
      "3. Report Online (Optional): If you're unable to visit the police station, you may be able to file a report online through local authorities' websites or specific online reporting platforms. For Berlin residents, you can use the Berlin Police Online Reporting Portal to report incidents anonymously or directly.\n",
      "4. Follow Up on Your Report: After filing, obtain a case reference number for future inquiries. You may check in periodically with the police station or use online tools (where available) to get updates on your case.\n",
      "\n",
      "Additionally, you may want to consider seeking legal assistance, mental health support, and community assistance. You can find more information on these resources by clicking on the links provided.\n",
      "\n",
      "Remember, you are not alone, and there are people and organizations available to support you through this difficult time.\n"
     ]
    }
   ],
   "source": [
    "query_usafe_bot(\"I faced a hate crime and I need help with what to do next.\")"
   ]
  },
  {
   "cell_type": "code",
   "execution_count": 85,
   "metadata": {},
   "outputs": [
    {
     "name": "stdout",
     "output_type": "stream",
     "text": [
      "According to the context, the psychological effects of a hate crime on the victim can include:\n",
      "\n",
      "* Trauma\n",
      "* Depression\n",
      "* Low self-esteem\n",
      "* Symptoms of Post-Traumatic Stress Disorder (PTSD)\n",
      "* Avoidance behaviors\n",
      "\n",
      "Additionally, the context mentions that hate crimes can also have a broader impact on the targeted group, including:\n",
      "\n",
      "* Increased fear and vulnerability\n",
      "* Negative impacts on mental and physical health\n",
      "* Changes in behavior and social interactions\n",
      "* Decreased sense of safety and security\n",
      "\n",
      "It's also noted that hate crimes can have a damaging effect on the broader community, leading to:\n",
      "\n",
      "* Division and weakened multicultural society\n",
      "* Potential for intergroup conflict and hostility\n",
      "* Negative impacts on social cohesion and community relations\n"
     ]
    }
   ],
   "source": [
    "query_usafe_bot(\"what are the psychological effects of a hate crime on the victim?\")"
   ]
  }
 ],
 "metadata": {
  "kernelspec": {
   "display_name": ".venv",
   "language": "python",
   "name": "python3"
  },
  "language_info": {
   "codemirror_mode": {
    "name": "ipython",
    "version": 3
   },
   "file_extension": ".py",
   "mimetype": "text/x-python",
   "name": "python",
   "nbconvert_exporter": "python",
   "pygments_lexer": "ipython3",
   "version": "3.11.3"
  }
 },
 "nbformat": 4,
 "nbformat_minor": 2
}
