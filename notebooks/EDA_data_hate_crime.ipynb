{
 "cells": [
  {
   "cell_type": "markdown",
   "metadata": {},
   "source": [
    "## EDA Hate Crimes Main Database"
   ]
  },
  {
   "cell_type": "code",
   "execution_count": 2,
   "metadata": {},
   "outputs": [],
   "source": [
    "# Import necessary libraries\n",
    "import pandas as pd"
   ]
  },
  {
   "cell_type": "code",
   "execution_count": 3,
   "metadata": {},
   "outputs": [
    {
     "data": {
      "text/html": [
       "<div>\n",
       "<style scoped>\n",
       "    .dataframe tbody tr th:only-of-type {\n",
       "        vertical-align: middle;\n",
       "    }\n",
       "\n",
       "    .dataframe tbody tr th {\n",
       "        vertical-align: top;\n",
       "    }\n",
       "\n",
       "    .dataframe thead th {\n",
       "        text-align: right;\n",
       "    }\n",
       "</style>\n",
       "<table border=\"1\" class=\"dataframe\">\n",
       "  <thead>\n",
       "    <tr style=\"text-align: right;\">\n",
       "      <th></th>\n",
       "      <th>Date</th>\n",
       "      <th>Country</th>\n",
       "      <th>Bias motivations</th>\n",
       "      <th>Type of incident</th>\n",
       "      <th>Source</th>\n",
       "      <th>Description</th>\n",
       "    </tr>\n",
       "  </thead>\n",
       "  <tbody>\n",
       "    <tr>\n",
       "      <th>0</th>\n",
       "      <td>2016-11</td>\n",
       "      <td>Belgium</td>\n",
       "      <td>Anti-Semitic hate crime</td>\n",
       "      <td>Violent attacks against people</td>\n",
       "      <td>Antisemitisme.be</td>\n",
       "      <td>A man visibly identifiable as Jewish was pushe...</td>\n",
       "    </tr>\n",
       "    <tr>\n",
       "      <th>1</th>\n",
       "      <td>2016-11</td>\n",
       "      <td>Belgium</td>\n",
       "      <td>Anti-Semitic hate crime</td>\n",
       "      <td>Threats</td>\n",
       "      <td>Antisemitisme.be</td>\n",
       "      <td>A man visibly identifiable as Jewish was chase...</td>\n",
       "    </tr>\n",
       "    <tr>\n",
       "      <th>2</th>\n",
       "      <td>2016-03</td>\n",
       "      <td>Belgium</td>\n",
       "      <td>Anti-Semitic hate crime</td>\n",
       "      <td>Violent attacks against people</td>\n",
       "      <td>Anti-Defamation League (ADL), Antisemitisme.be</td>\n",
       "      <td>Stones were thrown at people visibly identifia...</td>\n",
       "    </tr>\n",
       "    <tr>\n",
       "      <th>3</th>\n",
       "      <td>2016-03</td>\n",
       "      <td>Belgium</td>\n",
       "      <td>Anti-Semitic hate crime</td>\n",
       "      <td>Violent attacks against people</td>\n",
       "      <td>Antisemitisme.be</td>\n",
       "      <td>Stones were thrown at people visibly identifia...</td>\n",
       "    </tr>\n",
       "    <tr>\n",
       "      <th>4</th>\n",
       "      <td>2016-11</td>\n",
       "      <td>Belgium</td>\n",
       "      <td>Anti-Semitic hate crime</td>\n",
       "      <td>Threats</td>\n",
       "      <td>Antisemitisme.be</td>\n",
       "      <td>Firecrackers were thrown at people visibly ide...</td>\n",
       "    </tr>\n",
       "  </tbody>\n",
       "</table>\n",
       "</div>"
      ],
      "text/plain": [
       "      Date  Country         Bias motivations                Type of incident   \n",
       "0  2016-11  Belgium  Anti-Semitic hate crime  Violent attacks against people  \\\n",
       "1  2016-11  Belgium  Anti-Semitic hate crime                         Threats   \n",
       "2  2016-03  Belgium  Anti-Semitic hate crime  Violent attacks against people   \n",
       "3  2016-03  Belgium  Anti-Semitic hate crime  Violent attacks against people   \n",
       "4  2016-11  Belgium  Anti-Semitic hate crime                         Threats   \n",
       "\n",
       "                                           Source   \n",
       "0                                Antisemitisme.be  \\\n",
       "1                                Antisemitisme.be   \n",
       "2  Anti-Defamation League (ADL), Antisemitisme.be   \n",
       "3                                Antisemitisme.be   \n",
       "4                                Antisemitisme.be   \n",
       "\n",
       "                                         Description  \n",
       "0  A man visibly identifiable as Jewish was pushe...  \n",
       "1  A man visibly identifiable as Jewish was chase...  \n",
       "2  Stones were thrown at people visibly identifia...  \n",
       "3  Stones were thrown at people visibly identifia...  \n",
       "4  Firecrackers were thrown at people visibly ide...  "
      ]
     },
     "execution_count": 3,
     "metadata": {},
     "output_type": "execute_result"
    }
   ],
   "source": [
    "file_path = '/Users/sayo/personal_projects/Usafe_bot/data/hate_crimes.csv'  \n",
    "df = pd.read_csv(file_path)\n",
    "\n",
    "df.head()"
   ]
  },
  {
   "cell_type": "code",
   "execution_count": 4,
   "metadata": {},
   "outputs": [
    {
     "data": {
      "text/plain": [
       "Index(['Date', 'Country', 'Bias motivations', 'Type of incident', 'Source',\n",
       "       'Description'],\n",
       "      dtype='object')"
      ]
     },
     "execution_count": 4,
     "metadata": {},
     "output_type": "execute_result"
    }
   ],
   "source": [
    "df.columns"
   ]
  },
  {
   "cell_type": "code",
   "execution_count": 5,
   "metadata": {},
   "outputs": [
    {
     "name": "stdout",
     "output_type": "stream",
     "text": [
      "<class 'pandas.core.frame.DataFrame'>\n",
      "RangeIndex: 27417 entries, 0 to 27416\n",
      "Data columns (total 6 columns):\n",
      " #   Column            Non-Null Count  Dtype \n",
      "---  ------            --------------  ----- \n",
      " 0   Date              27417 non-null  object\n",
      " 1   Country           27417 non-null  object\n",
      " 2   Bias motivations  27417 non-null  object\n",
      " 3   Type of incident  27417 non-null  object\n",
      " 4   Source            27417 non-null  object\n",
      " 5   Description       24355 non-null  object\n",
      "dtypes: object(6)\n",
      "memory usage: 1.3+ MB\n"
     ]
    }
   ],
   "source": [
    "df.info()"
   ]
  },
  {
   "cell_type": "code",
   "execution_count": 6,
   "metadata": {},
   "outputs": [
    {
     "data": {
      "text/html": [
       "<div>\n",
       "<style scoped>\n",
       "    .dataframe tbody tr th:only-of-type {\n",
       "        vertical-align: middle;\n",
       "    }\n",
       "\n",
       "    .dataframe tbody tr th {\n",
       "        vertical-align: top;\n",
       "    }\n",
       "\n",
       "    .dataframe thead th {\n",
       "        text-align: right;\n",
       "    }\n",
       "</style>\n",
       "<table border=\"1\" class=\"dataframe\">\n",
       "  <thead>\n",
       "    <tr style=\"text-align: right;\">\n",
       "      <th></th>\n",
       "      <th>Date</th>\n",
       "      <th>Country</th>\n",
       "      <th>Bias motivations</th>\n",
       "      <th>Type of incident</th>\n",
       "      <th>Source</th>\n",
       "      <th>Description</th>\n",
       "    </tr>\n",
       "  </thead>\n",
       "  <tbody>\n",
       "    <tr>\n",
       "      <th>count</th>\n",
       "      <td>27417</td>\n",
       "      <td>27417</td>\n",
       "      <td>27417</td>\n",
       "      <td>27417</td>\n",
       "      <td>27417</td>\n",
       "      <td>24355</td>\n",
       "    </tr>\n",
       "    <tr>\n",
       "      <th>unique</th>\n",
       "      <td>105</td>\n",
       "      <td>53</td>\n",
       "      <td>69</td>\n",
       "      <td>6</td>\n",
       "      <td>605</td>\n",
       "      <td>21880</td>\n",
       "    </tr>\n",
       "    <tr>\n",
       "      <th>top</th>\n",
       "      <td>2023-12</td>\n",
       "      <td>United States of America</td>\n",
       "      <td>Racist and xenophobic hate crime</td>\n",
       "      <td>Attacks against property</td>\n",
       "      <td>Anti-Defamation League (ADL)</td>\n",
       "      <td>Members of the Jewish community were threatene...</td>\n",
       "    </tr>\n",
       "    <tr>\n",
       "      <th>freq</th>\n",
       "      <td>1046</td>\n",
       "      <td>7058</td>\n",
       "      <td>6307</td>\n",
       "      <td>12073</td>\n",
       "      <td>6488</td>\n",
       "      <td>627</td>\n",
       "    </tr>\n",
       "  </tbody>\n",
       "</table>\n",
       "</div>"
      ],
      "text/plain": [
       "           Date                   Country                  Bias motivations   \n",
       "count     27417                     27417                             27417  \\\n",
       "unique      105                        53                                69   \n",
       "top     2023-12  United States of America  Racist and xenophobic hate crime   \n",
       "freq       1046                      7058                              6307   \n",
       "\n",
       "                Type of incident                        Source   \n",
       "count                      27417                         27417  \\\n",
       "unique                         6                           605   \n",
       "top     Attacks against property  Anti-Defamation League (ADL)   \n",
       "freq                       12073                          6488   \n",
       "\n",
       "                                              Description  \n",
       "count                                               24355  \n",
       "unique                                              21880  \n",
       "top     Members of the Jewish community were threatene...  \n",
       "freq                                                  627  "
      ]
     },
     "execution_count": 6,
     "metadata": {},
     "output_type": "execute_result"
    }
   ],
   "source": [
    "df.describe()"
   ]
  },
  {
   "cell_type": "code",
   "execution_count": 7,
   "metadata": {},
   "outputs": [
    {
     "name": "stdout",
     "output_type": "stream",
     "text": [
      "Number of unique bias motivations: 69\n",
      "Number of unique countries: 53\n",
      "Number of different sources: 605\n"
     ]
    }
   ],
   "source": [
    "# Number of unique bias motivations\n",
    "num_bias_motivations = df['Bias motivations'].nunique()\n",
    "print(f\"Number of unique bias motivations: {num_bias_motivations}\")\n",
    "\n",
    "# Number of unique countries\n",
    "num_countries = df['Country'].nunique()\n",
    "print(f\"Number of unique countries: {num_countries}\")\n",
    "\n",
    "# Number of different sources\n",
    "num_sources = df['Source'].nunique()\n",
    "print(f\"Number of different sources: {num_sources}\")"
   ]
  },
  {
   "cell_type": "code",
   "execution_count": 8,
   "metadata": {},
   "outputs": [
    {
     "name": "stdout",
     "output_type": "stream",
     "text": [
      "Number of rows for Germany: 2028\n"
     ]
    }
   ],
   "source": [
    "# Number of rows where the country is Germany\n",
    "num_rows_germany = df[df['Country'] == 'Germany'].shape[0]\n",
    "print(f\"Number of rows for Germany: {num_rows_germany}\")"
   ]
  },
  {
   "cell_type": "code",
   "execution_count": 9,
   "metadata": {},
   "outputs": [
    {
     "name": "stdout",
     "output_type": "stream",
     "text": [
      "Bias motivations for Germany and their counts:\n",
      "Bias motivations\n",
      "Anti-Christian hate crime                                                                                                   814\n",
      "Anti-Muslim hate crime                                                                                                      386\n",
      "Anti-LGBTI hate crime                                                                                                       235\n",
      "Anti-Semitic hate crime                                                                                                     212\n",
      "Racist and xenophobic hate crime                                                                                            200\n",
      "Racist and xenophobic hate crime, Anti-Muslim hate crime                                                                     92\n",
      "Gender-based hate crime, Anti-LGBTI hate crime                                                                               15\n",
      "Racist and xenophobic hate crime, Anti-Semitic hate crime                                                                    13\n",
      "Racist and xenophobic hate crime, Anti-Muslim hate crime, Gender-based hate crime                                             9\n",
      "Anti-Muslim hate crime, Gender-based hate crime                                                                               8\n",
      "Racist and xenophobic hate crime, Anti-Christian hate crime                                                                   8\n",
      "Anti-Roma hate crime                                                                                                          6\n",
      "Racist and xenophobic hate crime, Anti-LGBTI hate crime                                                                       5\n",
      "Racist and xenophobic hate crime, Gender-based hate crime                                                                     5\n",
      "Gender-based hate crime                                                                                                       4\n",
      "Anti-Semitic hate crime, Anti-Muslim hate crime                                                                               3\n",
      "Anti-Muslim hate crime, Disability hate crime                                                                                 1\n",
      "Racist and xenophobic hate crime, Anti-Semitic hate crime, Anti-LGBTI hate crime                                              1\n",
      "Anti-Semitic hate crime, Gender-based hate crime                                                                              1\n",
      "Racist and xenophobic hate crime, Gender-based hate crime, Anti-LGBTI hate crime                                              1\n",
      "Anti-Roma hate crime, Gender-based hate crime                                                                                 1\n",
      "Anti-Christian hate crime, Gender-based hate crime                                                                            1\n",
      "Anti-Semitic hate crime, Anti-Christian hate crime                                                                            1\n",
      "Disability hate crime                                                                                                         1\n",
      "Racist and xenophobic hate crime, Anti-Semitic hate crime, Anti-Muslim hate crime                                             1\n",
      "Anti-Roma hate crime, Anti-LGBTI hate crime                                                                                   1\n",
      "Anti-Semitic hate crime, Anti-Muslim hate crime, Anti-Christian hate crime, Other hate crime based on religion or belief      1\n",
      "Racist and xenophobic hate crime, Disability hate crime                                                                       1\n",
      "Anti-Roma hate crime, Anti-Muslim hate crime                                                                                  1\n",
      "Name: count, dtype: int64\n"
     ]
    }
   ],
   "source": [
    "# filter the dataframe to show rows where Germany get the counts of each bias motivation\n",
    "bias_motivations_germany_counts = df[df['Country'] == 'Germany']['Bias motivations'].value_counts()\n",
    "\n",
    "print(\"Bias motivations for Germany and their counts:\")\n",
    "print(bias_motivations_germany_counts)"
   ]
  },
  {
   "cell_type": "code",
   "execution_count": 10,
   "metadata": {},
   "outputs": [
    {
     "name": "stdout",
     "output_type": "stream",
     "text": [
      "Most common bias motivation for each country:\n",
      "Country\n",
      "Albania                     Gender-based hate crime, Anti-LGBTI hate crime\n",
      "Armenia                                              Anti-LGBTI hate crime\n",
      "Austria                                             Anti-Muslim hate crime\n",
      "Azerbaijan                                           Anti-LGBTI hate crime\n",
      "Belarus                                              Anti-LGBTI hate crime\n",
      "Belgium                                          Anti-Christian hate crime\n",
      "Bosnia and Herzegovina                    Racist and xenophobic hate crime\n",
      "Bulgaria                                            Anti-Muslim hate crime\n",
      "Canada                                             Anti-Semitic hate crime\n",
      "Croatia                                   Racist and xenophobic hate crime\n",
      "Cyprus                                    Racist and xenophobic hate crime\n",
      "Czech Republic                            Racist and xenophobic hate crime\n",
      "Denmark                                            Anti-Semitic hate crime\n",
      "Estonia                                   Racist and xenophobic hate crime\n",
      "Finland                                   Racist and xenophobic hate crime\n",
      "France                                           Anti-Christian hate crime\n",
      "Georgia                                              Anti-LGBTI hate crime\n",
      "Germany                                          Anti-Christian hate crime\n",
      "Greece                                    Racist and xenophobic hate crime\n",
      "Hungary                                            Anti-Semitic hate crime\n",
      "Iceland                                              Anti-LGBTI hate crime\n",
      "Ireland                                   Racist and xenophobic hate crime\n",
      "Italy                                     Racist and xenophobic hate crime\n",
      "Kazakhstan                  Gender-based hate crime, Anti-LGBTI hate crime\n",
      "Kyrgyzstan                                           Anti-LGBTI hate crime\n",
      "Latvia                                    Racist and xenophobic hate crime\n",
      "Liechtenstein                                        Anti-LGBTI hate crime\n",
      "Lithuania                                            Anti-LGBTI hate crime\n",
      "Luxembourg                                       Anti-Christian hate crime\n",
      "Malta                                     Racist and xenophobic hate crime\n",
      "Moldova                                              Anti-LGBTI hate crime\n",
      "Monaco                                           Anti-Christian hate crime\n",
      "Montenegro                                           Anti-LGBTI hate crime\n",
      "Netherlands                                        Anti-Semitic hate crime\n",
      "North Macedonia                           Racist and xenophobic hate crime\n",
      "Norway                                           Anti-Christian hate crime\n",
      "Poland                                           Anti-Christian hate crime\n",
      "Portugal                                             Anti-LGBTI hate crime\n",
      "Romania                                          Anti-Christian hate crime\n",
      "Russian Federation                                   Anti-LGBTI hate crime\n",
      "Serbia                                               Anti-LGBTI hate crime\n",
      "Slovakia                                            Anti-Muslim hate crime\n",
      "Slovenia                                             Anti-LGBTI hate crime\n",
      "Spain                                            Anti-Christian hate crime\n",
      "Sweden                                               Anti-LGBTI hate crime\n",
      "Switzerland                               Racist and xenophobic hate crime\n",
      "Tajikistan                                           Anti-LGBTI hate crime\n",
      "Turkey                                               Anti-LGBTI hate crime\n",
      "Turkmenistan                                     Anti-Christian hate crime\n",
      "Ukraine                                              Anti-LGBTI hate crime\n",
      "United Kingdom                                      Anti-Muslim hate crime\n",
      "United States of America                           Anti-Semitic hate crime\n",
      "Uzbekistan                                           Anti-LGBTI hate crime\n",
      "Name: Bias motivations, dtype: object\n"
     ]
    }
   ],
   "source": [
    "# Find the most common bias motivation for each country\n",
    "most_common_bias_per_country = df.groupby('Country')['Bias motivations'].agg(lambda x: x.value_counts().idxmax())\n",
    "\n",
    "print(\"Most common bias motivation for each country:\")\n",
    "print(most_common_bias_per_country)"
   ]
  },
  {
   "cell_type": "code",
   "execution_count": 11,
   "metadata": {},
   "outputs": [
    {
     "name": "stdout",
     "output_type": "stream",
     "text": [
      "Top 10 most common bias motivations:\n",
      "Bias motivations\n",
      "Racist and xenophobic hate crime                                                     6307\n",
      "Anti-Semitic hate crime                                                              6070\n",
      "Anti-Christian hate crime                                                            5075\n",
      "Anti-LGBTI hate crime                                                                4521\n",
      "Anti-Muslim hate crime                                                               2188\n",
      "Racist and xenophobic hate crime, Anti-Muslim hate crime                              696\n",
      "Gender-based hate crime, Anti-LGBTI hate crime                                        560\n",
      "Racist and xenophobic hate crime, Anti-Semitic hate crime                             356\n",
      "Anti-Roma hate crime                                                                  348\n",
      "Gender-based hate crime                                                               286\n",
      "Racist and xenophobic hate crime, Anti-Christian hate crime                           136\n",
      "Racist and xenophobic hate crime, Anti-LGBTI hate crime                               131\n",
      "Racist and xenophobic hate crime, Gender-based hate crime                              87\n",
      "Disability hate crime                                                                  76\n",
      "Anti-Muslim hate crime, Gender-based hate crime                                        62\n",
      "Anti-Semitic hate crime, Anti-LGBTI hate crime                                         52\n",
      "Racist and xenophobic hate crime, Anti-Roma hate crime                                 49\n",
      "Racist and xenophobic hate crime, Gender-based hate crime, Anti-LGBTI hate crime       47\n",
      "Racist and xenophobic hate crime, Anti-Semitic hate crime, Anti-LGBTI hate crime       38\n",
      "Racist and xenophobic hate crime, Anti-Muslim hate crime, Gender-based hate crime      36\n",
      "Anti-Semitic hate crime, Gender-based hate crime                                       36\n",
      "Other hate crime based on religion or belief                                           34\n",
      "Anti-Semitic hate crime, Anti-Christian hate crime                                     24\n",
      "Racist and xenophobic hate crime, Disability hate crime                                22\n",
      "Disability hate crime, Anti-LGBTI hate crime                                           22\n",
      "Racist and xenophobic hate crime, Other hate crime based on religion or belief         14\n",
      "Racist and xenophobic hate crime, Anti-Semitic hate crime, Anti-Muslim hate crime      12\n",
      "Anti-Semitic hate crime, Anti-Muslim hate crime                                        12\n",
      "Anti-Roma hate crime, Gender-based hate crime                                          10\n",
      "Anti-Roma hate crime, Anti-LGBTI hate crime                                            10\n",
      "Name: count, dtype: int64\n"
     ]
    }
   ],
   "source": [
    "# Count the top 10 most common bias motivations\n",
    "top_10_bias_motivations = df['Bias motivations'].value_counts().head(30)\n",
    "\n",
    "print(\"Top 10 most common bias motivations:\")\n",
    "print(top_10_bias_motivations)"
   ]
  },
  {
   "cell_type": "code",
   "execution_count": 12,
   "metadata": {},
   "outputs": [
    {
     "name": "stdout",
     "output_type": "stream",
     "text": [
      "Most reported bias motivation for each specified country:\n",
      "Country\n",
      "Austria                  Anti-Muslim hate crime\n",
      "Belgium               Anti-Christian hate crime\n",
      "Denmark                 Anti-Semitic hate crime\n",
      "France                Anti-Christian hate crime\n",
      "Germany               Anti-Christian hate crime\n",
      "Italy          Racist and xenophobic hate crime\n",
      "Netherlands             Anti-Semitic hate crime\n",
      "Portugal                  Anti-LGBTI hate crime\n",
      "Spain                 Anti-Christian hate crime\n",
      "Switzerland    Racist and xenophobic hate crime\n",
      "Name: Bias motivations, dtype: object\n"
     ]
    }
   ],
   "source": [
    "\n",
    "countries_of_interest = ['France', 'Italy', 'Spain', 'Portugal', 'Germany', 'Belgium', 'Austria', 'Switzerland', 'Netherlands', 'Denmark']\n",
    "\n",
    "filtered_df = df[df['Country'].isin(countries_of_interest)]\n",
    "\n",
    "# most common bias motivation for each of main euro countries\n",
    "most_common_bias_selected_countries = (\n",
    "    filtered_df.groupby('Country')['Bias motivations']\n",
    "    .agg(lambda x: x.value_counts().idxmax())\n",
    ")\n",
    "\n",
    "print(\"Most reported bias motivation for each specified country:\")\n",
    "print(most_common_bias_selected_countries)"
   ]
  },
  {
   "cell_type": "code",
   "execution_count": 13,
   "metadata": {},
   "outputs": [
    {
     "name": "stdout",
     "output_type": "stream",
     "text": [
      "Anti-Christian hate crimes in Germany:\n",
      "933    A male refugee was subjected to death threats ...\n",
      "940    The baby of an Eritrean Christian woman was su...\n",
      "952    A male Christian refugee was stabbed in the ba...\n",
      "964    Assyrian refugees were threatened in their ref...\n",
      "975    A Lutheran refugee was physically assaulted an...\n",
      "980    Six Christian refugees were threatened by a la...\n",
      "983    A Catholic monument was vandalized with pink p...\n",
      "985    A Christian academy was vandalized with paint ...\n",
      "990    A religious statue was removed from a Catholic...\n",
      "994    A religious statue was damaged twice within a ...\n",
      "Name: Description, dtype: object\n"
     ]
    }
   ],
   "source": [
    "\n",
    "anti_christian_germany_df = df[(df['Country'] == 'Germany') & (df['Bias motivations'] == 'Anti-Christian hate crime')]\n",
    "\n",
    "anti_christian_descriptions = anti_christian_germany_df['Description'].head(10)\n",
    "print(\"Anti-Christian hate crimes in Germany:\")\n",
    "print(anti_christian_descriptions)"
   ]
  },
  {
   "cell_type": "code",
   "execution_count": 14,
   "metadata": {},
   "outputs": [
    {
     "data": {
      "text/html": [
       "<div>\n",
       "<style scoped>\n",
       "    .dataframe tbody tr th:only-of-type {\n",
       "        vertical-align: middle;\n",
       "    }\n",
       "\n",
       "    .dataframe tbody tr th {\n",
       "        vertical-align: top;\n",
       "    }\n",
       "\n",
       "    .dataframe thead th {\n",
       "        text-align: right;\n",
       "    }\n",
       "</style>\n",
       "<table border=\"1\" class=\"dataframe\">\n",
       "  <thead>\n",
       "    <tr style=\"text-align: right;\">\n",
       "      <th></th>\n",
       "      <th>Date</th>\n",
       "      <th>Country</th>\n",
       "      <th>Bias motivations</th>\n",
       "      <th>Type of incident</th>\n",
       "      <th>Source</th>\n",
       "      <th>Description</th>\n",
       "    </tr>\n",
       "  </thead>\n",
       "  <tbody>\n",
       "    <tr>\n",
       "      <th>0</th>\n",
       "      <td>2016-11</td>\n",
       "      <td>Belgium</td>\n",
       "      <td>Anti-Semitic hate crime</td>\n",
       "      <td>Violent attacks against people</td>\n",
       "      <td>Antisemitisme.be</td>\n",
       "      <td>A man visibly identifiable as Jewish was pushe...</td>\n",
       "    </tr>\n",
       "    <tr>\n",
       "      <th>1</th>\n",
       "      <td>2016-11</td>\n",
       "      <td>Belgium</td>\n",
       "      <td>Anti-Semitic hate crime</td>\n",
       "      <td>Threats</td>\n",
       "      <td>Antisemitisme.be</td>\n",
       "      <td>A man visibly identifiable as Jewish was chase...</td>\n",
       "    </tr>\n",
       "    <tr>\n",
       "      <th>2</th>\n",
       "      <td>2016-03</td>\n",
       "      <td>Belgium</td>\n",
       "      <td>Anti-Semitic hate crime</td>\n",
       "      <td>Violent attacks against people</td>\n",
       "      <td>Anti-Defamation League (ADL), Antisemitisme.be</td>\n",
       "      <td>Stones were thrown at people visibly identifia...</td>\n",
       "    </tr>\n",
       "    <tr>\n",
       "      <th>3</th>\n",
       "      <td>2016-03</td>\n",
       "      <td>Belgium</td>\n",
       "      <td>Anti-Semitic hate crime</td>\n",
       "      <td>Violent attacks against people</td>\n",
       "      <td>Antisemitisme.be</td>\n",
       "      <td>Stones were thrown at people visibly identifia...</td>\n",
       "    </tr>\n",
       "    <tr>\n",
       "      <th>4</th>\n",
       "      <td>2016-11</td>\n",
       "      <td>Belgium</td>\n",
       "      <td>Anti-Semitic hate crime</td>\n",
       "      <td>Threats</td>\n",
       "      <td>Antisemitisme.be</td>\n",
       "      <td>Firecrackers were thrown at people visibly ide...</td>\n",
       "    </tr>\n",
       "  </tbody>\n",
       "</table>\n",
       "</div>"
      ],
      "text/plain": [
       "      Date  Country         Bias motivations                Type of incident   \n",
       "0  2016-11  Belgium  Anti-Semitic hate crime  Violent attacks against people  \\\n",
       "1  2016-11  Belgium  Anti-Semitic hate crime                         Threats   \n",
       "2  2016-03  Belgium  Anti-Semitic hate crime  Violent attacks against people   \n",
       "3  2016-03  Belgium  Anti-Semitic hate crime  Violent attacks against people   \n",
       "4  2016-11  Belgium  Anti-Semitic hate crime                         Threats   \n",
       "\n",
       "                                           Source   \n",
       "0                                Antisemitisme.be  \\\n",
       "1                                Antisemitisme.be   \n",
       "2  Anti-Defamation League (ADL), Antisemitisme.be   \n",
       "3                                Antisemitisme.be   \n",
       "4                                Antisemitisme.be   \n",
       "\n",
       "                                         Description  \n",
       "0  A man visibly identifiable as Jewish was pushe...  \n",
       "1  A man visibly identifiable as Jewish was chase...  \n",
       "2  Stones were thrown at people visibly identifia...  \n",
       "3  Stones were thrown at people visibly identifia...  \n",
       "4  Firecrackers were thrown at people visibly ide...  "
      ]
     },
     "execution_count": 14,
     "metadata": {},
     "output_type": "execute_result"
    }
   ],
   "source": [
    "df.head()"
   ]
  },
  {
   "cell_type": "markdown",
   "metadata": {},
   "source": [
    "# Things important to consider \n",
    "1/ i need to check if the anti christian hate crimes were perpetrated against non white ppl \n",
    "\n",
    "\n"
   ]
  },
  {
   "cell_type": "code",
   "execution_count": 15,
   "metadata": {},
   "outputs": [
    {
     "name": "stdout",
     "output_type": "stream",
     "text": [
      "Number of unique types of incidents: 6\n"
     ]
    }
   ],
   "source": [
    "num_types_of_incidents = df['Type of incident'].nunique()\n",
    "print(f\"Number of unique types of incidents: {num_types_of_incidents}\")"
   ]
  },
  {
   "cell_type": "code",
   "execution_count": 16,
   "metadata": {},
   "outputs": [
    {
     "name": "stdout",
     "output_type": "stream",
     "text": [
      "List of types of incidents:\n",
      "['Violent attacks against people' 'Threats' 'Attacks against property'\n",
      " 'Threats, Violent attacks against people'\n",
      " 'Attacks against property, Violent attacks against people'\n",
      " 'Attacks against property, Threats']\n"
     ]
    }
   ],
   "source": [
    "type_of_incidents = df['Type of incident'].unique()\n",
    "print(\"List of types of incidents:\")\n",
    "print(type_of_incidents)"
   ]
  },
  {
   "cell_type": "code",
   "execution_count": 17,
   "metadata": {},
   "outputs": [
    {
     "name": "stdout",
     "output_type": "stream",
     "text": [
      "The country with the most number of violent attacks against people is Russian Federation with 940 incidents.\n"
     ]
    }
   ],
   "source": [
    "# Filter the dataframe for incidents of type 'Violent attacks against people'\n",
    "violent_attacks_df = df[df['Type of incident'] == 'Violent attacks against people']\n",
    "\n",
    "# Count the occurrences for each country\n",
    "violent_attacks_per_country = violent_attacks_df['Country'].value_counts()\n",
    "\n",
    "# Find the country with the most number of violent attacks against people\n",
    "most_violent_attacks_country = violent_attacks_per_country.idxmax()\n",
    "most_violent_attacks_count = violent_attacks_per_country.max()\n",
    "\n",
    "print(f\"The country with the most number of violent attacks against people is {most_violent_attacks_country} with {most_violent_attacks_count} incidents.\")"
   ]
  },
  {
   "cell_type": "code",
   "execution_count": 18,
   "metadata": {},
   "outputs": [
    {
     "name": "stdout",
     "output_type": "stream",
     "text": [
      "Number of violent attacks against people per country:\n",
      "Country\n",
      "Italy          681\n",
      "Germany        543\n",
      "Spain          441\n",
      "Austria        327\n",
      "Switzerland    237\n",
      "France         220\n",
      "Netherlands     83\n",
      "Belgium         70\n",
      "Portugal        32\n",
      "Name: count, dtype: int64\n"
     ]
    }
   ],
   "source": [
    "# Filter the dataframe for incidents of type 'Violent attacks against people'\n",
    "violent_attacks_df = df[df['Type of incident'] == 'Violent attacks against people']\n",
    "\n",
    "# Filter for the specified countries\n",
    "countries_of_interest = ['France', 'Italy', 'Spain', 'Portugal', 'Germany', 'Belgium', 'Austria', 'Switzerland', 'Netherlands']\n",
    "violent_attacks_df = violent_attacks_df[violent_attacks_df['Country'].isin(countries_of_interest)]\n",
    "\n",
    "# Count the occurrences of violent attacks for each specified country\n",
    "violent_attacks_per_country = violent_attacks_df['Country'].value_counts()\n",
    "\n",
    "print(\"Number of violent attacks against people per country:\")\n",
    "print(violent_attacks_per_country)"
   ]
  },
  {
   "cell_type": "code",
   "execution_count": 19,
   "metadata": {},
   "outputs": [
    {
     "name": "stdout",
     "output_type": "stream",
     "text": [
      "Number of threats per country:\n",
      "Country\n",
      "Germany        344\n",
      "Italy          248\n",
      "Netherlands    240\n",
      "Spain          199\n",
      "Switzerland    141\n",
      "France         127\n",
      "Austria        120\n",
      "Belgium         49\n",
      "Portugal        26\n",
      "Name: count, dtype: int64\n"
     ]
    }
   ],
   "source": [
    "# Filter the dataframe for incidents of type 'Threats'\n",
    "threats_df = df[df['Type of incident'] == 'Threats']\n",
    "\n",
    "# Filter for the specified countries\n",
    "countries_of_interest = ['France', 'Italy', 'Spain', 'Portugal', 'Germany', 'Belgium', 'Austria', 'Switzerland', 'Netherlands']\n",
    "threats_df = threats_df[threats_df['Country'].isin(countries_of_interest)]\n",
    "\n",
    "# Count the occurrences of threats for each specified country\n",
    "threats_per_country = threats_df['Country'].value_counts()\n",
    "\n",
    "print(\"Number of threats per country:\")\n",
    "print(threats_per_country)"
   ]
  },
  {
   "cell_type": "code",
   "execution_count": 20,
   "metadata": {},
   "outputs": [
    {
     "data": {
      "text/plain": [
       "Country    \n",
       "Germany        2028\n",
       "Italy          1629\n",
       "France         1405\n",
       "Spain          1286\n",
       "Austria         926\n",
       "Netherlands     567\n",
       "Switzerland     525\n",
       "Belgium         230\n",
       "Portugal         71\n",
       "Denmark          46\n",
       "Name: count, dtype: int64"
      ]
     },
     "execution_count": 20,
     "metadata": {},
     "output_type": "execute_result"
    }
   ],
   "source": [
    "countries_of_interest = ['France', 'Italy', 'Spain', 'Portugal', 'Germany', 'Belgium', 'Austria', 'Switzerland', 'Netherlands', 'Denmark']\n",
    "filtered_df = df[df['Country'].isin(countries_of_interest)]\n",
    "filtered_df.value_counts(['Country'])\n"
   ]
  },
  {
   "cell_type": "code",
   "execution_count": 21,
   "metadata": {},
   "outputs": [
    {
     "data": {
      "text/html": [
       "<div>\n",
       "<style scoped>\n",
       "    .dataframe tbody tr th:only-of-type {\n",
       "        vertical-align: middle;\n",
       "    }\n",
       "\n",
       "    .dataframe tbody tr th {\n",
       "        vertical-align: top;\n",
       "    }\n",
       "\n",
       "    .dataframe thead th {\n",
       "        text-align: right;\n",
       "    }\n",
       "</style>\n",
       "<table border=\"1\" class=\"dataframe\">\n",
       "  <thead>\n",
       "    <tr style=\"text-align: right;\">\n",
       "      <th></th>\n",
       "      <th>Date</th>\n",
       "      <th>Country</th>\n",
       "      <th>Bias motivations</th>\n",
       "      <th>Type of incident</th>\n",
       "      <th>Source</th>\n",
       "      <th>Description</th>\n",
       "      <th>Year</th>\n",
       "      <th>Month</th>\n",
       "    </tr>\n",
       "  </thead>\n",
       "  <tbody>\n",
       "    <tr>\n",
       "      <th>0</th>\n",
       "      <td>2016-11-01</td>\n",
       "      <td>Belgium</td>\n",
       "      <td>Anti-Semitic hate crime</td>\n",
       "      <td>Violent attacks against people</td>\n",
       "      <td>Antisemitisme.be</td>\n",
       "      <td>A man visibly identifiable as Jewish was pushe...</td>\n",
       "      <td>2016.0</td>\n",
       "      <td>11.0</td>\n",
       "    </tr>\n",
       "    <tr>\n",
       "      <th>1</th>\n",
       "      <td>2016-11-01</td>\n",
       "      <td>Belgium</td>\n",
       "      <td>Anti-Semitic hate crime</td>\n",
       "      <td>Threats</td>\n",
       "      <td>Antisemitisme.be</td>\n",
       "      <td>A man visibly identifiable as Jewish was chase...</td>\n",
       "      <td>2016.0</td>\n",
       "      <td>11.0</td>\n",
       "    </tr>\n",
       "    <tr>\n",
       "      <th>2</th>\n",
       "      <td>2016-03-01</td>\n",
       "      <td>Belgium</td>\n",
       "      <td>Anti-Semitic hate crime</td>\n",
       "      <td>Violent attacks against people</td>\n",
       "      <td>Anti-Defamation League (ADL), Antisemitisme.be</td>\n",
       "      <td>Stones were thrown at people visibly identifia...</td>\n",
       "      <td>2016.0</td>\n",
       "      <td>3.0</td>\n",
       "    </tr>\n",
       "    <tr>\n",
       "      <th>3</th>\n",
       "      <td>2016-03-01</td>\n",
       "      <td>Belgium</td>\n",
       "      <td>Anti-Semitic hate crime</td>\n",
       "      <td>Violent attacks against people</td>\n",
       "      <td>Antisemitisme.be</td>\n",
       "      <td>Stones were thrown at people visibly identifia...</td>\n",
       "      <td>2016.0</td>\n",
       "      <td>3.0</td>\n",
       "    </tr>\n",
       "    <tr>\n",
       "      <th>4</th>\n",
       "      <td>2016-11-01</td>\n",
       "      <td>Belgium</td>\n",
       "      <td>Anti-Semitic hate crime</td>\n",
       "      <td>Threats</td>\n",
       "      <td>Antisemitisme.be</td>\n",
       "      <td>Firecrackers were thrown at people visibly ide...</td>\n",
       "      <td>2016.0</td>\n",
       "      <td>11.0</td>\n",
       "    </tr>\n",
       "  </tbody>\n",
       "</table>\n",
       "</div>"
      ],
      "text/plain": [
       "        Date  Country         Bias motivations   \n",
       "0 2016-11-01  Belgium  Anti-Semitic hate crime  \\\n",
       "1 2016-11-01  Belgium  Anti-Semitic hate crime   \n",
       "2 2016-03-01  Belgium  Anti-Semitic hate crime   \n",
       "3 2016-03-01  Belgium  Anti-Semitic hate crime   \n",
       "4 2016-11-01  Belgium  Anti-Semitic hate crime   \n",
       "\n",
       "                 Type of incident   \n",
       "0  Violent attacks against people  \\\n",
       "1                         Threats   \n",
       "2  Violent attacks against people   \n",
       "3  Violent attacks against people   \n",
       "4                         Threats   \n",
       "\n",
       "                                           Source   \n",
       "0                                Antisemitisme.be  \\\n",
       "1                                Antisemitisme.be   \n",
       "2  Anti-Defamation League (ADL), Antisemitisme.be   \n",
       "3                                Antisemitisme.be   \n",
       "4                                Antisemitisme.be   \n",
       "\n",
       "                                         Description    Year  Month  \n",
       "0  A man visibly identifiable as Jewish was pushe...  2016.0   11.0  \n",
       "1  A man visibly identifiable as Jewish was chase...  2016.0   11.0  \n",
       "2  Stones were thrown at people visibly identifia...  2016.0    3.0  \n",
       "3  Stones were thrown at people visibly identifia...  2016.0    3.0  \n",
       "4  Firecrackers were thrown at people visibly ide...  2016.0   11.0  "
      ]
     },
     "execution_count": 21,
     "metadata": {},
     "output_type": "execute_result"
    }
   ],
   "source": [
    "# Convert the 'Date' column to datetime format\n",
    "df['Date'] = pd.to_datetime(df['Date'], errors='coerce')\n",
    "\n",
    "# Extract year and month into separate columns\n",
    "df['Year'] = df['Date'].dt.year\n",
    "df['Month'] = df['Date'].dt.month\n",
    "\n",
    "# Display the first few rows to verify the changes\n",
    "df.head()"
   ]
  },
  {
   "cell_type": "markdown",
   "metadata": {},
   "source": [
    "what i have seen so far :\n",
    "- i need to check carrefully if the crimes against chrstians are agaisnt refugees or non white if yes i will put it as racist xenophobic\n",
    "- i wanna keep the ones that are touching someone directly not \"something stolen\" or \"tag\"\n",
    "- i will focus only on Bias motivations :                                                                                                \n",
    "Anti-Muslim hate crime                                                                                                      \n",
    "Anti-LGBTI hate crime                                                                                                       \n",
    "Anti-Semitic hate crime                                                                                                     \n",
    "Racist and xenophobic hate crime                                                                                            \n",
    "\n",
    "The rest i will drop \n",
    "\n",
    "- still need to think about taking all of those bias and group by for germany and drop other countries \n",
    "- check into trends of threats and violent attacks \n",
    "- i need to combine incidents too DONE\n",
    "- also need to combine bias \n",
    "- i need to understand a lil bit more the descriptions so i can combine bias\n"
   ]
  },
  {
   "cell_type": "code",
   "execution_count": 22,
   "metadata": {},
   "outputs": [
    {
     "name": "stdout",
     "output_type": "stream",
     "text": [
      "Number of each type of incident:\n",
      "Type of incident\n",
      "Attacks against property                                    12073\n",
      "Violent attacks against people                               9069\n",
      "Threats                                                      6269\n",
      "Threats, Violent attacks against people                         4\n",
      "Attacks against property, Violent attacks against people        1\n",
      "Attacks against property, Threats                               1\n",
      "Name: count, dtype: int64\n"
     ]
    }
   ],
   "source": [
    "# Count the occurrences of each type of incident\n",
    "incident_counts = df['Type of incident'].value_counts()\n",
    "\n",
    "print(\"Number of each type of incident:\")\n",
    "print(incident_counts)"
   ]
  },
  {
   "cell_type": "code",
   "execution_count": 23,
   "metadata": {},
   "outputs": [
    {
     "name": "stdout",
     "output_type": "stream",
     "text": [
      "Number of each type of incident:\n",
      "Type of incident\n",
      "Attacks against property          12074\n",
      "Violent attacks against people     9074\n",
      "Threats                            6269\n",
      "Name: count, dtype: int64\n"
     ]
    }
   ],
   "source": [
    "# Replace specific combined incident types with the desired categories\n",
    "df['Type of incident'] = df['Type of incident'].replace({\n",
    "    'Attacks against property, Threats': 'Attacks against property',\n",
    "    'Threats, Violent attacks against people': 'Violent attacks against people',\n",
    "    'Attacks against property, Violent attacks against people': 'Violent attacks against people'\n",
    "})\n",
    "\n",
    "# Count the occurrences of each type of incident after the replacements\n",
    "incident_counts = df['Type of incident'].value_counts()\n",
    "\n",
    "print(\"Number of each type of incident:\")\n",
    "print(incident_counts)"
   ]
  },
  {
   "cell_type": "code",
   "execution_count": 24,
   "metadata": {
    "vscode": {
     "languageId": "ruby"
    }
   },
   "outputs": [
    {
     "name": "stdout",
     "output_type": "stream",
     "text": [
      "Number of violent attacks against people related to each bias motivation:\n",
      "Bias motivations\n",
      "Anti-LGBTI hate crime                                                                                      3060\n",
      "Racist and xenophobic hate crime                                                                           2537\n",
      "Anti-Semitic hate crime                                                                                     739\n",
      "Anti-Muslim hate crime                                                                                      666\n",
      "Anti-Christian hate crime                                                                                   548\n",
      "Gender-based hate crime, Anti-LGBTI hate crime                                                              357\n",
      "Racist and xenophobic hate crime, Anti-Muslim hate crime                                                    283\n",
      "Gender-based hate crime                                                                                     203\n",
      "Anti-Roma hate crime                                                                                        195\n",
      "Racist and xenophobic hate crime, Anti-LGBTI hate crime                                                      82\n",
      "Racist and xenophobic hate crime, Gender-based hate crime                                                    56\n",
      "Anti-Muslim hate crime, Gender-based hate crime                                                              50\n",
      "Disability hate crime                                                                                        43\n",
      "Racist and xenophobic hate crime, Gender-based hate crime, Anti-LGBTI hate crime                             40\n",
      "Racist and xenophobic hate crime, Anti-Semitic hate crime                                                    31\n",
      "Racist and xenophobic hate crime, Anti-Roma hate crime                                                       29\n",
      "Racist and xenophobic hate crime, Anti-Muslim hate crime, Gender-based hate crime                            25\n",
      "Racist and xenophobic hate crime, Disability hate crime                                                      14\n",
      "Disability hate crime, Anti-LGBTI hate crime                                                                 13\n",
      "Racist and xenophobic hate crime, Anti-Christian hate crime                                                  12\n",
      "Other hate crime based on religion or belief                                                                 11\n",
      "Racist and xenophobic hate crime, Other hate crime based on religion or belief                                9\n",
      "Anti-Semitic hate crime, Gender-based hate crime                                                              9\n",
      "Anti-Semitic hate crime, Anti-LGBTI hate crime                                                                7\n",
      "Disability hate crime, Gender-based hate crime, Anti-LGBTI hate crime                                         6\n",
      "Anti-Roma hate crime, Disability hate crime                                                                   5\n",
      "Anti-Christian hate crime, Anti-LGBTI hate crime                                                              4\n",
      "Racist and xenophobic hate crime, Anti-Roma hate crime, Gender-based hate crime                               4\n",
      "Anti-Roma hate crime, Gender-based hate crime                                                                 4\n",
      "Anti-Roma hate crime, Anti-Muslim hate crime                                                                  4\n",
      "Disability hate crime, Gender-based hate crime                                                                3\n",
      "Racist and xenophobic hate crime, Anti-Semitic hate crime, Anti-LGBTI hate crime                              3\n",
      "Anti-Roma hate crime, Anti-LGBTI hate crime                                                                   3\n",
      "Anti-Semitic hate crime, Disability hate crime                                                                3\n",
      "Anti-Semitic hate crime, Anti-Christian hate crime                                                            2\n",
      "Anti-Muslim hate crime, Disability hate crime                                                                 2\n",
      "Anti-Christian hate crime, Gender-based hate crime                                                            2\n",
      "Anti-Muslim hate crime, Anti-LGBTI hate crime                                                                 2\n",
      "Racist and xenophobic hate crime, Disability hate crime, Anti-LGBTI hate crime                                2\n",
      "Racist and xenophobic hate crime, Anti-Roma hate crime, Anti-Semitic hate crime                               1\n",
      "Racist and xenophobic hate crime, Disability hate crime, Gender-based hate crime, Anti-LGBTI hate crime       1\n",
      "Other hate crime based on religion or belief, Gender-based hate crime, Anti-LGBTI hate crime                  1\n",
      "Anti-Roma hate crime, Gender-based hate crime, Anti-LGBTI hate crime                                          1\n",
      "Racist and xenophobic hate crime, Anti-Muslim hate crime, Disability hate crime                               1\n",
      "Anti-Roma hate crime, Anti-Semitic hate crime                                                                 1\n",
      "Name: count, dtype: int64\n"
     ]
    }
   ],
   "source": [
    "# Filter the dataframe for incidents of type 'Violent attacks against people'\n",
    "violent_attacks_df = df[df['Type of incident'] == 'Violent attacks against people']\n",
    "\n",
    "# Count the occurrences of each bias motivation for violent attacks\n",
    "violent_attacks_bias_counts = violent_attacks_df['Bias motivations'].value_counts()\n",
    "\n",
    "print(\"Number of violent attacks against people related to each bias motivation:\")\n",
    "print(violent_attacks_bias_counts)"
   ]
  },
  {
   "cell_type": "code",
   "execution_count": 25,
   "metadata": {
    "vscode": {
     "languageId": "ruby"
    }
   },
   "outputs": [
    {
     "name": "stdout",
     "output_type": "stream",
     "text": [
      "Bias Combined\n",
      "Religious-related hate                                                                                                      8668\n",
      "Racist and xenophobic hate crime                                                                                            6655\n",
      "Anti-Christian hate crime                                                                                                   5075\n",
      "Gender and Sexual Orientation-based hate                                                                                    4807\n",
      "Racist and xenophobic hate crime, Anti-Muslim hate crime                                                                     696\n",
      "                                                                                                                            ... \n",
      "Racist and xenophobic hate crime, Anti-Roma hate crime, Anti-Semitic hate crime, Anti-LGBTI hate crime                         1\n",
      "Anti-Roma hate crime, Anti-Semitic hate crime, Anti-LGBTI hate crime                                                           1\n",
      "Anti-Semitic hate crime, Anti-Muslim hate crime, Anti-Christian hate crime, Other hate crime based on religion or belief       1\n",
      "Racist and xenophobic hate crime, Anti-Muslim hate crime, Disability hate crime                                                1\n",
      "Anti-Semitic hate crime, Disability hate crime, Anti-LGBTI hate crime                                                          1\n",
      "Name: count, Length: 63, dtype: int64\n"
     ]
    }
   ],
   "source": [
    "# Create a new column for the combined categories\n",
    "df['Bias Combined'] = df['Bias motivations'].replace({\n",
    "    'Anti-Muslim hate crime': 'Religious-related hate',\n",
    "    'Anti-Semitic hate crime': 'Religious-related hate',\n",
    "    'Anti-Roma hate crime': 'Racist and xenophobic hate crime',\n",
    "    'Anti-LGBTI hate crime': 'Gender and Sexual Orientation-based hate',\n",
    "    'Gender-based hate crime': 'Gender and Sexual Orientation-based hate'\n",
    "})\n",
    "\n",
    "# If you have combinations of multiple categories, map those too\n",
    "df['Bias Combined'] = df['Bias Combined'].replace({\n",
    "    'Anti-LGBTI hate crime, Gender-based hate crime': 'Gender and Sexual Orientation-based hate',\n",
    "    'Anti-Roma hate crime, Anti-Muslim hate crime': 'Religious-related hate',\n",
    "    'Racist and xenophobic hate crime, Anti-Roma hate crime': 'Religious-related hate',\n",
    "    'Racist and xenophobic hate crime, Anti-Semitic hate crime': 'Religious-related hate',\n",
    "    'racist and xenophobic hate crime, Anti-Muslim hate crime': 'Religious-related hate',\n",
    "    'racist and xenophobic hate crime, Anti-Muslim hate crime, Anti-Roma hate crime': 'Religious-related hate',\n",
    "    'racist and xenophobic hate crime, Anti-Muslim hate crime, Anti-Semitic hate crime': 'Religious-related hate',\n",
    "    'racist and xenophobic hate crime, Anti-Semitic hate crime, Anti-Roma hate crime': 'Religious-related hate'\n",
    "})\n",
    "\n",
    "# Group by the new 'Bias Combined' column to get the combined counts\n",
    "combined_counts = df['Bias Combined'].value_counts()\n",
    "\n",
    "# Display the combined counts\n",
    "print(combined_counts)"
   ]
  }
 ],
 "metadata": {
  "kernelspec": {
   "display_name": ".venv",
   "language": "python",
   "name": "python3"
  },
  "language_info": {
   "codemirror_mode": {
    "name": "ipython",
    "version": 3
   },
   "file_extension": ".py",
   "mimetype": "text/x-python",
   "name": "python",
   "nbconvert_exporter": "python",
   "pygments_lexer": "ipython3",
   "version": "3.11.3"
  }
 },
 "nbformat": 4,
 "nbformat_minor": 2
}
