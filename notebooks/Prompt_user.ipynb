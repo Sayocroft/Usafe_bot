{
 "cells": [
  {
   "cell_type": "code",
   "execution_count": 1,
   "metadata": {},
   "outputs": [],
   "source": [
    "from langchain.prompts.prompt import PromptTemplate"
   ]
  },
  {
   "cell_type": "code",
   "execution_count": 2,
   "metadata": {},
   "outputs": [],
   "source": [
    " prompt_string = \"\"\"\n",
    "    Usafe ChatBot Guide:\n",
    "\n",
    "    Initial Introduction:\n",
    "    Introduce Usafe to the user. Explain that their information is confidential and encourage them to share what hate crime happened to them. Ensure the message is supportive and non-judgmental because they must be traumatized. Don't be too long, be concise and to the point.\n",
    "\n",
    "    Fallback Response:\n",
    "    Provide a supportive fallback response if the user’s input is unclear or doesn’t clearly indicate a hate crime. Acknowledge their trust, ask for additional information, and offer general guidance if needed.\n",
    "    Add that if they are unsure, they can ask for more information or help from a human. Explain you are a bot and sometimes you don't grasp the full context.\n",
    "\n",
    "    Experience Acknowledgment:\n",
    "    Acknowledge the user's experience empathetically. Based on the input crime type, describe the type of hate crime they may have experienced: {hate_crime_definitions}. Offer the user options (as a clickable list) for next steps, such as reporting the crime, understanding their rights, connecting with local support, or requesting additional information.\n",
    "\n",
    "    Reporting a Hate Crime:\n",
    "    Explain the process of reporting a {crime_type} at a Berlin police station. Include the German definitions of a hate crime: {how_to_report_a_crime}, and provide step-by-step instructions to help the user file a report. Tailor the response with relevant information based on provided hate crime definitions and reporting guidelines.\n",
    "\n",
    "    Understanding Rights:\n",
    "    Explain the user’s rights based on the type of hate crime they reported. Include relevant laws and protections that apply in Germany: {law_definitions}. Tailor the information based on the crime type and provided legal definitions.\n",
    "\n",
    "    Supportive Resources:\n",
    "    Provide a list of resources for support, including counseling, legal aid, and local community groups: {supportive_resources}. Emphasize confidentiality and offer clear, accessible options to meet the user's needs.\n",
    "\n",
    "    Communication Style:\n",
    "    Ensure a direct, empathetic approach in all responses, prioritizing concise, supportive, and practical guidance. They should feel heard, understood, and empowered to take the next steps in addressing their experience as trauma survivors.\n",
    "    \"\"\""
   ]
  },
  {
   "cell_type": "code",
   "execution_count": 3,
   "metadata": {},
   "outputs": [],
   "source": [
    "\n",
    "def generate_user_prompt(crime_type, hate_crime_definitions, law_definitions, supportive_resources, how_to_report_a_crime):\n",
    "\n",
    "    # Create a prompt template\n",
    "    prompt_template = PromptTemplate(\n",
    "        input_variables=[\"crime_type\", \"hate_crime_definitions\", \"law_definitions\", \"supportive_resources\", \"how_to_report_a_crime\"],\n",
    "        template=prompt_string\n",
    "    )\n",
    "\n",
    "    # Create a personalized prompt for the user\n",
    "    formatted_prompt = prompt_template.format(\n",
    "        crime_type=crime_type,\n",
    "        hate_crime_definitions=hate_crime_definitions,\n",
    "        law_definitions=law_definitions,\n",
    "        supportive_resources=supportive_resources,\n",
    "        how_to_report_a_crime=how_to_report_a_crime\n",
    "    )\n",
    "\n",
    "    # Save output as a text document\n",
    "    filename = f\"/Users/sayo/personal_projects/Usafe_bot/data/usafe_prompt.txt\"\n",
    "    with open(filename, 'w') as file:\n",
    "        file.write(formatted_prompt)"
   ]
  },
  {
   "cell_type": "code",
   "execution_count": 4,
   "metadata": {},
   "outputs": [],
   "source": [
    "# Function to collect user input\n",
    "def collect_user_input():\n",
    "    crime_type = \"gender-based\"  # Example crime type\n",
    "    hate_crime_definitions = \"Gender-based hate crime involves discrimination or violence directed at individuals based on gender identity or sexual orientation.\"\n",
    "    law_definitions = \"Legal protections and penalties for gender-based hate crimes in Germany include...\"\n",
    "    supportive_resources = \"Available support includes local LGBTQ+ organizations, mental health hotlines, and shelters.\"\n",
    "    how_to_report_a_crime = \"To report a gender-based hate crime, gather evidence, contact local law enforcement, and reach out to support organizations.\"\n",
    "    return crime_type, hate_crime_definitions, law_definitions, supportive_resources, how_to_report_a_crime\n",
    "\n",
    "# Main execution\n",
    "crime_type, hate_crime_definitions, law_definitions, supportive_resources, how_to_report_a_crime = collect_user_input()\n",
    "generate_user_prompt(crime_type, hate_crime_definitions, law_definitions, supportive_resources, how_to_report_a_crime)"
   ]
  }
 ],
 "metadata": {
  "kernelspec": {
   "display_name": ".venv",
   "language": "python",
   "name": "python3"
  },
  "language_info": {
   "codemirror_mode": {
    "name": "ipython",
    "version": 3
   },
   "file_extension": ".py",
   "mimetype": "text/x-python",
   "name": "python",
   "nbconvert_exporter": "python",
   "pygments_lexer": "ipython3",
   "version": "3.11.3"
  }
 },
 "nbformat": 4,
 "nbformat_minor": 2
}
